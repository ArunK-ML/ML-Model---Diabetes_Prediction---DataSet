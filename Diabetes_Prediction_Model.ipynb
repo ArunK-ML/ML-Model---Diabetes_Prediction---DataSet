{
  "nbformat": 4,
  "nbformat_minor": 0,
  "metadata": {
    "colab": {
      "provenance": [],
      "authorship_tag": "ABX9TyN5auPZTKX5keopKBYBXGhb",
      "include_colab_link": true
    },
    "kernelspec": {
      "name": "python3",
      "display_name": "Python 3"
    },
    "language_info": {
      "name": "python"
    }
  },
  "cells": [
    {
      "cell_type": "markdown",
      "metadata": {
        "id": "view-in-github",
        "colab_type": "text"
      },
      "source": [
        "<a href=\"https://colab.research.google.com/github/ArunK-ML/ML-Model---Diabetes_Prediction---DataSet/blob/main/Diabetes_Prediction_Model.ipynb\" target=\"_parent\"><img src=\"https://colab.research.google.com/assets/colab-badge.svg\" alt=\"Open In Colab\"/></a>"
      ]
    },
    {
      "cell_type": "code",
      "execution_count": 1,
      "metadata": {
        "id": "L4bcUWtZxnUv"
      },
      "outputs": [],
      "source": [
        "import pandas as pd"
      ]
    },
    {
      "cell_type": "code",
      "source": [
        "df = pd.read_csv(\"/content/diabetes_prediction_dataset.csv\")\n",
        "\n",
        "df"
      ],
      "metadata": {
        "colab": {
          "base_uri": "https://localhost:8080/",
          "height": 423
        },
        "id": "6PJMd2t7zwmX",
        "outputId": "4d81370b-c3bb-4386-9d5b-7d86cd72ca25"
      },
      "execution_count": 2,
      "outputs": [
        {
          "output_type": "execute_result",
          "data": {
            "text/plain": [
              "       gender   age  hypertension  heart_disease smoking_history    bmi  \\\n",
              "0      Female  80.0             0              1           never  25.19   \n",
              "1      Female  54.0             0              0         No Info  27.32   \n",
              "2        Male  28.0             0              0           never  27.32   \n",
              "3      Female  36.0             0              0         current  23.45   \n",
              "4        Male  76.0             1              1         current  20.14   \n",
              "...       ...   ...           ...            ...             ...    ...   \n",
              "99995  Female  80.0             0              0         No Info  27.32   \n",
              "99996  Female   2.0             0              0         No Info  17.37   \n",
              "99997    Male  66.0             0              0          former  27.83   \n",
              "99998  Female  24.0             0              0           never  35.42   \n",
              "99999  Female  57.0             0              0         current  22.43   \n",
              "\n",
              "       HbA1c_level  blood_glucose_level  diabetes  \n",
              "0              6.6                  140         0  \n",
              "1              6.6                   80         0  \n",
              "2              5.7                  158         0  \n",
              "3              5.0                  155         0  \n",
              "4              4.8                  155         0  \n",
              "...            ...                  ...       ...  \n",
              "99995          6.2                   90         0  \n",
              "99996          6.5                  100         0  \n",
              "99997          5.7                  155         0  \n",
              "99998          4.0                  100         0  \n",
              "99999          6.6                   90         0  \n",
              "\n",
              "[100000 rows x 9 columns]"
            ],
            "text/html": [
              "\n",
              "  <div id=\"df-934e053f-bd75-4485-854c-46b091c5fb67\" class=\"colab-df-container\">\n",
              "    <div>\n",
              "<style scoped>\n",
              "    .dataframe tbody tr th:only-of-type {\n",
              "        vertical-align: middle;\n",
              "    }\n",
              "\n",
              "    .dataframe tbody tr th {\n",
              "        vertical-align: top;\n",
              "    }\n",
              "\n",
              "    .dataframe thead th {\n",
              "        text-align: right;\n",
              "    }\n",
              "</style>\n",
              "<table border=\"1\" class=\"dataframe\">\n",
              "  <thead>\n",
              "    <tr style=\"text-align: right;\">\n",
              "      <th></th>\n",
              "      <th>gender</th>\n",
              "      <th>age</th>\n",
              "      <th>hypertension</th>\n",
              "      <th>heart_disease</th>\n",
              "      <th>smoking_history</th>\n",
              "      <th>bmi</th>\n",
              "      <th>HbA1c_level</th>\n",
              "      <th>blood_glucose_level</th>\n",
              "      <th>diabetes</th>\n",
              "    </tr>\n",
              "  </thead>\n",
              "  <tbody>\n",
              "    <tr>\n",
              "      <th>0</th>\n",
              "      <td>Female</td>\n",
              "      <td>80.0</td>\n",
              "      <td>0</td>\n",
              "      <td>1</td>\n",
              "      <td>never</td>\n",
              "      <td>25.19</td>\n",
              "      <td>6.6</td>\n",
              "      <td>140</td>\n",
              "      <td>0</td>\n",
              "    </tr>\n",
              "    <tr>\n",
              "      <th>1</th>\n",
              "      <td>Female</td>\n",
              "      <td>54.0</td>\n",
              "      <td>0</td>\n",
              "      <td>0</td>\n",
              "      <td>No Info</td>\n",
              "      <td>27.32</td>\n",
              "      <td>6.6</td>\n",
              "      <td>80</td>\n",
              "      <td>0</td>\n",
              "    </tr>\n",
              "    <tr>\n",
              "      <th>2</th>\n",
              "      <td>Male</td>\n",
              "      <td>28.0</td>\n",
              "      <td>0</td>\n",
              "      <td>0</td>\n",
              "      <td>never</td>\n",
              "      <td>27.32</td>\n",
              "      <td>5.7</td>\n",
              "      <td>158</td>\n",
              "      <td>0</td>\n",
              "    </tr>\n",
              "    <tr>\n",
              "      <th>3</th>\n",
              "      <td>Female</td>\n",
              "      <td>36.0</td>\n",
              "      <td>0</td>\n",
              "      <td>0</td>\n",
              "      <td>current</td>\n",
              "      <td>23.45</td>\n",
              "      <td>5.0</td>\n",
              "      <td>155</td>\n",
              "      <td>0</td>\n",
              "    </tr>\n",
              "    <tr>\n",
              "      <th>4</th>\n",
              "      <td>Male</td>\n",
              "      <td>76.0</td>\n",
              "      <td>1</td>\n",
              "      <td>1</td>\n",
              "      <td>current</td>\n",
              "      <td>20.14</td>\n",
              "      <td>4.8</td>\n",
              "      <td>155</td>\n",
              "      <td>0</td>\n",
              "    </tr>\n",
              "    <tr>\n",
              "      <th>...</th>\n",
              "      <td>...</td>\n",
              "      <td>...</td>\n",
              "      <td>...</td>\n",
              "      <td>...</td>\n",
              "      <td>...</td>\n",
              "      <td>...</td>\n",
              "      <td>...</td>\n",
              "      <td>...</td>\n",
              "      <td>...</td>\n",
              "    </tr>\n",
              "    <tr>\n",
              "      <th>99995</th>\n",
              "      <td>Female</td>\n",
              "      <td>80.0</td>\n",
              "      <td>0</td>\n",
              "      <td>0</td>\n",
              "      <td>No Info</td>\n",
              "      <td>27.32</td>\n",
              "      <td>6.2</td>\n",
              "      <td>90</td>\n",
              "      <td>0</td>\n",
              "    </tr>\n",
              "    <tr>\n",
              "      <th>99996</th>\n",
              "      <td>Female</td>\n",
              "      <td>2.0</td>\n",
              "      <td>0</td>\n",
              "      <td>0</td>\n",
              "      <td>No Info</td>\n",
              "      <td>17.37</td>\n",
              "      <td>6.5</td>\n",
              "      <td>100</td>\n",
              "      <td>0</td>\n",
              "    </tr>\n",
              "    <tr>\n",
              "      <th>99997</th>\n",
              "      <td>Male</td>\n",
              "      <td>66.0</td>\n",
              "      <td>0</td>\n",
              "      <td>0</td>\n",
              "      <td>former</td>\n",
              "      <td>27.83</td>\n",
              "      <td>5.7</td>\n",
              "      <td>155</td>\n",
              "      <td>0</td>\n",
              "    </tr>\n",
              "    <tr>\n",
              "      <th>99998</th>\n",
              "      <td>Female</td>\n",
              "      <td>24.0</td>\n",
              "      <td>0</td>\n",
              "      <td>0</td>\n",
              "      <td>never</td>\n",
              "      <td>35.42</td>\n",
              "      <td>4.0</td>\n",
              "      <td>100</td>\n",
              "      <td>0</td>\n",
              "    </tr>\n",
              "    <tr>\n",
              "      <th>99999</th>\n",
              "      <td>Female</td>\n",
              "      <td>57.0</td>\n",
              "      <td>0</td>\n",
              "      <td>0</td>\n",
              "      <td>current</td>\n",
              "      <td>22.43</td>\n",
              "      <td>6.6</td>\n",
              "      <td>90</td>\n",
              "      <td>0</td>\n",
              "    </tr>\n",
              "  </tbody>\n",
              "</table>\n",
              "<p>100000 rows × 9 columns</p>\n",
              "</div>\n",
              "    <div class=\"colab-df-buttons\">\n",
              "\n",
              "  <div class=\"colab-df-container\">\n",
              "    <button class=\"colab-df-convert\" onclick=\"convertToInteractive('df-934e053f-bd75-4485-854c-46b091c5fb67')\"\n",
              "            title=\"Convert this dataframe to an interactive table.\"\n",
              "            style=\"display:none;\">\n",
              "\n",
              "  <svg xmlns=\"http://www.w3.org/2000/svg\" height=\"24px\" viewBox=\"0 -960 960 960\">\n",
              "    <path d=\"M120-120v-720h720v720H120Zm60-500h600v-160H180v160Zm220 220h160v-160H400v160Zm0 220h160v-160H400v160ZM180-400h160v-160H180v160Zm440 0h160v-160H620v160ZM180-180h160v-160H180v160Zm440 0h160v-160H620v160Z\"/>\n",
              "  </svg>\n",
              "    </button>\n",
              "\n",
              "  <style>\n",
              "    .colab-df-container {\n",
              "      display:flex;\n",
              "      gap: 12px;\n",
              "    }\n",
              "\n",
              "    .colab-df-convert {\n",
              "      background-color: #E8F0FE;\n",
              "      border: none;\n",
              "      border-radius: 50%;\n",
              "      cursor: pointer;\n",
              "      display: none;\n",
              "      fill: #1967D2;\n",
              "      height: 32px;\n",
              "      padding: 0 0 0 0;\n",
              "      width: 32px;\n",
              "    }\n",
              "\n",
              "    .colab-df-convert:hover {\n",
              "      background-color: #E2EBFA;\n",
              "      box-shadow: 0px 1px 2px rgba(60, 64, 67, 0.3), 0px 1px 3px 1px rgba(60, 64, 67, 0.15);\n",
              "      fill: #174EA6;\n",
              "    }\n",
              "\n",
              "    .colab-df-buttons div {\n",
              "      margin-bottom: 4px;\n",
              "    }\n",
              "\n",
              "    [theme=dark] .colab-df-convert {\n",
              "      background-color: #3B4455;\n",
              "      fill: #D2E3FC;\n",
              "    }\n",
              "\n",
              "    [theme=dark] .colab-df-convert:hover {\n",
              "      background-color: #434B5C;\n",
              "      box-shadow: 0px 1px 3px 1px rgba(0, 0, 0, 0.15);\n",
              "      filter: drop-shadow(0px 1px 2px rgba(0, 0, 0, 0.3));\n",
              "      fill: #FFFFFF;\n",
              "    }\n",
              "  </style>\n",
              "\n",
              "    <script>\n",
              "      const buttonEl =\n",
              "        document.querySelector('#df-934e053f-bd75-4485-854c-46b091c5fb67 button.colab-df-convert');\n",
              "      buttonEl.style.display =\n",
              "        google.colab.kernel.accessAllowed ? 'block' : 'none';\n",
              "\n",
              "      async function convertToInteractive(key) {\n",
              "        const element = document.querySelector('#df-934e053f-bd75-4485-854c-46b091c5fb67');\n",
              "        const dataTable =\n",
              "          await google.colab.kernel.invokeFunction('convertToInteractive',\n",
              "                                                    [key], {});\n",
              "        if (!dataTable) return;\n",
              "\n",
              "        const docLinkHtml = 'Like what you see? Visit the ' +\n",
              "          '<a target=\"_blank\" href=https://colab.research.google.com/notebooks/data_table.ipynb>data table notebook</a>'\n",
              "          + ' to learn more about interactive tables.';\n",
              "        element.innerHTML = '';\n",
              "        dataTable['output_type'] = 'display_data';\n",
              "        await google.colab.output.renderOutput(dataTable, element);\n",
              "        const docLink = document.createElement('div');\n",
              "        docLink.innerHTML = docLinkHtml;\n",
              "        element.appendChild(docLink);\n",
              "      }\n",
              "    </script>\n",
              "  </div>\n",
              "\n",
              "\n",
              "    <div id=\"df-68ebcf67-31f6-4b3f-a042-671ed1b99d40\">\n",
              "      <button class=\"colab-df-quickchart\" onclick=\"quickchart('df-68ebcf67-31f6-4b3f-a042-671ed1b99d40')\"\n",
              "                title=\"Suggest charts\"\n",
              "                style=\"display:none;\">\n",
              "\n",
              "<svg xmlns=\"http://www.w3.org/2000/svg\" height=\"24px\"viewBox=\"0 0 24 24\"\n",
              "     width=\"24px\">\n",
              "    <g>\n",
              "        <path d=\"M19 3H5c-1.1 0-2 .9-2 2v14c0 1.1.9 2 2 2h14c1.1 0 2-.9 2-2V5c0-1.1-.9-2-2-2zM9 17H7v-7h2v7zm4 0h-2V7h2v10zm4 0h-2v-4h2v4z\"/>\n",
              "    </g>\n",
              "</svg>\n",
              "      </button>\n",
              "\n",
              "<style>\n",
              "  .colab-df-quickchart {\n",
              "      --bg-color: #E8F0FE;\n",
              "      --fill-color: #1967D2;\n",
              "      --hover-bg-color: #E2EBFA;\n",
              "      --hover-fill-color: #174EA6;\n",
              "      --disabled-fill-color: #AAA;\n",
              "      --disabled-bg-color: #DDD;\n",
              "  }\n",
              "\n",
              "  [theme=dark] .colab-df-quickchart {\n",
              "      --bg-color: #3B4455;\n",
              "      --fill-color: #D2E3FC;\n",
              "      --hover-bg-color: #434B5C;\n",
              "      --hover-fill-color: #FFFFFF;\n",
              "      --disabled-bg-color: #3B4455;\n",
              "      --disabled-fill-color: #666;\n",
              "  }\n",
              "\n",
              "  .colab-df-quickchart {\n",
              "    background-color: var(--bg-color);\n",
              "    border: none;\n",
              "    border-radius: 50%;\n",
              "    cursor: pointer;\n",
              "    display: none;\n",
              "    fill: var(--fill-color);\n",
              "    height: 32px;\n",
              "    padding: 0;\n",
              "    width: 32px;\n",
              "  }\n",
              "\n",
              "  .colab-df-quickchart:hover {\n",
              "    background-color: var(--hover-bg-color);\n",
              "    box-shadow: 0 1px 2px rgba(60, 64, 67, 0.3), 0 1px 3px 1px rgba(60, 64, 67, 0.15);\n",
              "    fill: var(--button-hover-fill-color);\n",
              "  }\n",
              "\n",
              "  .colab-df-quickchart-complete:disabled,\n",
              "  .colab-df-quickchart-complete:disabled:hover {\n",
              "    background-color: var(--disabled-bg-color);\n",
              "    fill: var(--disabled-fill-color);\n",
              "    box-shadow: none;\n",
              "  }\n",
              "\n",
              "  .colab-df-spinner {\n",
              "    border: 2px solid var(--fill-color);\n",
              "    border-color: transparent;\n",
              "    border-bottom-color: var(--fill-color);\n",
              "    animation:\n",
              "      spin 1s steps(1) infinite;\n",
              "  }\n",
              "\n",
              "  @keyframes spin {\n",
              "    0% {\n",
              "      border-color: transparent;\n",
              "      border-bottom-color: var(--fill-color);\n",
              "      border-left-color: var(--fill-color);\n",
              "    }\n",
              "    20% {\n",
              "      border-color: transparent;\n",
              "      border-left-color: var(--fill-color);\n",
              "      border-top-color: var(--fill-color);\n",
              "    }\n",
              "    30% {\n",
              "      border-color: transparent;\n",
              "      border-left-color: var(--fill-color);\n",
              "      border-top-color: var(--fill-color);\n",
              "      border-right-color: var(--fill-color);\n",
              "    }\n",
              "    40% {\n",
              "      border-color: transparent;\n",
              "      border-right-color: var(--fill-color);\n",
              "      border-top-color: var(--fill-color);\n",
              "    }\n",
              "    60% {\n",
              "      border-color: transparent;\n",
              "      border-right-color: var(--fill-color);\n",
              "    }\n",
              "    80% {\n",
              "      border-color: transparent;\n",
              "      border-right-color: var(--fill-color);\n",
              "      border-bottom-color: var(--fill-color);\n",
              "    }\n",
              "    90% {\n",
              "      border-color: transparent;\n",
              "      border-bottom-color: var(--fill-color);\n",
              "    }\n",
              "  }\n",
              "</style>\n",
              "\n",
              "      <script>\n",
              "        async function quickchart(key) {\n",
              "          const quickchartButtonEl =\n",
              "            document.querySelector('#' + key + ' button');\n",
              "          quickchartButtonEl.disabled = true;  // To prevent multiple clicks.\n",
              "          quickchartButtonEl.classList.add('colab-df-spinner');\n",
              "          try {\n",
              "            const charts = await google.colab.kernel.invokeFunction(\n",
              "                'suggestCharts', [key], {});\n",
              "          } catch (error) {\n",
              "            console.error('Error during call to suggestCharts:', error);\n",
              "          }\n",
              "          quickchartButtonEl.classList.remove('colab-df-spinner');\n",
              "          quickchartButtonEl.classList.add('colab-df-quickchart-complete');\n",
              "        }\n",
              "        (() => {\n",
              "          let quickchartButtonEl =\n",
              "            document.querySelector('#df-68ebcf67-31f6-4b3f-a042-671ed1b99d40 button');\n",
              "          quickchartButtonEl.style.display =\n",
              "            google.colab.kernel.accessAllowed ? 'block' : 'none';\n",
              "        })();\n",
              "      </script>\n",
              "    </div>\n",
              "\n",
              "  <div id=\"id_4f54aaa9-2777-4dff-b236-eefba0a58435\">\n",
              "    <style>\n",
              "      .colab-df-generate {\n",
              "        background-color: #E8F0FE;\n",
              "        border: none;\n",
              "        border-radius: 50%;\n",
              "        cursor: pointer;\n",
              "        display: none;\n",
              "        fill: #1967D2;\n",
              "        height: 32px;\n",
              "        padding: 0 0 0 0;\n",
              "        width: 32px;\n",
              "      }\n",
              "\n",
              "      .colab-df-generate:hover {\n",
              "        background-color: #E2EBFA;\n",
              "        box-shadow: 0px 1px 2px rgba(60, 64, 67, 0.3), 0px 1px 3px 1px rgba(60, 64, 67, 0.15);\n",
              "        fill: #174EA6;\n",
              "      }\n",
              "\n",
              "      [theme=dark] .colab-df-generate {\n",
              "        background-color: #3B4455;\n",
              "        fill: #D2E3FC;\n",
              "      }\n",
              "\n",
              "      [theme=dark] .colab-df-generate:hover {\n",
              "        background-color: #434B5C;\n",
              "        box-shadow: 0px 1px 3px 1px rgba(0, 0, 0, 0.15);\n",
              "        filter: drop-shadow(0px 1px 2px rgba(0, 0, 0, 0.3));\n",
              "        fill: #FFFFFF;\n",
              "      }\n",
              "    </style>\n",
              "    <button class=\"colab-df-generate\" onclick=\"generateWithVariable('df')\"\n",
              "            title=\"Generate code using this dataframe.\"\n",
              "            style=\"display:none;\">\n",
              "\n",
              "  <svg xmlns=\"http://www.w3.org/2000/svg\" height=\"24px\"viewBox=\"0 0 24 24\"\n",
              "       width=\"24px\">\n",
              "    <path d=\"M7,19H8.4L18.45,9,17,7.55,7,17.6ZM5,21V16.75L18.45,3.32a2,2,0,0,1,2.83,0l1.4,1.43a1.91,1.91,0,0,1,.58,1.4,1.91,1.91,0,0,1-.58,1.4L9.25,21ZM18.45,9,17,7.55Zm-12,3A5.31,5.31,0,0,0,4.9,8.1,5.31,5.31,0,0,0,1,6.5,5.31,5.31,0,0,0,4.9,4.9,5.31,5.31,0,0,0,6.5,1,5.31,5.31,0,0,0,8.1,4.9,5.31,5.31,0,0,0,12,6.5,5.46,5.46,0,0,0,6.5,12Z\"/>\n",
              "  </svg>\n",
              "    </button>\n",
              "    <script>\n",
              "      (() => {\n",
              "      const buttonEl =\n",
              "        document.querySelector('#id_4f54aaa9-2777-4dff-b236-eefba0a58435 button.colab-df-generate');\n",
              "      buttonEl.style.display =\n",
              "        google.colab.kernel.accessAllowed ? 'block' : 'none';\n",
              "\n",
              "      buttonEl.onclick = () => {\n",
              "        google.colab.notebook.generateWithVariable('df');\n",
              "      }\n",
              "      })();\n",
              "    </script>\n",
              "  </div>\n",
              "\n",
              "    </div>\n",
              "  </div>\n"
            ],
            "application/vnd.google.colaboratory.intrinsic+json": {
              "type": "dataframe",
              "variable_name": "df",
              "summary": "{\n  \"name\": \"df\",\n  \"rows\": 100000,\n  \"fields\": [\n    {\n      \"column\": \"gender\",\n      \"properties\": {\n        \"dtype\": \"category\",\n        \"num_unique_values\": 3,\n        \"samples\": [\n          \"Female\",\n          \"Male\",\n          \"Other\"\n        ],\n        \"semantic_type\": \"\",\n        \"description\": \"\"\n      }\n    },\n    {\n      \"column\": \"age\",\n      \"properties\": {\n        \"dtype\": \"number\",\n        \"std\": 22.51683987161513,\n        \"min\": 0.08,\n        \"max\": 80.0,\n        \"num_unique_values\": 102,\n        \"samples\": [\n          29.0,\n          39.0,\n          16.0\n        ],\n        \"semantic_type\": \"\",\n        \"description\": \"\"\n      }\n    },\n    {\n      \"column\": \"hypertension\",\n      \"properties\": {\n        \"dtype\": \"number\",\n        \"std\": 0,\n        \"min\": 0,\n        \"max\": 1,\n        \"num_unique_values\": 2,\n        \"samples\": [\n          1,\n          0\n        ],\n        \"semantic_type\": \"\",\n        \"description\": \"\"\n      }\n    },\n    {\n      \"column\": \"heart_disease\",\n      \"properties\": {\n        \"dtype\": \"number\",\n        \"std\": 0,\n        \"min\": 0,\n        \"max\": 1,\n        \"num_unique_values\": 2,\n        \"samples\": [\n          0,\n          1\n        ],\n        \"semantic_type\": \"\",\n        \"description\": \"\"\n      }\n    },\n    {\n      \"column\": \"smoking_history\",\n      \"properties\": {\n        \"dtype\": \"category\",\n        \"num_unique_values\": 6,\n        \"samples\": [\n          \"never\",\n          \"No Info\"\n        ],\n        \"semantic_type\": \"\",\n        \"description\": \"\"\n      }\n    },\n    {\n      \"column\": \"bmi\",\n      \"properties\": {\n        \"dtype\": \"number\",\n        \"std\": 6.636783416649581,\n        \"min\": 10.01,\n        \"max\": 95.69,\n        \"num_unique_values\": 4247,\n        \"samples\": [\n          53.27,\n          32.33\n        ],\n        \"semantic_type\": \"\",\n        \"description\": \"\"\n      }\n    },\n    {\n      \"column\": \"HbA1c_level\",\n      \"properties\": {\n        \"dtype\": \"number\",\n        \"std\": 1.0706720918832282,\n        \"min\": 3.5,\n        \"max\": 9.0,\n        \"num_unique_values\": 18,\n        \"samples\": [\n          6.6,\n          5.7\n        ],\n        \"semantic_type\": \"\",\n        \"description\": \"\"\n      }\n    },\n    {\n      \"column\": \"blood_glucose_level\",\n      \"properties\": {\n        \"dtype\": \"number\",\n        \"std\": 40,\n        \"min\": 80,\n        \"max\": 300,\n        \"num_unique_values\": 18,\n        \"samples\": [\n          140,\n          80\n        ],\n        \"semantic_type\": \"\",\n        \"description\": \"\"\n      }\n    },\n    {\n      \"column\": \"diabetes\",\n      \"properties\": {\n        \"dtype\": \"number\",\n        \"std\": 0,\n        \"min\": 0,\n        \"max\": 1,\n        \"num_unique_values\": 2,\n        \"samples\": [\n          1,\n          0\n        ],\n        \"semantic_type\": \"\",\n        \"description\": \"\"\n      }\n    }\n  ]\n}"
            }
          },
          "metadata": {},
          "execution_count": 2
        }
      ]
    },
    {
      "cell_type": "code",
      "source": [
        "df.info()"
      ],
      "metadata": {
        "colab": {
          "base_uri": "https://localhost:8080/"
        },
        "id": "-ELxxSRK0ibW",
        "outputId": "a6bb5c3c-c744-4d2d-bcb5-ea75bac68e57"
      },
      "execution_count": 3,
      "outputs": [
        {
          "output_type": "stream",
          "name": "stdout",
          "text": [
            "<class 'pandas.core.frame.DataFrame'>\n",
            "RangeIndex: 100000 entries, 0 to 99999\n",
            "Data columns (total 9 columns):\n",
            " #   Column               Non-Null Count   Dtype  \n",
            "---  ------               --------------   -----  \n",
            " 0   gender               100000 non-null  object \n",
            " 1   age                  100000 non-null  float64\n",
            " 2   hypertension         100000 non-null  int64  \n",
            " 3   heart_disease        100000 non-null  int64  \n",
            " 4   smoking_history      100000 non-null  object \n",
            " 5   bmi                  100000 non-null  float64\n",
            " 6   HbA1c_level          100000 non-null  float64\n",
            " 7   blood_glucose_level  100000 non-null  int64  \n",
            " 8   diabetes             100000 non-null  int64  \n",
            "dtypes: float64(3), int64(4), object(2)\n",
            "memory usage: 6.9+ MB\n"
          ]
        }
      ]
    },
    {
      "cell_type": "code",
      "source": [
        "# Count Duplicate entry\n",
        "\n",
        "df.duplicated().sum()"
      ],
      "metadata": {
        "colab": {
          "base_uri": "https://localhost:8080/"
        },
        "id": "7-VdbgMu4DE9",
        "outputId": "04131b6e-1d92-4ca6-80b6-9ed5f5cec5a9"
      },
      "execution_count": 4,
      "outputs": [
        {
          "output_type": "execute_result",
          "data": {
            "text/plain": [
              "np.int64(3854)"
            ]
          },
          "metadata": {},
          "execution_count": 4
        }
      ]
    },
    {
      "cell_type": "code",
      "source": [
        "# dropping duplicates\n",
        "\n",
        "df.drop_duplicates(keep = \"last\",inplace = True)\n",
        "\n",
        "df"
      ],
      "metadata": {
        "colab": {
          "base_uri": "https://localhost:8080/",
          "height": 423
        },
        "id": "DzgSzrQV4IwF",
        "outputId": "db1a6439-d3b1-4166-846a-28d77d364f3a"
      },
      "execution_count": 5,
      "outputs": [
        {
          "output_type": "execute_result",
          "data": {
            "text/plain": [
              "       gender   age  hypertension  heart_disease smoking_history    bmi  \\\n",
              "0      Female  80.0             0              1           never  25.19   \n",
              "2        Male  28.0             0              0           never  27.32   \n",
              "3      Female  36.0             0              0         current  23.45   \n",
              "4        Male  76.0             1              1         current  20.14   \n",
              "5      Female  20.0             0              0           never  27.32   \n",
              "...       ...   ...           ...            ...             ...    ...   \n",
              "99995  Female  80.0             0              0         No Info  27.32   \n",
              "99996  Female   2.0             0              0         No Info  17.37   \n",
              "99997    Male  66.0             0              0          former  27.83   \n",
              "99998  Female  24.0             0              0           never  35.42   \n",
              "99999  Female  57.0             0              0         current  22.43   \n",
              "\n",
              "       HbA1c_level  blood_glucose_level  diabetes  \n",
              "0              6.6                  140         0  \n",
              "2              5.7                  158         0  \n",
              "3              5.0                  155         0  \n",
              "4              4.8                  155         0  \n",
              "5              6.6                   85         0  \n",
              "...            ...                  ...       ...  \n",
              "99995          6.2                   90         0  \n",
              "99996          6.5                  100         0  \n",
              "99997          5.7                  155         0  \n",
              "99998          4.0                  100         0  \n",
              "99999          6.6                   90         0  \n",
              "\n",
              "[96146 rows x 9 columns]"
            ],
            "text/html": [
              "\n",
              "  <div id=\"df-71cddc89-fa56-469a-b41f-d1bd8334f764\" class=\"colab-df-container\">\n",
              "    <div>\n",
              "<style scoped>\n",
              "    .dataframe tbody tr th:only-of-type {\n",
              "        vertical-align: middle;\n",
              "    }\n",
              "\n",
              "    .dataframe tbody tr th {\n",
              "        vertical-align: top;\n",
              "    }\n",
              "\n",
              "    .dataframe thead th {\n",
              "        text-align: right;\n",
              "    }\n",
              "</style>\n",
              "<table border=\"1\" class=\"dataframe\">\n",
              "  <thead>\n",
              "    <tr style=\"text-align: right;\">\n",
              "      <th></th>\n",
              "      <th>gender</th>\n",
              "      <th>age</th>\n",
              "      <th>hypertension</th>\n",
              "      <th>heart_disease</th>\n",
              "      <th>smoking_history</th>\n",
              "      <th>bmi</th>\n",
              "      <th>HbA1c_level</th>\n",
              "      <th>blood_glucose_level</th>\n",
              "      <th>diabetes</th>\n",
              "    </tr>\n",
              "  </thead>\n",
              "  <tbody>\n",
              "    <tr>\n",
              "      <th>0</th>\n",
              "      <td>Female</td>\n",
              "      <td>80.0</td>\n",
              "      <td>0</td>\n",
              "      <td>1</td>\n",
              "      <td>never</td>\n",
              "      <td>25.19</td>\n",
              "      <td>6.6</td>\n",
              "      <td>140</td>\n",
              "      <td>0</td>\n",
              "    </tr>\n",
              "    <tr>\n",
              "      <th>2</th>\n",
              "      <td>Male</td>\n",
              "      <td>28.0</td>\n",
              "      <td>0</td>\n",
              "      <td>0</td>\n",
              "      <td>never</td>\n",
              "      <td>27.32</td>\n",
              "      <td>5.7</td>\n",
              "      <td>158</td>\n",
              "      <td>0</td>\n",
              "    </tr>\n",
              "    <tr>\n",
              "      <th>3</th>\n",
              "      <td>Female</td>\n",
              "      <td>36.0</td>\n",
              "      <td>0</td>\n",
              "      <td>0</td>\n",
              "      <td>current</td>\n",
              "      <td>23.45</td>\n",
              "      <td>5.0</td>\n",
              "      <td>155</td>\n",
              "      <td>0</td>\n",
              "    </tr>\n",
              "    <tr>\n",
              "      <th>4</th>\n",
              "      <td>Male</td>\n",
              "      <td>76.0</td>\n",
              "      <td>1</td>\n",
              "      <td>1</td>\n",
              "      <td>current</td>\n",
              "      <td>20.14</td>\n",
              "      <td>4.8</td>\n",
              "      <td>155</td>\n",
              "      <td>0</td>\n",
              "    </tr>\n",
              "    <tr>\n",
              "      <th>5</th>\n",
              "      <td>Female</td>\n",
              "      <td>20.0</td>\n",
              "      <td>0</td>\n",
              "      <td>0</td>\n",
              "      <td>never</td>\n",
              "      <td>27.32</td>\n",
              "      <td>6.6</td>\n",
              "      <td>85</td>\n",
              "      <td>0</td>\n",
              "    </tr>\n",
              "    <tr>\n",
              "      <th>...</th>\n",
              "      <td>...</td>\n",
              "      <td>...</td>\n",
              "      <td>...</td>\n",
              "      <td>...</td>\n",
              "      <td>...</td>\n",
              "      <td>...</td>\n",
              "      <td>...</td>\n",
              "      <td>...</td>\n",
              "      <td>...</td>\n",
              "    </tr>\n",
              "    <tr>\n",
              "      <th>99995</th>\n",
              "      <td>Female</td>\n",
              "      <td>80.0</td>\n",
              "      <td>0</td>\n",
              "      <td>0</td>\n",
              "      <td>No Info</td>\n",
              "      <td>27.32</td>\n",
              "      <td>6.2</td>\n",
              "      <td>90</td>\n",
              "      <td>0</td>\n",
              "    </tr>\n",
              "    <tr>\n",
              "      <th>99996</th>\n",
              "      <td>Female</td>\n",
              "      <td>2.0</td>\n",
              "      <td>0</td>\n",
              "      <td>0</td>\n",
              "      <td>No Info</td>\n",
              "      <td>17.37</td>\n",
              "      <td>6.5</td>\n",
              "      <td>100</td>\n",
              "      <td>0</td>\n",
              "    </tr>\n",
              "    <tr>\n",
              "      <th>99997</th>\n",
              "      <td>Male</td>\n",
              "      <td>66.0</td>\n",
              "      <td>0</td>\n",
              "      <td>0</td>\n",
              "      <td>former</td>\n",
              "      <td>27.83</td>\n",
              "      <td>5.7</td>\n",
              "      <td>155</td>\n",
              "      <td>0</td>\n",
              "    </tr>\n",
              "    <tr>\n",
              "      <th>99998</th>\n",
              "      <td>Female</td>\n",
              "      <td>24.0</td>\n",
              "      <td>0</td>\n",
              "      <td>0</td>\n",
              "      <td>never</td>\n",
              "      <td>35.42</td>\n",
              "      <td>4.0</td>\n",
              "      <td>100</td>\n",
              "      <td>0</td>\n",
              "    </tr>\n",
              "    <tr>\n",
              "      <th>99999</th>\n",
              "      <td>Female</td>\n",
              "      <td>57.0</td>\n",
              "      <td>0</td>\n",
              "      <td>0</td>\n",
              "      <td>current</td>\n",
              "      <td>22.43</td>\n",
              "      <td>6.6</td>\n",
              "      <td>90</td>\n",
              "      <td>0</td>\n",
              "    </tr>\n",
              "  </tbody>\n",
              "</table>\n",
              "<p>96146 rows × 9 columns</p>\n",
              "</div>\n",
              "    <div class=\"colab-df-buttons\">\n",
              "\n",
              "  <div class=\"colab-df-container\">\n",
              "    <button class=\"colab-df-convert\" onclick=\"convertToInteractive('df-71cddc89-fa56-469a-b41f-d1bd8334f764')\"\n",
              "            title=\"Convert this dataframe to an interactive table.\"\n",
              "            style=\"display:none;\">\n",
              "\n",
              "  <svg xmlns=\"http://www.w3.org/2000/svg\" height=\"24px\" viewBox=\"0 -960 960 960\">\n",
              "    <path d=\"M120-120v-720h720v720H120Zm60-500h600v-160H180v160Zm220 220h160v-160H400v160Zm0 220h160v-160H400v160ZM180-400h160v-160H180v160Zm440 0h160v-160H620v160ZM180-180h160v-160H180v160Zm440 0h160v-160H620v160Z\"/>\n",
              "  </svg>\n",
              "    </button>\n",
              "\n",
              "  <style>\n",
              "    .colab-df-container {\n",
              "      display:flex;\n",
              "      gap: 12px;\n",
              "    }\n",
              "\n",
              "    .colab-df-convert {\n",
              "      background-color: #E8F0FE;\n",
              "      border: none;\n",
              "      border-radius: 50%;\n",
              "      cursor: pointer;\n",
              "      display: none;\n",
              "      fill: #1967D2;\n",
              "      height: 32px;\n",
              "      padding: 0 0 0 0;\n",
              "      width: 32px;\n",
              "    }\n",
              "\n",
              "    .colab-df-convert:hover {\n",
              "      background-color: #E2EBFA;\n",
              "      box-shadow: 0px 1px 2px rgba(60, 64, 67, 0.3), 0px 1px 3px 1px rgba(60, 64, 67, 0.15);\n",
              "      fill: #174EA6;\n",
              "    }\n",
              "\n",
              "    .colab-df-buttons div {\n",
              "      margin-bottom: 4px;\n",
              "    }\n",
              "\n",
              "    [theme=dark] .colab-df-convert {\n",
              "      background-color: #3B4455;\n",
              "      fill: #D2E3FC;\n",
              "    }\n",
              "\n",
              "    [theme=dark] .colab-df-convert:hover {\n",
              "      background-color: #434B5C;\n",
              "      box-shadow: 0px 1px 3px 1px rgba(0, 0, 0, 0.15);\n",
              "      filter: drop-shadow(0px 1px 2px rgba(0, 0, 0, 0.3));\n",
              "      fill: #FFFFFF;\n",
              "    }\n",
              "  </style>\n",
              "\n",
              "    <script>\n",
              "      const buttonEl =\n",
              "        document.querySelector('#df-71cddc89-fa56-469a-b41f-d1bd8334f764 button.colab-df-convert');\n",
              "      buttonEl.style.display =\n",
              "        google.colab.kernel.accessAllowed ? 'block' : 'none';\n",
              "\n",
              "      async function convertToInteractive(key) {\n",
              "        const element = document.querySelector('#df-71cddc89-fa56-469a-b41f-d1bd8334f764');\n",
              "        const dataTable =\n",
              "          await google.colab.kernel.invokeFunction('convertToInteractive',\n",
              "                                                    [key], {});\n",
              "        if (!dataTable) return;\n",
              "\n",
              "        const docLinkHtml = 'Like what you see? Visit the ' +\n",
              "          '<a target=\"_blank\" href=https://colab.research.google.com/notebooks/data_table.ipynb>data table notebook</a>'\n",
              "          + ' to learn more about interactive tables.';\n",
              "        element.innerHTML = '';\n",
              "        dataTable['output_type'] = 'display_data';\n",
              "        await google.colab.output.renderOutput(dataTable, element);\n",
              "        const docLink = document.createElement('div');\n",
              "        docLink.innerHTML = docLinkHtml;\n",
              "        element.appendChild(docLink);\n",
              "      }\n",
              "    </script>\n",
              "  </div>\n",
              "\n",
              "\n",
              "    <div id=\"df-e7ce0e35-339c-46ff-90e6-9371cfbf5492\">\n",
              "      <button class=\"colab-df-quickchart\" onclick=\"quickchart('df-e7ce0e35-339c-46ff-90e6-9371cfbf5492')\"\n",
              "                title=\"Suggest charts\"\n",
              "                style=\"display:none;\">\n",
              "\n",
              "<svg xmlns=\"http://www.w3.org/2000/svg\" height=\"24px\"viewBox=\"0 0 24 24\"\n",
              "     width=\"24px\">\n",
              "    <g>\n",
              "        <path d=\"M19 3H5c-1.1 0-2 .9-2 2v14c0 1.1.9 2 2 2h14c1.1 0 2-.9 2-2V5c0-1.1-.9-2-2-2zM9 17H7v-7h2v7zm4 0h-2V7h2v10zm4 0h-2v-4h2v4z\"/>\n",
              "    </g>\n",
              "</svg>\n",
              "      </button>\n",
              "\n",
              "<style>\n",
              "  .colab-df-quickchart {\n",
              "      --bg-color: #E8F0FE;\n",
              "      --fill-color: #1967D2;\n",
              "      --hover-bg-color: #E2EBFA;\n",
              "      --hover-fill-color: #174EA6;\n",
              "      --disabled-fill-color: #AAA;\n",
              "      --disabled-bg-color: #DDD;\n",
              "  }\n",
              "\n",
              "  [theme=dark] .colab-df-quickchart {\n",
              "      --bg-color: #3B4455;\n",
              "      --fill-color: #D2E3FC;\n",
              "      --hover-bg-color: #434B5C;\n",
              "      --hover-fill-color: #FFFFFF;\n",
              "      --disabled-bg-color: #3B4455;\n",
              "      --disabled-fill-color: #666;\n",
              "  }\n",
              "\n",
              "  .colab-df-quickchart {\n",
              "    background-color: var(--bg-color);\n",
              "    border: none;\n",
              "    border-radius: 50%;\n",
              "    cursor: pointer;\n",
              "    display: none;\n",
              "    fill: var(--fill-color);\n",
              "    height: 32px;\n",
              "    padding: 0;\n",
              "    width: 32px;\n",
              "  }\n",
              "\n",
              "  .colab-df-quickchart:hover {\n",
              "    background-color: var(--hover-bg-color);\n",
              "    box-shadow: 0 1px 2px rgba(60, 64, 67, 0.3), 0 1px 3px 1px rgba(60, 64, 67, 0.15);\n",
              "    fill: var(--button-hover-fill-color);\n",
              "  }\n",
              "\n",
              "  .colab-df-quickchart-complete:disabled,\n",
              "  .colab-df-quickchart-complete:disabled:hover {\n",
              "    background-color: var(--disabled-bg-color);\n",
              "    fill: var(--disabled-fill-color);\n",
              "    box-shadow: none;\n",
              "  }\n",
              "\n",
              "  .colab-df-spinner {\n",
              "    border: 2px solid var(--fill-color);\n",
              "    border-color: transparent;\n",
              "    border-bottom-color: var(--fill-color);\n",
              "    animation:\n",
              "      spin 1s steps(1) infinite;\n",
              "  }\n",
              "\n",
              "  @keyframes spin {\n",
              "    0% {\n",
              "      border-color: transparent;\n",
              "      border-bottom-color: var(--fill-color);\n",
              "      border-left-color: var(--fill-color);\n",
              "    }\n",
              "    20% {\n",
              "      border-color: transparent;\n",
              "      border-left-color: var(--fill-color);\n",
              "      border-top-color: var(--fill-color);\n",
              "    }\n",
              "    30% {\n",
              "      border-color: transparent;\n",
              "      border-left-color: var(--fill-color);\n",
              "      border-top-color: var(--fill-color);\n",
              "      border-right-color: var(--fill-color);\n",
              "    }\n",
              "    40% {\n",
              "      border-color: transparent;\n",
              "      border-right-color: var(--fill-color);\n",
              "      border-top-color: var(--fill-color);\n",
              "    }\n",
              "    60% {\n",
              "      border-color: transparent;\n",
              "      border-right-color: var(--fill-color);\n",
              "    }\n",
              "    80% {\n",
              "      border-color: transparent;\n",
              "      border-right-color: var(--fill-color);\n",
              "      border-bottom-color: var(--fill-color);\n",
              "    }\n",
              "    90% {\n",
              "      border-color: transparent;\n",
              "      border-bottom-color: var(--fill-color);\n",
              "    }\n",
              "  }\n",
              "</style>\n",
              "\n",
              "      <script>\n",
              "        async function quickchart(key) {\n",
              "          const quickchartButtonEl =\n",
              "            document.querySelector('#' + key + ' button');\n",
              "          quickchartButtonEl.disabled = true;  // To prevent multiple clicks.\n",
              "          quickchartButtonEl.classList.add('colab-df-spinner');\n",
              "          try {\n",
              "            const charts = await google.colab.kernel.invokeFunction(\n",
              "                'suggestCharts', [key], {});\n",
              "          } catch (error) {\n",
              "            console.error('Error during call to suggestCharts:', error);\n",
              "          }\n",
              "          quickchartButtonEl.classList.remove('colab-df-spinner');\n",
              "          quickchartButtonEl.classList.add('colab-df-quickchart-complete');\n",
              "        }\n",
              "        (() => {\n",
              "          let quickchartButtonEl =\n",
              "            document.querySelector('#df-e7ce0e35-339c-46ff-90e6-9371cfbf5492 button');\n",
              "          quickchartButtonEl.style.display =\n",
              "            google.colab.kernel.accessAllowed ? 'block' : 'none';\n",
              "        })();\n",
              "      </script>\n",
              "    </div>\n",
              "\n",
              "  <div id=\"id_bf6350d1-51cd-47f2-bc87-7f3190f8d786\">\n",
              "    <style>\n",
              "      .colab-df-generate {\n",
              "        background-color: #E8F0FE;\n",
              "        border: none;\n",
              "        border-radius: 50%;\n",
              "        cursor: pointer;\n",
              "        display: none;\n",
              "        fill: #1967D2;\n",
              "        height: 32px;\n",
              "        padding: 0 0 0 0;\n",
              "        width: 32px;\n",
              "      }\n",
              "\n",
              "      .colab-df-generate:hover {\n",
              "        background-color: #E2EBFA;\n",
              "        box-shadow: 0px 1px 2px rgba(60, 64, 67, 0.3), 0px 1px 3px 1px rgba(60, 64, 67, 0.15);\n",
              "        fill: #174EA6;\n",
              "      }\n",
              "\n",
              "      [theme=dark] .colab-df-generate {\n",
              "        background-color: #3B4455;\n",
              "        fill: #D2E3FC;\n",
              "      }\n",
              "\n",
              "      [theme=dark] .colab-df-generate:hover {\n",
              "        background-color: #434B5C;\n",
              "        box-shadow: 0px 1px 3px 1px rgba(0, 0, 0, 0.15);\n",
              "        filter: drop-shadow(0px 1px 2px rgba(0, 0, 0, 0.3));\n",
              "        fill: #FFFFFF;\n",
              "      }\n",
              "    </style>\n",
              "    <button class=\"colab-df-generate\" onclick=\"generateWithVariable('df')\"\n",
              "            title=\"Generate code using this dataframe.\"\n",
              "            style=\"display:none;\">\n",
              "\n",
              "  <svg xmlns=\"http://www.w3.org/2000/svg\" height=\"24px\"viewBox=\"0 0 24 24\"\n",
              "       width=\"24px\">\n",
              "    <path d=\"M7,19H8.4L18.45,9,17,7.55,7,17.6ZM5,21V16.75L18.45,3.32a2,2,0,0,1,2.83,0l1.4,1.43a1.91,1.91,0,0,1,.58,1.4,1.91,1.91,0,0,1-.58,1.4L9.25,21ZM18.45,9,17,7.55Zm-12,3A5.31,5.31,0,0,0,4.9,8.1,5.31,5.31,0,0,0,1,6.5,5.31,5.31,0,0,0,4.9,4.9,5.31,5.31,0,0,0,6.5,1,5.31,5.31,0,0,0,8.1,4.9,5.31,5.31,0,0,0,12,6.5,5.46,5.46,0,0,0,6.5,12Z\"/>\n",
              "  </svg>\n",
              "    </button>\n",
              "    <script>\n",
              "      (() => {\n",
              "      const buttonEl =\n",
              "        document.querySelector('#id_bf6350d1-51cd-47f2-bc87-7f3190f8d786 button.colab-df-generate');\n",
              "      buttonEl.style.display =\n",
              "        google.colab.kernel.accessAllowed ? 'block' : 'none';\n",
              "\n",
              "      buttonEl.onclick = () => {\n",
              "        google.colab.notebook.generateWithVariable('df');\n",
              "      }\n",
              "      })();\n",
              "    </script>\n",
              "  </div>\n",
              "\n",
              "    </div>\n",
              "  </div>\n"
            ],
            "application/vnd.google.colaboratory.intrinsic+json": {
              "type": "dataframe",
              "variable_name": "df",
              "summary": "{\n  \"name\": \"df\",\n  \"rows\": 96146,\n  \"fields\": [\n    {\n      \"column\": \"gender\",\n      \"properties\": {\n        \"dtype\": \"category\",\n        \"num_unique_values\": 3,\n        \"samples\": [\n          \"Female\",\n          \"Male\",\n          \"Other\"\n        ],\n        \"semantic_type\": \"\",\n        \"description\": \"\"\n      }\n    },\n    {\n      \"column\": \"age\",\n      \"properties\": {\n        \"dtype\": \"number\",\n        \"std\": 22.462947577418138,\n        \"min\": 0.08,\n        \"max\": 80.0,\n        \"num_unique_values\": 102,\n        \"samples\": [\n          29.0,\n          39.0,\n          16.0\n        ],\n        \"semantic_type\": \"\",\n        \"description\": \"\"\n      }\n    },\n    {\n      \"column\": \"hypertension\",\n      \"properties\": {\n        \"dtype\": \"number\",\n        \"std\": 0,\n        \"min\": 0,\n        \"max\": 1,\n        \"num_unique_values\": 2,\n        \"samples\": [\n          1,\n          0\n        ],\n        \"semantic_type\": \"\",\n        \"description\": \"\"\n      }\n    },\n    {\n      \"column\": \"heart_disease\",\n      \"properties\": {\n        \"dtype\": \"number\",\n        \"std\": 0,\n        \"min\": 0,\n        \"max\": 1,\n        \"num_unique_values\": 2,\n        \"samples\": [\n          0,\n          1\n        ],\n        \"semantic_type\": \"\",\n        \"description\": \"\"\n      }\n    },\n    {\n      \"column\": \"smoking_history\",\n      \"properties\": {\n        \"dtype\": \"category\",\n        \"num_unique_values\": 6,\n        \"samples\": [\n          \"never\",\n          \"current\"\n        ],\n        \"semantic_type\": \"\",\n        \"description\": \"\"\n      }\n    },\n    {\n      \"column\": \"bmi\",\n      \"properties\": {\n        \"dtype\": \"number\",\n        \"std\": 6.767715560481821,\n        \"min\": 10.01,\n        \"max\": 95.69,\n        \"num_unique_values\": 4247,\n        \"samples\": [\n          53.27,\n          32.33\n        ],\n        \"semantic_type\": \"\",\n        \"description\": \"\"\n      }\n    },\n    {\n      \"column\": \"HbA1c_level\",\n      \"properties\": {\n        \"dtype\": \"number\",\n        \"std\": 1.0732320256439414,\n        \"min\": 3.5,\n        \"max\": 9.0,\n        \"num_unique_values\": 18,\n        \"samples\": [\n          6.6,\n          5.7\n        ],\n        \"semantic_type\": \"\",\n        \"description\": \"\"\n      }\n    },\n    {\n      \"column\": \"blood_glucose_level\",\n      \"properties\": {\n        \"dtype\": \"number\",\n        \"std\": 40,\n        \"min\": 80,\n        \"max\": 300,\n        \"num_unique_values\": 18,\n        \"samples\": [\n          140,\n          158\n        ],\n        \"semantic_type\": \"\",\n        \"description\": \"\"\n      }\n    },\n    {\n      \"column\": \"diabetes\",\n      \"properties\": {\n        \"dtype\": \"number\",\n        \"std\": 0,\n        \"min\": 0,\n        \"max\": 1,\n        \"num_unique_values\": 2,\n        \"samples\": [\n          1,\n          0\n        ],\n        \"semantic_type\": \"\",\n        \"description\": \"\"\n      }\n    }\n  ]\n}"
            }
          },
          "metadata": {},
          "execution_count": 5
        }
      ]
    },
    {
      "cell_type": "code",
      "source": [
        "df[\"gender\"].unique()"
      ],
      "metadata": {
        "id": "1YoYxPGX0BSY",
        "colab": {
          "base_uri": "https://localhost:8080/"
        },
        "outputId": "b283012d-8e4b-4306-da8d-78345f2e3beb"
      },
      "execution_count": 6,
      "outputs": [
        {
          "output_type": "execute_result",
          "data": {
            "text/plain": [
              "array(['Female', 'Male', 'Other'], dtype=object)"
            ]
          },
          "metadata": {},
          "execution_count": 6
        }
      ]
    },
    {
      "cell_type": "code",
      "source": [
        "df[\"smoking_history\"].unique()"
      ],
      "metadata": {
        "colab": {
          "base_uri": "https://localhost:8080/"
        },
        "id": "ZtYplAop0fnO",
        "outputId": "6f3ff638-234c-4d71-ed7a-846970dd2676"
      },
      "execution_count": 7,
      "outputs": [
        {
          "output_type": "execute_result",
          "data": {
            "text/plain": [
              "array(['never', 'current', 'No Info', 'former', 'ever', 'not current'],\n",
              "      dtype=object)"
            ]
          },
          "metadata": {},
          "execution_count": 7
        }
      ]
    },
    {
      "cell_type": "code",
      "source": [
        "# Convert to binary classification: Class 2 = positive (0), others = negative (1)\n",
        "\n",
        "# To change the object into numbers based on ASCII value\n",
        "\n",
        "from sklearn.preprocessing import LabelEncoder\n",
        "\n",
        "code = LabelEncoder()\n",
        "\n",
        "for i in df.columns:\n",
        "  if df[i].dtype==\"object\":\n",
        "    df[i]= code.fit_transform(df[i]) # Encoding\n",
        "\n",
        "df"
      ],
      "metadata": {
        "colab": {
          "base_uri": "https://localhost:8080/",
          "height": 423
        },
        "id": "Y6_3OuCz0uYs",
        "outputId": "d08f1fa4-599a-4e7e-fcb3-e4c62e50bf1e"
      },
      "execution_count": 8,
      "outputs": [
        {
          "output_type": "execute_result",
          "data": {
            "text/plain": [
              "       gender   age  hypertension  heart_disease  smoking_history    bmi  \\\n",
              "0           0  80.0             0              1                4  25.19   \n",
              "2           1  28.0             0              0                4  27.32   \n",
              "3           0  36.0             0              0                1  23.45   \n",
              "4           1  76.0             1              1                1  20.14   \n",
              "5           0  20.0             0              0                4  27.32   \n",
              "...       ...   ...           ...            ...              ...    ...   \n",
              "99995       0  80.0             0              0                0  27.32   \n",
              "99996       0   2.0             0              0                0  17.37   \n",
              "99997       1  66.0             0              0                3  27.83   \n",
              "99998       0  24.0             0              0                4  35.42   \n",
              "99999       0  57.0             0              0                1  22.43   \n",
              "\n",
              "       HbA1c_level  blood_glucose_level  diabetes  \n",
              "0              6.6                  140         0  \n",
              "2              5.7                  158         0  \n",
              "3              5.0                  155         0  \n",
              "4              4.8                  155         0  \n",
              "5              6.6                   85         0  \n",
              "...            ...                  ...       ...  \n",
              "99995          6.2                   90         0  \n",
              "99996          6.5                  100         0  \n",
              "99997          5.7                  155         0  \n",
              "99998          4.0                  100         0  \n",
              "99999          6.6                   90         0  \n",
              "\n",
              "[96146 rows x 9 columns]"
            ],
            "text/html": [
              "\n",
              "  <div id=\"df-2373c7d4-3a1e-45a3-a0a7-7bef77cf1f28\" class=\"colab-df-container\">\n",
              "    <div>\n",
              "<style scoped>\n",
              "    .dataframe tbody tr th:only-of-type {\n",
              "        vertical-align: middle;\n",
              "    }\n",
              "\n",
              "    .dataframe tbody tr th {\n",
              "        vertical-align: top;\n",
              "    }\n",
              "\n",
              "    .dataframe thead th {\n",
              "        text-align: right;\n",
              "    }\n",
              "</style>\n",
              "<table border=\"1\" class=\"dataframe\">\n",
              "  <thead>\n",
              "    <tr style=\"text-align: right;\">\n",
              "      <th></th>\n",
              "      <th>gender</th>\n",
              "      <th>age</th>\n",
              "      <th>hypertension</th>\n",
              "      <th>heart_disease</th>\n",
              "      <th>smoking_history</th>\n",
              "      <th>bmi</th>\n",
              "      <th>HbA1c_level</th>\n",
              "      <th>blood_glucose_level</th>\n",
              "      <th>diabetes</th>\n",
              "    </tr>\n",
              "  </thead>\n",
              "  <tbody>\n",
              "    <tr>\n",
              "      <th>0</th>\n",
              "      <td>0</td>\n",
              "      <td>80.0</td>\n",
              "      <td>0</td>\n",
              "      <td>1</td>\n",
              "      <td>4</td>\n",
              "      <td>25.19</td>\n",
              "      <td>6.6</td>\n",
              "      <td>140</td>\n",
              "      <td>0</td>\n",
              "    </tr>\n",
              "    <tr>\n",
              "      <th>2</th>\n",
              "      <td>1</td>\n",
              "      <td>28.0</td>\n",
              "      <td>0</td>\n",
              "      <td>0</td>\n",
              "      <td>4</td>\n",
              "      <td>27.32</td>\n",
              "      <td>5.7</td>\n",
              "      <td>158</td>\n",
              "      <td>0</td>\n",
              "    </tr>\n",
              "    <tr>\n",
              "      <th>3</th>\n",
              "      <td>0</td>\n",
              "      <td>36.0</td>\n",
              "      <td>0</td>\n",
              "      <td>0</td>\n",
              "      <td>1</td>\n",
              "      <td>23.45</td>\n",
              "      <td>5.0</td>\n",
              "      <td>155</td>\n",
              "      <td>0</td>\n",
              "    </tr>\n",
              "    <tr>\n",
              "      <th>4</th>\n",
              "      <td>1</td>\n",
              "      <td>76.0</td>\n",
              "      <td>1</td>\n",
              "      <td>1</td>\n",
              "      <td>1</td>\n",
              "      <td>20.14</td>\n",
              "      <td>4.8</td>\n",
              "      <td>155</td>\n",
              "      <td>0</td>\n",
              "    </tr>\n",
              "    <tr>\n",
              "      <th>5</th>\n",
              "      <td>0</td>\n",
              "      <td>20.0</td>\n",
              "      <td>0</td>\n",
              "      <td>0</td>\n",
              "      <td>4</td>\n",
              "      <td>27.32</td>\n",
              "      <td>6.6</td>\n",
              "      <td>85</td>\n",
              "      <td>0</td>\n",
              "    </tr>\n",
              "    <tr>\n",
              "      <th>...</th>\n",
              "      <td>...</td>\n",
              "      <td>...</td>\n",
              "      <td>...</td>\n",
              "      <td>...</td>\n",
              "      <td>...</td>\n",
              "      <td>...</td>\n",
              "      <td>...</td>\n",
              "      <td>...</td>\n",
              "      <td>...</td>\n",
              "    </tr>\n",
              "    <tr>\n",
              "      <th>99995</th>\n",
              "      <td>0</td>\n",
              "      <td>80.0</td>\n",
              "      <td>0</td>\n",
              "      <td>0</td>\n",
              "      <td>0</td>\n",
              "      <td>27.32</td>\n",
              "      <td>6.2</td>\n",
              "      <td>90</td>\n",
              "      <td>0</td>\n",
              "    </tr>\n",
              "    <tr>\n",
              "      <th>99996</th>\n",
              "      <td>0</td>\n",
              "      <td>2.0</td>\n",
              "      <td>0</td>\n",
              "      <td>0</td>\n",
              "      <td>0</td>\n",
              "      <td>17.37</td>\n",
              "      <td>6.5</td>\n",
              "      <td>100</td>\n",
              "      <td>0</td>\n",
              "    </tr>\n",
              "    <tr>\n",
              "      <th>99997</th>\n",
              "      <td>1</td>\n",
              "      <td>66.0</td>\n",
              "      <td>0</td>\n",
              "      <td>0</td>\n",
              "      <td>3</td>\n",
              "      <td>27.83</td>\n",
              "      <td>5.7</td>\n",
              "      <td>155</td>\n",
              "      <td>0</td>\n",
              "    </tr>\n",
              "    <tr>\n",
              "      <th>99998</th>\n",
              "      <td>0</td>\n",
              "      <td>24.0</td>\n",
              "      <td>0</td>\n",
              "      <td>0</td>\n",
              "      <td>4</td>\n",
              "      <td>35.42</td>\n",
              "      <td>4.0</td>\n",
              "      <td>100</td>\n",
              "      <td>0</td>\n",
              "    </tr>\n",
              "    <tr>\n",
              "      <th>99999</th>\n",
              "      <td>0</td>\n",
              "      <td>57.0</td>\n",
              "      <td>0</td>\n",
              "      <td>0</td>\n",
              "      <td>1</td>\n",
              "      <td>22.43</td>\n",
              "      <td>6.6</td>\n",
              "      <td>90</td>\n",
              "      <td>0</td>\n",
              "    </tr>\n",
              "  </tbody>\n",
              "</table>\n",
              "<p>96146 rows × 9 columns</p>\n",
              "</div>\n",
              "    <div class=\"colab-df-buttons\">\n",
              "\n",
              "  <div class=\"colab-df-container\">\n",
              "    <button class=\"colab-df-convert\" onclick=\"convertToInteractive('df-2373c7d4-3a1e-45a3-a0a7-7bef77cf1f28')\"\n",
              "            title=\"Convert this dataframe to an interactive table.\"\n",
              "            style=\"display:none;\">\n",
              "\n",
              "  <svg xmlns=\"http://www.w3.org/2000/svg\" height=\"24px\" viewBox=\"0 -960 960 960\">\n",
              "    <path d=\"M120-120v-720h720v720H120Zm60-500h600v-160H180v160Zm220 220h160v-160H400v160Zm0 220h160v-160H400v160ZM180-400h160v-160H180v160Zm440 0h160v-160H620v160ZM180-180h160v-160H180v160Zm440 0h160v-160H620v160Z\"/>\n",
              "  </svg>\n",
              "    </button>\n",
              "\n",
              "  <style>\n",
              "    .colab-df-container {\n",
              "      display:flex;\n",
              "      gap: 12px;\n",
              "    }\n",
              "\n",
              "    .colab-df-convert {\n",
              "      background-color: #E8F0FE;\n",
              "      border: none;\n",
              "      border-radius: 50%;\n",
              "      cursor: pointer;\n",
              "      display: none;\n",
              "      fill: #1967D2;\n",
              "      height: 32px;\n",
              "      padding: 0 0 0 0;\n",
              "      width: 32px;\n",
              "    }\n",
              "\n",
              "    .colab-df-convert:hover {\n",
              "      background-color: #E2EBFA;\n",
              "      box-shadow: 0px 1px 2px rgba(60, 64, 67, 0.3), 0px 1px 3px 1px rgba(60, 64, 67, 0.15);\n",
              "      fill: #174EA6;\n",
              "    }\n",
              "\n",
              "    .colab-df-buttons div {\n",
              "      margin-bottom: 4px;\n",
              "    }\n",
              "\n",
              "    [theme=dark] .colab-df-convert {\n",
              "      background-color: #3B4455;\n",
              "      fill: #D2E3FC;\n",
              "    }\n",
              "\n",
              "    [theme=dark] .colab-df-convert:hover {\n",
              "      background-color: #434B5C;\n",
              "      box-shadow: 0px 1px 3px 1px rgba(0, 0, 0, 0.15);\n",
              "      filter: drop-shadow(0px 1px 2px rgba(0, 0, 0, 0.3));\n",
              "      fill: #FFFFFF;\n",
              "    }\n",
              "  </style>\n",
              "\n",
              "    <script>\n",
              "      const buttonEl =\n",
              "        document.querySelector('#df-2373c7d4-3a1e-45a3-a0a7-7bef77cf1f28 button.colab-df-convert');\n",
              "      buttonEl.style.display =\n",
              "        google.colab.kernel.accessAllowed ? 'block' : 'none';\n",
              "\n",
              "      async function convertToInteractive(key) {\n",
              "        const element = document.querySelector('#df-2373c7d4-3a1e-45a3-a0a7-7bef77cf1f28');\n",
              "        const dataTable =\n",
              "          await google.colab.kernel.invokeFunction('convertToInteractive',\n",
              "                                                    [key], {});\n",
              "        if (!dataTable) return;\n",
              "\n",
              "        const docLinkHtml = 'Like what you see? Visit the ' +\n",
              "          '<a target=\"_blank\" href=https://colab.research.google.com/notebooks/data_table.ipynb>data table notebook</a>'\n",
              "          + ' to learn more about interactive tables.';\n",
              "        element.innerHTML = '';\n",
              "        dataTable['output_type'] = 'display_data';\n",
              "        await google.colab.output.renderOutput(dataTable, element);\n",
              "        const docLink = document.createElement('div');\n",
              "        docLink.innerHTML = docLinkHtml;\n",
              "        element.appendChild(docLink);\n",
              "      }\n",
              "    </script>\n",
              "  </div>\n",
              "\n",
              "\n",
              "    <div id=\"df-2488a26d-003a-463a-886b-6503e90ecae1\">\n",
              "      <button class=\"colab-df-quickchart\" onclick=\"quickchart('df-2488a26d-003a-463a-886b-6503e90ecae1')\"\n",
              "                title=\"Suggest charts\"\n",
              "                style=\"display:none;\">\n",
              "\n",
              "<svg xmlns=\"http://www.w3.org/2000/svg\" height=\"24px\"viewBox=\"0 0 24 24\"\n",
              "     width=\"24px\">\n",
              "    <g>\n",
              "        <path d=\"M19 3H5c-1.1 0-2 .9-2 2v14c0 1.1.9 2 2 2h14c1.1 0 2-.9 2-2V5c0-1.1-.9-2-2-2zM9 17H7v-7h2v7zm4 0h-2V7h2v10zm4 0h-2v-4h2v4z\"/>\n",
              "    </g>\n",
              "</svg>\n",
              "      </button>\n",
              "\n",
              "<style>\n",
              "  .colab-df-quickchart {\n",
              "      --bg-color: #E8F0FE;\n",
              "      --fill-color: #1967D2;\n",
              "      --hover-bg-color: #E2EBFA;\n",
              "      --hover-fill-color: #174EA6;\n",
              "      --disabled-fill-color: #AAA;\n",
              "      --disabled-bg-color: #DDD;\n",
              "  }\n",
              "\n",
              "  [theme=dark] .colab-df-quickchart {\n",
              "      --bg-color: #3B4455;\n",
              "      --fill-color: #D2E3FC;\n",
              "      --hover-bg-color: #434B5C;\n",
              "      --hover-fill-color: #FFFFFF;\n",
              "      --disabled-bg-color: #3B4455;\n",
              "      --disabled-fill-color: #666;\n",
              "  }\n",
              "\n",
              "  .colab-df-quickchart {\n",
              "    background-color: var(--bg-color);\n",
              "    border: none;\n",
              "    border-radius: 50%;\n",
              "    cursor: pointer;\n",
              "    display: none;\n",
              "    fill: var(--fill-color);\n",
              "    height: 32px;\n",
              "    padding: 0;\n",
              "    width: 32px;\n",
              "  }\n",
              "\n",
              "  .colab-df-quickchart:hover {\n",
              "    background-color: var(--hover-bg-color);\n",
              "    box-shadow: 0 1px 2px rgba(60, 64, 67, 0.3), 0 1px 3px 1px rgba(60, 64, 67, 0.15);\n",
              "    fill: var(--button-hover-fill-color);\n",
              "  }\n",
              "\n",
              "  .colab-df-quickchart-complete:disabled,\n",
              "  .colab-df-quickchart-complete:disabled:hover {\n",
              "    background-color: var(--disabled-bg-color);\n",
              "    fill: var(--disabled-fill-color);\n",
              "    box-shadow: none;\n",
              "  }\n",
              "\n",
              "  .colab-df-spinner {\n",
              "    border: 2px solid var(--fill-color);\n",
              "    border-color: transparent;\n",
              "    border-bottom-color: var(--fill-color);\n",
              "    animation:\n",
              "      spin 1s steps(1) infinite;\n",
              "  }\n",
              "\n",
              "  @keyframes spin {\n",
              "    0% {\n",
              "      border-color: transparent;\n",
              "      border-bottom-color: var(--fill-color);\n",
              "      border-left-color: var(--fill-color);\n",
              "    }\n",
              "    20% {\n",
              "      border-color: transparent;\n",
              "      border-left-color: var(--fill-color);\n",
              "      border-top-color: var(--fill-color);\n",
              "    }\n",
              "    30% {\n",
              "      border-color: transparent;\n",
              "      border-left-color: var(--fill-color);\n",
              "      border-top-color: var(--fill-color);\n",
              "      border-right-color: var(--fill-color);\n",
              "    }\n",
              "    40% {\n",
              "      border-color: transparent;\n",
              "      border-right-color: var(--fill-color);\n",
              "      border-top-color: var(--fill-color);\n",
              "    }\n",
              "    60% {\n",
              "      border-color: transparent;\n",
              "      border-right-color: var(--fill-color);\n",
              "    }\n",
              "    80% {\n",
              "      border-color: transparent;\n",
              "      border-right-color: var(--fill-color);\n",
              "      border-bottom-color: var(--fill-color);\n",
              "    }\n",
              "    90% {\n",
              "      border-color: transparent;\n",
              "      border-bottom-color: var(--fill-color);\n",
              "    }\n",
              "  }\n",
              "</style>\n",
              "\n",
              "      <script>\n",
              "        async function quickchart(key) {\n",
              "          const quickchartButtonEl =\n",
              "            document.querySelector('#' + key + ' button');\n",
              "          quickchartButtonEl.disabled = true;  // To prevent multiple clicks.\n",
              "          quickchartButtonEl.classList.add('colab-df-spinner');\n",
              "          try {\n",
              "            const charts = await google.colab.kernel.invokeFunction(\n",
              "                'suggestCharts', [key], {});\n",
              "          } catch (error) {\n",
              "            console.error('Error during call to suggestCharts:', error);\n",
              "          }\n",
              "          quickchartButtonEl.classList.remove('colab-df-spinner');\n",
              "          quickchartButtonEl.classList.add('colab-df-quickchart-complete');\n",
              "        }\n",
              "        (() => {\n",
              "          let quickchartButtonEl =\n",
              "            document.querySelector('#df-2488a26d-003a-463a-886b-6503e90ecae1 button');\n",
              "          quickchartButtonEl.style.display =\n",
              "            google.colab.kernel.accessAllowed ? 'block' : 'none';\n",
              "        })();\n",
              "      </script>\n",
              "    </div>\n",
              "\n",
              "  <div id=\"id_4373bb5a-0901-4682-9749-dec6b7886535\">\n",
              "    <style>\n",
              "      .colab-df-generate {\n",
              "        background-color: #E8F0FE;\n",
              "        border: none;\n",
              "        border-radius: 50%;\n",
              "        cursor: pointer;\n",
              "        display: none;\n",
              "        fill: #1967D2;\n",
              "        height: 32px;\n",
              "        padding: 0 0 0 0;\n",
              "        width: 32px;\n",
              "      }\n",
              "\n",
              "      .colab-df-generate:hover {\n",
              "        background-color: #E2EBFA;\n",
              "        box-shadow: 0px 1px 2px rgba(60, 64, 67, 0.3), 0px 1px 3px 1px rgba(60, 64, 67, 0.15);\n",
              "        fill: #174EA6;\n",
              "      }\n",
              "\n",
              "      [theme=dark] .colab-df-generate {\n",
              "        background-color: #3B4455;\n",
              "        fill: #D2E3FC;\n",
              "      }\n",
              "\n",
              "      [theme=dark] .colab-df-generate:hover {\n",
              "        background-color: #434B5C;\n",
              "        box-shadow: 0px 1px 3px 1px rgba(0, 0, 0, 0.15);\n",
              "        filter: drop-shadow(0px 1px 2px rgba(0, 0, 0, 0.3));\n",
              "        fill: #FFFFFF;\n",
              "      }\n",
              "    </style>\n",
              "    <button class=\"colab-df-generate\" onclick=\"generateWithVariable('df')\"\n",
              "            title=\"Generate code using this dataframe.\"\n",
              "            style=\"display:none;\">\n",
              "\n",
              "  <svg xmlns=\"http://www.w3.org/2000/svg\" height=\"24px\"viewBox=\"0 0 24 24\"\n",
              "       width=\"24px\">\n",
              "    <path d=\"M7,19H8.4L18.45,9,17,7.55,7,17.6ZM5,21V16.75L18.45,3.32a2,2,0,0,1,2.83,0l1.4,1.43a1.91,1.91,0,0,1,.58,1.4,1.91,1.91,0,0,1-.58,1.4L9.25,21ZM18.45,9,17,7.55Zm-12,3A5.31,5.31,0,0,0,4.9,8.1,5.31,5.31,0,0,0,1,6.5,5.31,5.31,0,0,0,4.9,4.9,5.31,5.31,0,0,0,6.5,1,5.31,5.31,0,0,0,8.1,4.9,5.31,5.31,0,0,0,12,6.5,5.46,5.46,0,0,0,6.5,12Z\"/>\n",
              "  </svg>\n",
              "    </button>\n",
              "    <script>\n",
              "      (() => {\n",
              "      const buttonEl =\n",
              "        document.querySelector('#id_4373bb5a-0901-4682-9749-dec6b7886535 button.colab-df-generate');\n",
              "      buttonEl.style.display =\n",
              "        google.colab.kernel.accessAllowed ? 'block' : 'none';\n",
              "\n",
              "      buttonEl.onclick = () => {\n",
              "        google.colab.notebook.generateWithVariable('df');\n",
              "      }\n",
              "      })();\n",
              "    </script>\n",
              "  </div>\n",
              "\n",
              "    </div>\n",
              "  </div>\n"
            ],
            "application/vnd.google.colaboratory.intrinsic+json": {
              "type": "dataframe",
              "variable_name": "df",
              "summary": "{\n  \"name\": \"df\",\n  \"rows\": 96146,\n  \"fields\": [\n    {\n      \"column\": \"gender\",\n      \"properties\": {\n        \"dtype\": \"number\",\n        \"std\": 0,\n        \"min\": 0,\n        \"max\": 2,\n        \"num_unique_values\": 3,\n        \"samples\": [\n          0,\n          1,\n          2\n        ],\n        \"semantic_type\": \"\",\n        \"description\": \"\"\n      }\n    },\n    {\n      \"column\": \"age\",\n      \"properties\": {\n        \"dtype\": \"number\",\n        \"std\": 22.462947577418138,\n        \"min\": 0.08,\n        \"max\": 80.0,\n        \"num_unique_values\": 102,\n        \"samples\": [\n          29.0,\n          39.0,\n          16.0\n        ],\n        \"semantic_type\": \"\",\n        \"description\": \"\"\n      }\n    },\n    {\n      \"column\": \"hypertension\",\n      \"properties\": {\n        \"dtype\": \"number\",\n        \"std\": 0,\n        \"min\": 0,\n        \"max\": 1,\n        \"num_unique_values\": 2,\n        \"samples\": [\n          1,\n          0\n        ],\n        \"semantic_type\": \"\",\n        \"description\": \"\"\n      }\n    },\n    {\n      \"column\": \"heart_disease\",\n      \"properties\": {\n        \"dtype\": \"number\",\n        \"std\": 0,\n        \"min\": 0,\n        \"max\": 1,\n        \"num_unique_values\": 2,\n        \"samples\": [\n          0,\n          1\n        ],\n        \"semantic_type\": \"\",\n        \"description\": \"\"\n      }\n    },\n    {\n      \"column\": \"smoking_history\",\n      \"properties\": {\n        \"dtype\": \"number\",\n        \"std\": 1,\n        \"min\": 0,\n        \"max\": 5,\n        \"num_unique_values\": 6,\n        \"samples\": [\n          4,\n          1\n        ],\n        \"semantic_type\": \"\",\n        \"description\": \"\"\n      }\n    },\n    {\n      \"column\": \"bmi\",\n      \"properties\": {\n        \"dtype\": \"number\",\n        \"std\": 6.767715560481821,\n        \"min\": 10.01,\n        \"max\": 95.69,\n        \"num_unique_values\": 4247,\n        \"samples\": [\n          53.27,\n          32.33\n        ],\n        \"semantic_type\": \"\",\n        \"description\": \"\"\n      }\n    },\n    {\n      \"column\": \"HbA1c_level\",\n      \"properties\": {\n        \"dtype\": \"number\",\n        \"std\": 1.0732320256439414,\n        \"min\": 3.5,\n        \"max\": 9.0,\n        \"num_unique_values\": 18,\n        \"samples\": [\n          6.6,\n          5.7\n        ],\n        \"semantic_type\": \"\",\n        \"description\": \"\"\n      }\n    },\n    {\n      \"column\": \"blood_glucose_level\",\n      \"properties\": {\n        \"dtype\": \"number\",\n        \"std\": 40,\n        \"min\": 80,\n        \"max\": 300,\n        \"num_unique_values\": 18,\n        \"samples\": [\n          140,\n          158\n        ],\n        \"semantic_type\": \"\",\n        \"description\": \"\"\n      }\n    },\n    {\n      \"column\": \"diabetes\",\n      \"properties\": {\n        \"dtype\": \"number\",\n        \"std\": 0,\n        \"min\": 0,\n        \"max\": 1,\n        \"num_unique_values\": 2,\n        \"samples\": [\n          1,\n          0\n        ],\n        \"semantic_type\": \"\",\n        \"description\": \"\"\n      }\n    }\n  ]\n}"
            }
          },
          "metadata": {},
          "execution_count": 8
        }
      ]
    },
    {
      "cell_type": "markdown",
      "source": [
        "**Encoding**\n",
        "\n",
        "**Gender**\n",
        "\n",
        "Female = 0,\n",
        "Male = 1,\n",
        "Other = 2\n",
        "\n",
        "**smoking_history**\n",
        "\n",
        "'never' = 4 , 'No Info' = 0 , 'current' = 1, 'former' = 3, 'ever' = 2, 'not current' = 5"
      ],
      "metadata": {
        "id": "9a8JDF7d1WEJ"
      }
    },
    {
      "cell_type": "code",
      "source": [
        "# Where independent = x , dependent = y\n",
        "\n",
        "x = df.iloc[:,:-1] # x = defining independent columns with all the row\n",
        "y = df.iloc[:,-1]  # y = defining dependent columns with all the row"
      ],
      "metadata": {
        "id": "CIN3e02S2PN2"
      },
      "execution_count": 9,
      "outputs": []
    },
    {
      "cell_type": "code",
      "source": [
        "x.columns"
      ],
      "metadata": {
        "colab": {
          "base_uri": "https://localhost:8080/"
        },
        "id": "fGs1bRbw2mwl",
        "outputId": "a1ca02f4-50f1-4791-a7a0-61daa9bfe6f8"
      },
      "execution_count": 10,
      "outputs": [
        {
          "output_type": "execute_result",
          "data": {
            "text/plain": [
              "Index(['gender', 'age', 'hypertension', 'heart_disease', 'smoking_history',\n",
              "       'bmi', 'HbA1c_level', 'blood_glucose_level'],\n",
              "      dtype='object')"
            ]
          },
          "metadata": {},
          "execution_count": 10
        }
      ]
    },
    {
      "cell_type": "code",
      "source": [
        "y.name"
      ],
      "metadata": {
        "colab": {
          "base_uri": "https://localhost:8080/",
          "height": 36
        },
        "id": "gIxH7Dp23Tak",
        "outputId": "c6dccb02-e629-4041-8584-e7b35688dd2d"
      },
      "execution_count": 11,
      "outputs": [
        {
          "output_type": "execute_result",
          "data": {
            "text/plain": [
              "'diabetes'"
            ],
            "application/vnd.google.colaboratory.intrinsic+json": {
              "type": "string"
            }
          },
          "metadata": {},
          "execution_count": 11
        }
      ]
    },
    {
      "cell_type": "code",
      "source": [
        "# Check the shape of x and y\n",
        "\n",
        "x.shape, y.shape"
      ],
      "metadata": {
        "colab": {
          "base_uri": "https://localhost:8080/"
        },
        "id": "jBerJZkt3Vg8",
        "outputId": "1fa6e0ee-9d8f-408d-95e1-f77569172ba3"
      },
      "execution_count": 12,
      "outputs": [
        {
          "output_type": "execute_result",
          "data": {
            "text/plain": [
              "((96146, 8), (96146,))"
            ]
          },
          "metadata": {},
          "execution_count": 12
        }
      ]
    },
    {
      "cell_type": "code",
      "source": [
        "# Count the diabetes\n",
        "\n",
        "df[\"diabetes\"].value_counts()"
      ],
      "metadata": {
        "id": "WaE8cCpF3sO3",
        "colab": {
          "base_uri": "https://localhost:8080/",
          "height": 178
        },
        "outputId": "5bd00f66-5b68-466f-87fb-dd72661f8fd2"
      },
      "execution_count": 13,
      "outputs": [
        {
          "output_type": "execute_result",
          "data": {
            "text/plain": [
              "diabetes\n",
              "0    87664\n",
              "1     8482\n",
              "Name: count, dtype: int64"
            ],
            "text/html": [
              "<div>\n",
              "<style scoped>\n",
              "    .dataframe tbody tr th:only-of-type {\n",
              "        vertical-align: middle;\n",
              "    }\n",
              "\n",
              "    .dataframe tbody tr th {\n",
              "        vertical-align: top;\n",
              "    }\n",
              "\n",
              "    .dataframe thead th {\n",
              "        text-align: right;\n",
              "    }\n",
              "</style>\n",
              "<table border=\"1\" class=\"dataframe\">\n",
              "  <thead>\n",
              "    <tr style=\"text-align: right;\">\n",
              "      <th></th>\n",
              "      <th>count</th>\n",
              "    </tr>\n",
              "    <tr>\n",
              "      <th>diabetes</th>\n",
              "      <th></th>\n",
              "    </tr>\n",
              "  </thead>\n",
              "  <tbody>\n",
              "    <tr>\n",
              "      <th>0</th>\n",
              "      <td>87664</td>\n",
              "    </tr>\n",
              "    <tr>\n",
              "      <th>1</th>\n",
              "      <td>8482</td>\n",
              "    </tr>\n",
              "  </tbody>\n",
              "</table>\n",
              "</div><br><label><b>dtype:</b> int64</label>"
            ]
          },
          "metadata": {},
          "execution_count": 13
        }
      ]
    },
    {
      "cell_type": "code",
      "source": [
        "df.shape"
      ],
      "metadata": {
        "colab": {
          "base_uri": "https://localhost:8080/"
        },
        "id": "lA3-fWm04hHF",
        "outputId": "3bf14592-7e7c-453a-e2b2-105d5847c437"
      },
      "execution_count": 14,
      "outputs": [
        {
          "output_type": "execute_result",
          "data": {
            "text/plain": [
              "(96146, 9)"
            ]
          },
          "metadata": {},
          "execution_count": 14
        }
      ]
    },
    {
      "cell_type": "markdown",
      "source": [
        "# **Machine Learning**"
      ],
      "metadata": {
        "id": "xh3-7u_o4z0l"
      }
    },
    {
      "cell_type": "markdown",
      "source": [
        "Total number of rows : 96146\n",
        "\n",
        "The total rows take 100% and we splite :\n",
        "\n",
        "*   30% for test - 28844 approx. ----> x_test + y_test\n",
        "*   70% for Train - 67302 approx. ----> x_train + y_train\n",
        "\n",
        "\n",
        "# Is for understanding\n",
        "Diabetes Count :\n",
        "\n",
        "*   \"0\" -> 87664\n",
        "*   \"1\" -> 8482\n",
        "\n",
        "We split 70% and 30% in each diabetes count (\"0\" & \"1\")\n",
        "\n",
        "For \"0\" -> 30% -> 2545  ---> x_test\n",
        "\n",
        "For \"0\" -> 70% -> 5937  ---> x_train\n",
        "\n",
        "For \"1\" -> 30% -> 26299  ---> y_test\n",
        "\n",
        "For \"1\" -> 70% -> 61365  ---> y_train\n",
        "\n",
        "\n",
        "Adding 30% -> 2545 + 26299 = 28844 &\n",
        "\n",
        "70% -> 5937 + 61365 = 67302"
      ],
      "metadata": {
        "id": "Q4r-90xl5Bgn"
      }
    },
    {
      "cell_type": "code",
      "source": [
        "# Split data\n",
        "\n",
        "from sklearn.model_selection import train_test_split\n",
        "\n",
        "x_train , x_test , y_train , y_test = train_test_split(x,y,test_size = 0.3)\n",
        "\n",
        "x_train.shape, x_test.shape, y_train.shape, y_test.shape"
      ],
      "metadata": {
        "colab": {
          "base_uri": "https://localhost:8080/"
        },
        "id": "6jPjpfnH4lxU",
        "outputId": "a0f92592-9843-4100-a510-270edb664b2a"
      },
      "execution_count": 15,
      "outputs": [
        {
          "output_type": "execute_result",
          "data": {
            "text/plain": [
              "((67302, 8), (28844, 8), (67302,), (28844,))"
            ]
          },
          "metadata": {},
          "execution_count": 15
        }
      ]
    },
    {
      "cell_type": "code",
      "source": [
        "y_train.value_counts()"
      ],
      "metadata": {
        "colab": {
          "base_uri": "https://localhost:8080/",
          "height": 178
        },
        "id": "jZ-X5XzM7tfo",
        "outputId": "551bbb82-e92c-422a-96b5-d97d90165cfc"
      },
      "execution_count": 16,
      "outputs": [
        {
          "output_type": "execute_result",
          "data": {
            "text/plain": [
              "diabetes\n",
              "0    61380\n",
              "1     5922\n",
              "Name: count, dtype: int64"
            ],
            "text/html": [
              "<div>\n",
              "<style scoped>\n",
              "    .dataframe tbody tr th:only-of-type {\n",
              "        vertical-align: middle;\n",
              "    }\n",
              "\n",
              "    .dataframe tbody tr th {\n",
              "        vertical-align: top;\n",
              "    }\n",
              "\n",
              "    .dataframe thead th {\n",
              "        text-align: right;\n",
              "    }\n",
              "</style>\n",
              "<table border=\"1\" class=\"dataframe\">\n",
              "  <thead>\n",
              "    <tr style=\"text-align: right;\">\n",
              "      <th></th>\n",
              "      <th>count</th>\n",
              "    </tr>\n",
              "    <tr>\n",
              "      <th>diabetes</th>\n",
              "      <th></th>\n",
              "    </tr>\n",
              "  </thead>\n",
              "  <tbody>\n",
              "    <tr>\n",
              "      <th>0</th>\n",
              "      <td>61380</td>\n",
              "    </tr>\n",
              "    <tr>\n",
              "      <th>1</th>\n",
              "      <td>5922</td>\n",
              "    </tr>\n",
              "  </tbody>\n",
              "</table>\n",
              "</div><br><label><b>dtype:</b> int64</label>"
            ]
          },
          "metadata": {},
          "execution_count": 16
        }
      ]
    },
    {
      "cell_type": "code",
      "source": [
        "#Create Model or Train the model\n",
        "\n",
        "from sklearn.tree import DecisionTreeClassifier\n",
        "\n",
        "model = DecisionTreeClassifier().fit(x_train,y_train)"
      ],
      "metadata": {
        "id": "h1VKVyMM-swt"
      },
      "execution_count": 17,
      "outputs": []
    },
    {
      "cell_type": "code",
      "source": [
        "# Sample Predicting\n",
        "\n",
        "import numpy as np\n",
        "vb1 = np.array([[1,35,0,0,4,32.64,9.3,180]])\n",
        "\n",
        "vb2 = np.array([[1,75,1,1,0,32.64,6.3,180]])\n"
      ],
      "metadata": {
        "id": "-9ERF715-3KU"
      },
      "execution_count": 18,
      "outputs": []
    },
    {
      "cell_type": "code",
      "source": [
        "model.predict(vb1)"
      ],
      "metadata": {
        "colab": {
          "base_uri": "https://localhost:8080/"
        },
        "id": "cHgo5xSD_NQO",
        "outputId": "27ee7c88-6e31-4320-9aa7-fabccab3a318"
      },
      "execution_count": 23,
      "outputs": [
        {
          "output_type": "stream",
          "name": "stderr",
          "text": [
            "/usr/local/lib/python3.11/dist-packages/sklearn/utils/validation.py:2739: UserWarning: X does not have valid feature names, but DecisionTreeClassifier was fitted with feature names\n",
            "  warnings.warn(\n"
          ]
        },
        {
          "output_type": "execute_result",
          "data": {
            "text/plain": [
              "array([1])"
            ]
          },
          "metadata": {},
          "execution_count": 23
        }
      ]
    },
    {
      "cell_type": "code",
      "source": [
        "model.predict(vb2)"
      ],
      "metadata": {
        "colab": {
          "base_uri": "https://localhost:8080/"
        },
        "id": "iK8fT9bk_XnF",
        "outputId": "416ca13e-e964-4502-ff52-a79f23fbf3d0"
      },
      "execution_count": 26,
      "outputs": [
        {
          "output_type": "stream",
          "name": "stderr",
          "text": [
            "/usr/local/lib/python3.11/dist-packages/sklearn/utils/validation.py:2739: UserWarning: X does not have valid feature names, but DecisionTreeClassifier was fitted with feature names\n",
            "  warnings.warn(\n"
          ]
        },
        {
          "output_type": "execute_result",
          "data": {
            "text/plain": [
              "array([0])"
            ]
          },
          "metadata": {},
          "execution_count": 26
        }
      ]
    },
    {
      "cell_type": "code",
      "source": [
        "#Predict\n",
        "\n",
        "y_pred = model.predict(x_test)\n",
        "y_pred"
      ],
      "metadata": {
        "colab": {
          "base_uri": "https://localhost:8080/"
        },
        "id": "peotyI91_ZmN",
        "outputId": "17f5e850-0d2e-4414-c3f3-362b31fdb7c8"
      },
      "execution_count": 27,
      "outputs": [
        {
          "output_type": "execute_result",
          "data": {
            "text/plain": [
              "array([0, 0, 1, ..., 0, 1, 0])"
            ]
          },
          "metadata": {},
          "execution_count": 27
        }
      ]
    },
    {
      "cell_type": "markdown",
      "source": [
        "![image.png](data:image/png;base64,iVBORw0KGgoAAAANSUhEUgAAAvUAAACzCAYAAAAJ3OPVAAAAAXNSR0IArs4c6QAAAARnQU1BAACxjwv8YQUAAAAJcEhZcwAADsMAAA7DAcdvqGQAAD8rSURBVHhe7d1/XE/n/z/wRyqi9YrSL9Sw0g+S+Tne1cS8VX7Ulo3ZDE21X3690RiTkDW8y3jzXphtsfCWJawaWQyNYUUiIRIq+fnSq5p+XN8/vr3Ou9epVGTb6/N+3G+31+2mc13nuq5zep2r57nOdS46QggBIiIiIiLSWi3kG4iIiIiISLswqCciIiIi0nIM6omIiIiItByDeiIiIiIiLcegnoiIiIhIyzGoJyIiIiLScgzqiYiIiIi0HIN6IiIiIiItx6CeiIiIiEjLMagnIiIiItJyDOqJiIiIiLRcswb16enpcHJyQnp6ujxJkp6eDgsLCyQmJsqTtEJztF9dhkKheKpyiIiIiIjQlKA+KCgICoWizo+FhcVjA3n6r4KCAowfPx7ffPMNlEolvLy85FmIiIiIiJqk0UF9VFQUlEollEolQkND4erqivz8fCiVShQWFqJXr17yXerUq1cvFBYW/qWCWZVKBW9vb0RGRsqTanna9hcUFAAArKys5El/KZGRkfD29oZKpZIn/c8rKCiAk5MTn7IQERHRX0ajg3oiIiIiIvpreiZBfX5+PpycnKTpOTVHwOXz7tWj5I2ZyqPe96uvvpLmpDs5OaGgoACJiYlSGeptNcmnD6lHWdPT09G1a1ccOXIEISEhUnvV7VqyZInUvsTERI32q+fGy4+vvjn3kZGRcHd3x/Xr1+Hu7q7RzprtVygUtUbJ5ceu3jcoKEj61Dzf8vMqfwpRc15/zfrU+4WEhODIkSOwsrKq1Ra1+s5RXeUHBQVJ+6mP5fDhwxptrJkH1b+zmsemPgb1SLm87WryuuXpNc+V/Pumri8yMlLKI/89devWDdevX8fYsWM1jrm+71hQUFCtNhARERE1K/EEIiIihJeXlyguLtbYnpaWJszNzYWjo6PIz88XQgiRkJAgzM3NRVpampTH0dFR+jkwMFAEBgZKZWzcuFFKk1OXr667uLhYeHl5CSMjo1rbapaZlpYmNm7cKP0sb5N6n4iICCmPelvNfKKO9ickJEjHW1c5cvL9RfX5lNcTGBiocR7lx14zn5GRkUhISBCiuj1GRka1tsnLX7JkiVR2Xeesvt9xTY09R/Ly1cdSc7/8/Hzh6Oio0Qb5sdXMV3NbYGCg1FZ5enFxsVi8eLF0HPLvm/zcqOtU/w7lbRf1tEF+vhISEqT0mu0jIiIiehaeyUj9P//5T1haWgIA3N3d0adPH6SkpMizQaVSIS8vDw4ODtK2d99997Hz801NTbFs2TIYGhrC0NAQU6dORevWrWttO3z4sDS62qtXL7z77rtSGS+++CJMTU2Rn59fo+S6+fr6PrY97u7u6Ny5M7Zu3Yr169cDAAIDA+XZ6lVQUIANGzbgm2++0agnNDQUAJCWllYjNzB16lQYGhpqbHvzzTelOf7u7u5wdXWttU3+O1iwYIH0OzI0NMSwYcOQl5f3RKPJ8nP073//GwEBAdK2un4nADSO2dLSEv/85z9r5XF1dYW7u7v089atW+Hm5qbxTsP777+Pq1ev4uLFi7XeWTA0NMSnn34KQ0NDpKen4+zZs9K5RT3nxtXVVfod1td2uaysLFhbW0u/Gy8vL6mNUVFRSEhIqPV7IyIiImouzR7Um5qaNvolUHXAFBISUueUmcYyNTWVAtT61JySoZ4+0Rg1bzjqYmhoiGXLliE8PBzh4eHSzUVjFRQUoF27dnjxxRc1tltaWsLNzQ1ZWVnStqac24baDdl0kZCQEHlyo9WsS32jpp7KpP6MHTtWY5+6jkX9c83vQc1AGdXB89atWzXKdnd3x507d4DqGzg3Nze4u7vXms6Tn5+PjIwMdOvWTdrXysoKR44c0cgnr7Mx3n//fezatavWdB4iIiKiP0KzB/VN5eXlBaVSiYCAAHTr1u2pgvv6BAUFYfjw4fjxxx+hVCqRnZ2NTp06ybM9MUtLS5iamso3/2Wpb3AAaKxo1Jy2b98ula3+nDt3rsGbr8YIDQ2tVXbNFZiioqKQn5+PvLw8KGRz9Wuu2lTzM3PmzBo1NJ16VaRvvvkG7u7uDO6JiIjoD/WnB/VqM2fORHZ2NlDHlJOnUVBQgMOHD9ea3tKcQkJCEBAQgLlz5+KTTz5p0hQWS0tL3Lt3r9Yxq9vdmBH3pkpJSUGfPn0QEREhT3pqhoaGsLa2xq5du+RJDUpJSUHnzp1hZ2cnT5I4ODhg//79DZ5jQ0NDJCQkYPv27dLUGSsrK2mazrPi5eWF/Pz8WlN6iIiIiJ6lPzWoV6lUWLJkSYMB2tMwMjJC586dNaaxhISEaEy/UQeiNfM0VmRkJA4fPow333wTb775Jq5evSrNrW8MS0tLBAQEYNKkSRojuyEhIejcubPGfPLm4uDggKtXr+Lhw4dA9ch9eHj4Y/M0ha+vL7Zu3aqxAlB6ejq++uor6ec7d+5g/Pjx0lMZdRuGDRv22KkvHh4eOHXqlMY5LigowNKlS4E66qnJzs4OnTt3rnXjtXTp0iY9HarrO/W4Mrj6DRERET1rf2pQDwC//PILrKyspLnu//znP5/4P3aqS8057+p51P379681/UY9J1pRx/KP9UlMTERISIj0YrD6Zc+QkJA6l7Ssz8yZMzF37ly4u7tLbQTwzF6u9PLygpubmzS3/JNPPsFHH32kkUf9AnC3bt2aHJB6eXlh+/bt0pKPCoUC48ePx4gRI6Q8pqammDVrFlxcXKR58XPnzm1wGkyvXr3w448/avw+XVxcMHLkSCnPJ598IqXNmjULP/30EywtLWFoaIgdO3YA1fP31XkMDQ2bNC2o5rsgiuqlK/Py8qTzaWVlhWHDhjV4LERERETNRUcIIeQbiZ6l9PR0jB8/HjExMc9sShQRERHR/5I/faSeiIiIiIieDoN6IiIiIiItx6CeiIiIiEjLcU49EREREZGW40g9EREREZGWY1BPRERERKTlGNQTEREREWk5BvVERERERFqOQT0RERERkZZjUE9EREREpOUY1BMRERERaTkG9UREREREWo5BPRERERGRlmNQT0RERESk5RjUExERERFpOQb1RERERERajkE9EREREZGWY1BPRERERKTlGNQTEREREWk5BvVERERERFqOQT0RERERkZZjUE9EREREpOUY1BMRERERaTkG9UREREREWo5BPRERERGRlmNQT0RERESk5RjUE1GdIiMjoVAopI+1tTVCQkJQUlIiz/rEEhMToVAokJiYCCEE1q1bBz8/P9y9e1eetdmlp6fDwsICkZGR8qRa1O0cMGAAioqKNNIiIyPh5OSEgoICje1/lL1792L48OG4dOmSPOmplZeXY9q0aZg2bRrKy8shhMDOnTvRtWtX6XycOXMGQgisWrUKQ4YM+UN+d/S/QaVSwdvbW6Mf6tOnD+Lj4yGEkGd/Yn9mP1Sz7oao86o/pqammDp1KgoLC+VZmyQvLw8jRozAf/7zH3kSADzzc6JUKuHj44NVq1ZBCAEhBA4dOgQXFxckJiYiLy8Pffv2xfbt2+W7kgyDeiKql56eHkJDQxEdHQ1fX19ERkYiNDS0Wf+gqlVWVuLixYvIzc1FaWmpPFnDgwcPMHnyZMycOVOe9EydP38eUVFRz+T4G6Ou475y5QrOnz8PlUqlkbc5fP/99/j5558xe/Zs6OvrIzExEQEBARg/fjySkpJQWlqKgIAA3L59GwEBATAwMMC6dev+tPND/zfZ2dlhw4YN2LhxI4yMjDBx4kQcPHhQnq1ZaEM/NGPGDERHR2P69OmIiYnB1KlTG2zr49y9excZGRnSzcG1a9cwYsQIrFu3DmjiOWkqIQRWr16N33//Hf7+/jh79ix8fX0xatQoXLlyBQBgbW2NhQsXYvHixcjJyZEXQTUwqCeieunr68PDw0MK6H18fJCSkvJMRmv09PQQGRmJkydPomPHjvJkDaWlpTh+/HizPjVojB49emDNmjU4deqUPOkPUddxT506FdeuXYOLi4tG3qelVCoRFRWFsWPHwsbGBmVlZdi0aRN69eqF4OBgDBo0CAsXLkRWVhbS09NhaGgIf39/xMTE4Nq1a/LiiJ6YhYUFRo4ciTfeeAPffPMNzMzMkJCQIM/WLLShHxo4cCB8fX2xcOFCTJ8+HcePH3+qa87FxQXXrl3D1KlTgeog/+TJk/j999+BJp6Tprp27RpiYmIwZcoUKBQKHD58GAqFAmFhYRr5Bg8eDAsLC47WN4BBPRE1iq6uLlq2bCn9HBQUBAcHByxatAimpqaIjIyUpmfY29tDoVDA3t4e+/fvl/Y5cuQI+vbtC4VCgb59+yItLU1KU5dZcyrLw4cP8fHHH8PU1BQKhQKvvPKK9Fj2+vXr2Lp1q8Zj88fVfenSJQwdOhQKhQJdu3bVeNytUqng4+MDHx+fx454f/DBB3B0dMSSJUvqzVdeXo41a9bA2toaihpTVNTk52DZsmUaj99PnjwptVOhUMDT0xM3btxAenp6nccdGRkJCwsLpKenY9OmTTA2NkZKSopU36ZNm9C+fXv8+uuvDbatppycHOTm5mLw4MFAdZCfnZ0NJycnKBQKAICtrS0MDAxw9uxZAMCgQYOgo6OD48ePa5RF1Fz09fWhq6sr/VxXP9TQ91x+DTbUD924cQOTJk1C27ZtoVAo4O/vj19//bXO67GhfuhxdTe2H6qpTZs20r/Ly8uxfv16qW5TU1PMnTtXuulQj8Cr+5aAgACUlZVpTEVMTEyEu7s7SktLERISIvUt6nOSm5uLMWPGoH///rhz5w4AoKysDGPGjMGQIUOgVCpRWFgona+2bdsiICAASqVSamdNmZmZqKioQN++fYHqPnbz5s2wtbXVyKdQKDBq1CgkJSXh/v37Gmn0XwzqiahBlZWVSE5Oxr59++Du7g4TExMAwM2bN3H79m1cv34dM2fOxO7duxEQEIAJEybg9OnTcHV1RWBgIM6fP4/z589jwoQJMDAwQFJSEhYuXIgtW7bIq5KoVCq8/fbb+Oabb/DZZ5/h2LFj8PT0hJ2dHZKTk2FlZQVfX19kZ2fDw8PjsXUXFRXhrbfeQn5+PrZs2YItW7bghx9+aPKjZFNTU4SEhODw4cPYtm2bPBlCCKxduxYhISEIDQ3FiRMn0K5dOwQEBKCoqKhR5yAjIwMTJ07E+fPnsWrVKhw7dgxLly6Fk5NTncdd09ChQ2FlZSWNYpaVlSEhIQFubm7o0aPHY9smd+3aNbRq1QpdunQBANy7dw8PHjzACy+8IOWxtLSEqamp9HPbtm3xwgsvICsrS9pG1FxKSkrw9ddfo6CgAMOHD5e21+yHZsyY8djveWOuwZpu3LgBHx8f/Prrr9i4cSN+/vlnODs7w97evs7r8XH9UFPrfhwhBM6cOYPo6Gj07t0b1tbWWLt2LebOnYsJEybg2LFjmD17Nr788kvMnz8fxcXF+Mc//oErV67gwIED+Pnnn9G2bVtUVlZqlOvh4YG4uDi0bt0awcHByMjIQPfu3aX0Vq1aYdy4ccjOzpZulHJzc3HixAmMGzcOABAQEIDffvsNycnJ2LZtG5KSkhAWFlbntLxz587B1tYWZmZm8qRaevTogfz8fAb1jyOIiOoQEREhjIyMND6jRo0SBQUFQgghAgMDhY2NjcjKyhJCCKFSqcSoUaOEr6+vKCkpEUIIkZWVJWxsbMSaNWvEmjVrhKmpqTh+/LhUx/bt24WRkZFISEiQynR0dBT5+fnip59+EgqFQmzZskXKr5afny8cHR1FYGCgEI2oe9++fUKhUIgdO3ZIZaSmpop27dqJiIgIaVt9EhISpHZWVVWJ4OBgYWdnJy5fviwiIiKkNhcWFgpnZ2cxa9YsUVVVJYQQ4qeffhLGxsZi3759jToHNRUXFwsvLy/h5eUliouLax23qP49mZubi7S0NFFeXi4mT54s3N3dxb1796RzEBUV1WDb5CIiIqR6hRAiLS1NmJuba5wvdXtqbgsMDNRoH9GTUn//5f3Q559/Lh49eiREHf1QQ9/zxlyDNfuhr776SrRr104cOnRIyq8mvx4b6ocaU/fjqPuhmp8+ffqIrKws6bgnT54sysvLhRBCVFVViVmzZglbW1uRlZUl/Pz8hKOjozh16pSoqKgQFRUVoqqqqta1Lf9ZyM7J1atXhb29vQgNDRVCCPHVV1+JTp06iczMTLFv3z5hbGws9u/fL+07e/Zs4ezsLAoLC6VtavX1FzX7XLW0tDTh6Ogo0tLSNPLSf3GknojqpX5Rdvv27bhw4QLi4+NhYWEhpRsaGsLY2Bionp5x6dIlHDhwABYWFlAoFOjXrx/u3buH8vJyZGVlwdzcHDY2NtL+RkZG0r/lMjMzYWBgoDFKVJ+G6r5w4QIMDAw0Hum2bt0a+vr6GuU0ho6ODqZNmwaFQoEVK1agvLxcSrt58yYKCwuxfv16GBsbQ6FQwMfHB1VVVaioqGjUOcjKysJ7772Hnj17wsbGBkeOHNFIfxw9PT2MHz8eWVlZOH/+PI4ePYrWrVtj+PDhDbatIepR+Zs3b0rbioqKcP/+/Sc6j0SNpX5R9ocffkB+fj6Cg4M1vnM1+6GGvueNuQZr+u2332BpaYlu3brJk2ppqB9qat31mTFjBmJiYnD69GkcP34c9vb2KCwsxO3bt+Hs7Aw9PT2guq/q2LEjlEolSktLER4eDisrKwwePBh2dnYa04KawsbGBiNHjsSBAwdQUFCAhIQEDBs2DN26dcPZs2dRVVWF1157TZrmExUVhYqKClRVVcmLombGoJ6I6qV+UdbLywtWVlbQ0dGRZ5EoFArY2tpi2LBhOHfuHLKzs6VPYGAgOnfujDt37mgs/ZiXl6dRRk329vYoKytr1FKNDdVtY2OD0tJSjYD09u3bKCsr0yinsTp27Ih58+YhNjYWcXFx0vYOHTrAwsICgYGBGm1QP5pv6Bzk5ubC19cXxcXFiIuLkx7fN0XPnj1hbW2NhIQEJCQkYOTIkbCxsWmwbXIdO3bE1atX8fDhQ6A6+OjcuTMyMzOl+b55eXkoKSmRbrxKSkqQn58PRfWce6LmoH5R1s3NDYaGhvJkDQ19zxu6BuUcHBxw69atRr2I2lA/1NS66zNw4ECMHDkSXbp0kd4vsLCwQPv27ZGRkSHdpAshcOPGDbRv3x7m5uawtbXFgQMHkJGRgW7dumHGjBmNOi45HR0deHp64uLFi0hKSsKZM2cwfvx46OnpoUePHtDT00NMTIzG8R86dKjOKTYdO3ZEXl5eo94hKCoqQmlpKVq3bi1PomoM6omoWbRp0wbDhg1DSkoKNm/ejPLychQVFWHdunVQqVRwd3dHZWUlZs+ejV9++QXbtm3D2rVr5cVIevXqBQcHB0yfPh3r16/HuXPnsHLlShQVFaFFixbQ09NDVlYWkpOTceXKlcfW7eLigg4dOmDu3LnYt28f9u3bh4ULF0p1PckLaqNHj4a3tzcyMzOlbSYmJhg6dCg2b96MpKQkVFZWIicnB5s2bUJlZWWd5yA8PFzaX6lUQqlUQldXFy1atMDevXuRmpoqpcuPu2bdaubm5hg9ejR27tyJX3/9FZ6entDR0WmwbXLW1tYoKyuTboQMDQ3h5+eHo0eP4rPPPsOBAwcwd+5cvPzyy+jfvz8A4P79+7h8+TL69esnK43oj9HQ97yua/Bx/dDQoUNhZGSEgIAAxMbGIj09HZGRkSgpKal1PTbUDzVU95P0Q2pmZmbw8vLC999/j/DwcJw7dw6rV6/Gxo0bMXLkSCgUCixZsgQZGRlo0aKFxhNXOV1dXejq6uLUqVM4ePCgtLRkTX379oWdnR3Wr18PhUKBnj17AgCcnJzQtWtXhIeHIycnB5WVlThw4AD279+v8YKzmoODA3Jycho1T/7s2bOwsbF5bNv/1zGoJ6Jm89577yE0NBTr1q1D9+7dMXjwYKhUKhgaGqJfv36IiopCTk4Ohg8fjsTEREyfPl1ehMTMzAw7duyAm5sbgoOD8dJLLyE1NRUtW7aEmZkZpk6dirNnz2LMmDEoLCx8bN3PP/88Nm7ciJYtW2LMmDH4/PPPMWPGDBgYGMirbTR9fX2EhITA0tJS2qanp4ewsDBMnjwZs2bNgqOjI8aOHQt9fX20atWqznOwYMECaV8HBwcEBgYiPj4eL774Im7cuIHevXtL5dd13HXx9PTErVu3YGtrKwXcDbVNrnv37ujcuTN+/PFHads777yDpUuXYsOGDXj11Vfx4osvYv369dLoaWpqKoQQGDBgQI2SiP44DX3P67oGH9cPOTo6YteuXWjfvj38/f0xePBgXLt2DS1atKjzenxcP9TUuptCR0cHixYtQmhoKKKiovDSSy9h5cqVCA0NxaJFi6Cnp4e7d+/Czc0N3bt3R1ZWFjZu3Ijnn39eXhQcHBwwZcoU7N69G/7+/nUu2dm2bVt4enri7Nmz8PPzg7m5OVA98r5t2zY899xz8PT0hKOjIyIiIupdCnPAgAFo0aIFfvnlF3mSBqVSiT179sDT0xNt27aVJ1M1HVHX68hERPTMCSEQEhKCjRs34scff4Szs7M8y59q+/btCA8Px549e9CpUyd5sgaVSoXXX38dzs7OCA8Pf+xULSIiVPeBYWFhSE1NxY4dO+qdXrV7927MmTMHu3btgqOjozyZqnGknojoD3Lr1i3Mnj0bKSkpuHz5MsLCwrB69WoMGzYMDg4O8ux/utdeew1ubm5Yvny5xgvBckIIbNiwAffv38fs2bMZ0BNRo6gXHtDX18eGDRvqXPYyLy8PixcvRnBwMAP6BnCknojoD/LgwQO8++67SE5ORlVVFdq0aYOJEydiwYIFT7QKBhERkRqDeiIiIiIiLcfpN0REREREWo5BPRERERGRlmNQT0RERESk5RjUExERERFpOQb1RERERERajkE9EREREZGWY1BPRERERKTlGr1OfXZ2tnwTERERERH9BTQ6qCciIiIior8mTr8hIiIiItJyDOqJiIiIiLQcg3oiIiIiIi3HoJ6IiIiISMsxqCciIiIi0nIM6omIiIiItByDeiIiIiIiLcegnoiIiIhIyzGoJyIiIiLScgzqiYiIiIi0HIN6IiIiIiItx6CeiIiIiEjLMagnIiIiItJyDOqJiIiIiLQcg3oiIiIiIi3HoJ6IiIiISMs9UVAfGxsLhUIBb29vqFQqefIfJjIyEhYWFkhPT5cn1ZKYmAiFQoEBAwagqKhIIy0yMhJOTk4oKCjQ2P5H2bt3L4YPH45Lly7Jk56aUqmEj48PVq1aBSEESkpK8PHHH6Nt27Zo27YtAgICoFQqUV5ejmnTpmHixIkoLy+XF0P/YyIjI6FQKOr8eHt7IycnB05OTmjbti1SUlI09k1PT4eFhQUSExM1tj+NyspKfP/993BxcYFCoYCpqSkWLVqE0tJSKc9HH31Uq631teFf//pXrbyRkZEAAJVKhVmzZsHU1BQKhQL29vbYuXMnhBDS/uXl5VizZg2sra2hUCjg4OCAzMzMGjUQ0dNSqVTw9vau91qV91PW1tYICQlBSUmJvKgnFhQUVKt+RT3xz/nz59GlSxeNtNLSUnz22WewsLCAQqHA4MGDcfr0aY39iJpLk4P6iooKxMfHw8XFBZmZmU36Q7Z37164urr+qV/o8+fPIyoqSuMP9B/p2rVrGDFiBNatWydtu3LlCs6fP1+rg3haQgisXr0av//+O/z9/VFZWYn58+cjJiYGX331FSIiIrBjxw6EhYVBT08PwcHBOHPmDL7//nt5UfQ/xtvbG9HR0YiOjsagQYNgbGyM1atXIzo6GvPmzUPLli0BAFVVVQgNDcXdu3flRTSroqIiREZG4q233sIPP/yAsWPHIjIyEjExMVKe8vJy2NnZYcOGDVLbXVxcNMpRKy8v1zim6OhoeHt7AwBKSkpgbm6Offv24fvvv4eZmRlmzJiB8+fPS/vOmjULixYtwvvvv4/Dhw9j5syZaNWqlawWImoO8utafa0CgJ6eHkJDQxEdHQ1fX19ERkYiNDS02f7GBwQESPVGR0dj2bJlaNWqFdzc3GBoaCjlKy8vx+rVq3Hnzh2N/b/88kt8/vnnCA0NxU8//YSSkhJMnDgR169f18hH1CxEE2VmZoquXbuKnTt3Cnd3dxEaGirPUq+IiAhhbm4u0tLS5ElPpCnlJSQkCCMjIzFw4EBhbm4uTpw4IaVFREQIR0dHkZ+fr7HPs5CWlibMzc1FRESEPKnZXb16VTg6OoodO3YIIYTIysoSNjY2YtmyZUIIIcrLy8XkyZOFs7OzKCwsFEIIsWzZMuHh4SEePHigURb97woMDKx1feTn5wtHR0fh6OgozM3NxcqVK0VVVZUQNb7jCQkJNUp5Oo8ePRL379+Xfr5+/bqwt7cXgYGBQgghqqqqhL+/v/Dy8hLFxcU19qzbihUrah1TfeLj44VCoRA//fSTEEKI48ePC3Nzc7Ft2zZ5ViJqRsXFxcLLy6ve61oeA5SXl4u3335b9OvXT9y+fVue/alVVVWJJUuWCBcXF5GXl6eRFhsbK/r16yd69+6t0d7AwEAxaNAgcefOHSHqaDNRc2rySP2RI0dgamqKl19+Gf3798fevXs17kyFEDh06BAGDBgAhUKBtm3bIiYmBkFBQQgJCUFpaSnc3d3h7e2N1NRUWFhYSI/SUMeUmpMnT2Lo0KHSIy9PT0/cuHFDyq+mUqng4+MDHx+fx454f/DBB3B0dMSSJUvqzSd/tD5gwACcOXNGI039KO3dd9/F66+/Lk3fqaiowMaNG2Fvby8d/6JFi1BeXo7ExES4u7ujtLQUISEh0nGqj/nXX3/FmDFj0L9/f+mclpWVYcyYMRgyZAiUSiUKCwsxadKkWtNn6pKZmYmKigr07dsXqH5KcP/+felnPT09ODs7o7CwEDdv3gQAeHl5ITc3t0lPYOh/l6urK6ZOnYpVq1ZJ18izoK+vD2NjY+nn8vJyVFZWQqFQANWj6/n5+TA1NW3UiPnFixdhZmYGAwMDeZKGu3fvYufOnRgwYIA06p+UlIT27dvDzc1Nnp2I/kS6urrSU8Rn4dq1a9iyZQvGjh2LTp06SdtPnTqFuXPnYsGCBbCwsNDYp3///rhy5Qqys7Px8OFDHD16FJ07d0bHjh018hE1hyYF9UqlEtu2bYO7uztMTEzg7e2Ny5cvIy0tTcqTmJgIHx8fWFtbY//+/YiOjkarVq2wfPlyBAcHo3Xr1oiLi8OWLVvQunVrjfLrkpGRgYkTJ+L8+fNYtWoVjh07hqVLlz7xozVTU1OEhITg8OHD2LZtmzwZQgisXbsWISEhCA0NxYkTJ9CuXTsEBASgqKgI0dHRWLBgAcaOHYtjx47B1tYW+/fvl/b//fffkZOTg6+//hqZmZnw8/NDREQE9u/fDw8PD8TFxaF169YIDg5GRkYGunfvLu3bsmVLjBs3DtnZ2VKAlJubixMnTmDcuHFA9aPA3377DcnJydi2bRuSkpIQFhZW5/k4d+4cbG1tYWZmBgDIy8uDgYGB9DMAODg41NgD6NChAwwNDZGXl6exnaguOjo6CAoKQocOHRAWFqYxx70+9c2TVSgUCAoKkmevpby8HBEREbh37x5effVVjbT4+HiYmJjA2toaa9aseez7IWlpabCxsYGpqSnmzp2rMQ9X/Q5O586dcf/+fWzatAkmJiYoKyvDmTNnYGFhgZUrV0o31x9//HGzzuMlov86cuQIrKyspH6irndlKisrkZycjH379kkxilxBQQGcnJxq9TuKGvP0H0c93W/8+PHStry8PAQFBeHDDz+Eh4dHjdz/38SJEzF+/Hj8/e9/R8eOHZGWloZ169Zp/B0mai5NCuqzsrKQmZmJIUOGQEdHB927d0eXLl2kl8jKysqwadMmODs7Y/369RgwYABGjx4NPz8/GBsbS/PPTE1NYWJiAh0dHXkVtUyePBnvvPMOOnbsiLFjx2LQoEHIzc2t9QfU0NAQ8fHxiI+P15jnVpfBgwcjICAAn3/+OXJycjTSioqKsGnTJvj7+2Py5Mmwt7fHxx9/jAsXLuDYsWOIj49Hnz59sHTpUjg5OWHOnDkYNWqUtL+hoSGWLVuGQYMGwdraGlOnTkXr1q1x4cIFGBgYwNTUVMpnbm4OfX39GrUD/fr1g6WlJQ4fPgwAOHr0KKqqquDq6orjx4/j559/RkREBPr27QtPT0+MGzcOiYmJtV7+RfVopLW1tXQ+Hjx4IM9Si6GhITp16lTn0xCiupiZmSE8PBzJycnYvXu3PLmWNm3aYMuWLcjOzq71Wb58uTy7hpKSEnzwwQeIjo7GF198gYEDBwIAWrVqhXnz5mH37t3YtGkTXnjhBcyfPx9bt26VFwFU3xzHxcXhu+++w7Bhw7Bu3TosXbpUSvfw8EBmZia+/fZb3LlzBx4eHrhw4QIqKytRUlKCkydPolWrVkhNTcVHH32Ef//73/jiiy806iCi5iGfU1/zXRn10/927drBz88PL774IubMmVNnfGFmZoZDhw7V6neys7MRGBgoz67h1q1b2LlzJzw8PGBjYwNUD3R++OGH6N69Oz788EO0aKEZUgkh8K9//QtbtmxBVFQUMjMzMXjwYEyZMoUDZ/RMNCmo37FjB0pLSzFu3DgoFArY2toiOzsbKSkpuHbtGpRKJbKzs+Hk5FTnXfKTyMrKwnvvvYeePXvCxsYGR44ckWdpMh0dHUybNg0KhQIrVqzQGM27efMmCgsLsX79ehgbG0OhUMDHxwdVVVVQqVS4evUq7OzsoKh+7K+np4c2bdpI+1dWViI+Ph6jR49Gt27dpOk2jWVjY4ORI0fiwIEDKCgoQEJCAoYNG4Zu3brh7NmzqKqqwmuvvSaNLkRFRaGiogJVVVXyompxcHBAWVkZ7t27J227fPkydHV1oaurq5GXqCnc3NwwceJEhIWF4cqVK/JkDTo6OjAxMYGlpWWtT80pNnKFhYV47bXXkJycjPj4eLz11lvSH249PT24ublh8ODBGDNmDL777jt06NABR48elRcDAOjbty+GDh2KUaNGYePGjRg4cCDS09OlKXkGBgawtrbGq6++ivXr16OsrAwJCQnQ1dVFmzZtMHDgQMyfPx9OTk6YO3cuBg4ciF9++aXWYAMRPT0LCwuMHDkSvr6+8PX1RYcOHaQ09Yuy27dvx4ULFxAfH19rCoyarq4uzMzMavU7lpaWDQ4Gnjx5EpcuXYKfn5/U7xw9ehQHDx5EXFwcTE1NYWVlhSNHjuDIkSPo2rUrDh48iE2bNmHEiBEYN24crK2tERwcjLt37yI+Pl5eBdFTa3RQf+vWLaSkpMDd3V3jTfDZs2fj5s2bOH78OJ577jl07twZFy9erHeed03qYPLhw4fStsrKSunfubm58PX1RXFxMeLi4nD69Gm4urpK6U+jY8eOmDdvHmJjYxEXFydt79ChAywsLBAYGFjrTv6VV16BlZUV8vLyNJarunXrlrR/XFwcJk6cCE9PT6SkpGDfvn2NmmakpqOjA09PT1y8eBFJSUk4c+YMxo8fDz09PfTo0QN6enqIiYnRaNehQ4fqfJTXsWNHjbZaWVnBwMBAel9BCIHMzEx06tRJ6iRVKhWuX7/+2OCKSE5PTw8zZ84EACxbtuyx016eZPpNaWkppk6disLCQhw4cAAvv/yyPEud5E/CHkdPT6/O0b2aDAwM0LNnT9y5c0cK4CsqKlBWVoaWLVvWGqkjomdLX18fHh4e8PLygpWV1WOv4SedfiOEwJ49e9CxY0c4OTlJ211cXDTioQ0bNsDOzg52dnZYu3YtOnTogIqKCo2y1B7XRxI9qUb/BTpz5gwuXbqESZMmSXfLvr6+mDJlCqytrfGf//wHLVq0gI+PD06dOoXAwEAcP34cu3fvxs6dO4Hqi6+srAypqalITk5Gu3bt0KlTJ2zbtg3JycnYuXOnxiNspVIJpVIJXV1dtGjRAnv37kVqamqNVv1XY1+UrWn06NHw9vbWeCnUxMQEQ4cOxebNm5GUlITKykrk5ORg06ZNaN26NQYPHowjR45g6dKlOH36NJYuXYqffvpJ2r+goABCCOlYv/zyS42RevWNzKlTp3Dw4ME6RzX79u0LOzs7rF+/HgqFAj179gQAODk5oWvXrggPD0dOTg4qKytx4MAB7N+/v86RdgcHB+Tk5OD+/fsAAHt7e7z88suIiIhAbGwsoqKisH37dkyYMEGaFnTz5k2oVCo4OjrKSiN6PBsbG8yfPx8XLlyo9w8ZnnD6TUZGBn766Sd4enrizJkz2LVrF3bt2oXDhw+joqICWVlZWLp0KX799VckJibirbfeQkFBAfz8/AAAc+bMkdaOLioqwuLFi5GSkoKUlBRMmTIFx44dg4+PD9q0aYOUlBTMmTMH586dQ3JysvRYfsiQIQCA119/HXfu3MEHH3yA2NhYfPLJJ0hPT8frr7/e4Iu3RPTnedLpN3fv3sWpU6fQu3dvmJubS9s7dOigEQ+NHDkSFhYWsLCwgJeXF1544QUMGTIEe/fuxbfffovMzEyEhIRApVJhwIABGnUQNQv5cjh1US99aG9vL65evaqRVlVVJd577z3RqVMnkZmZKSoqKsTXX38tunXrJoyMjESnTp1EbGysENXL0A0dOlQYGRmJsWPHCpVKJfbt2ye6dOkijIyMhI+Pj5g9e7a03NOjR49ESEiIMDY2FsbGxmLBggXCw8NDWi6q5tJQxcXFYvTo0WL06NF1Ln2lXtJSvsze5cuXhZ2dncbydiqVSnz88cfCxMREOobly5eL8vJyoVKpRHBwsDA2Nhbm5uZi9erVYtKkSdKykNevXxfDhw8XRkZGolu3bmLlypUaS1g+evRIfPrpp8LIyEh06dJFnD17ts4lrpYtWyaMjIyk5SfVLl68KJVvZGQkevfuLQ4ePKiRR02+pKUQQhQUFIh33nlHGBkZSe1/9OiRlM4lLUnucUtaqpeUVHv06JH0/ZJfa09Dff3KP+q+4OLFi6Jfv37S9v79+4uDBw+Kqqoqce/ePeHu7i6ioqKEEELcuXNHeHt7S3m7desmduzYISoqKoQQQpw9e1b0799fSh8yZIj45ZdfNNpz+PBh0adPH2FUfR3HxsZKS3oSUfNo6pKWz8qZM2eElZWVWLFihTxJQ13tlccTNfsmouamI+paNoUa7e7du/Dx8UG7du2wbds2jfn1fzYhBMLCwpCamoodO3Y0OGfw+vXrGDVqFD766CO8++678mQirXThwgW89dZbiI6O1nh0TkRE9H8Jg/omSklJweHDhzFmzBg8fPgQK1aswL59+7BhwwaMHTtWnv1Pp1QqMWHCBHh4eGD69On1zjdU/y+ZBQUF+Pbbb5v0HgARERER/bkY1DfRyZMnMXHiRGk5Kmtra4SGhuLVV1+tc147EREREdGzxqCeiIiIiEjLNXr1GyIiIiIi+mtiUE9EREREpOUY1BMRERERaTkG9UREREREWo5BPRERERGRlmNQT0RERESk5RjUExERERFpOQb1RERERERajkE9EREREZGWY1BPRERERKTlGNQTEREREWk5BvVERERERFqOQT0RERERkZbTEUII+ca6FBcXyzcREREREdFfQKODeiIiIiIi+mvi9BsiIiIiIi3HoJ6IiIiISMsxqCciIiIi0nIM6omIiIiItByDeiIiIiIiLcegnoiIiIhIyzGoJyIiIiLScgzqiYiIiIi0HIN6IiIiIiItx6CeiIiIiEjLMagnIiIiItJyDOqJiIiIiLQcg3oiIiIiIi3HoJ6IiIiISMsxqCciIiIi0nIM6omIiIiItNwTBfWxsbFQKBTw9vaGSqWSJ/9hIiMjYWFhgfT0dHlSLYmJiVAoFNLH1NQUU6dORWFhoTxrk+zduxfDhw/HpUuX5EkAACEE1q1bBz8/P9y9e1ee/NSUSiV8fHywatUqCCFQWVmJ2NhY9OjRA+np6cjLy0Pfvn2xfft2+a5EjxUZGalxzdS85tVpb7zxBkpLSzX2CwoKeiZ9Q0lJCebOnQtTU1MoFAq4urqiqKgIAHDo0CH06dMHCoUCbdu2xaRJkzSu7UuXLsHT01O69hctWlSr3UT016FSqeDt7V2rD1J/IiMjUVBQACcnJ43tQ4cOxbFjx+TFPbWHDx9i9uzZGD16dJ19W3l5OdasWQNra2soFAoMGDAAv/32m5SelZWF1157TWrniBEjcO3aNSldCIFDhw7BxcUFiYmJ0naipmhyUF9RUYH4+Hi4uLggMzMTmZmZ8iz12rt3L1xdXXH69Gl50h9mxowZiI6OxvTp0xETE4OpU6c+1R/3K1eu4Pz589JFfu3aNYwYMQLr1q0DAFRWVuLixYvIzc19qnrqIoTA6tWr8fvvv8Pf3x8pKSl4+eWX4e/vLwU71tbWWLhwIRYvXoycnBx5EUSPpaenh9DQUERHRyM6Ohrz5s1Dq1atpPSkpCTs3r1bY59nQalUYty4cdi8eTM+++wz/Pzzz/Dz84Ouri4A4Pbt25g1axaOHTuG2bNnY9euXVixYgWEECgqKsJbb72Fmzdv4rvvvsOiRYuwZs0afPnll/JqiOgvolWrVpg3bx6io6OxevVqGBsbY9CgQVJf5O3tLeVVb//iiy9w+/ZtvPnmmzh//rxGeU+qtLQUa9asgYODA9avX4+Kigp5FgBAdHQ0FixYgLfffhtxcXEwMTGBv78/rl+/DgBYvXo12rdvj9jYWKxcuRInT57E7NmzUVpaioyMDPj6+mLUqFG4cuWKvGiixhNNlJmZKbp27Sp27twp3N3dRWhoqDxLvSIiIoS5ublIS0uTJz2RppSXkJAgjIyMREJCgrQtNDRU2NjYiKysLI28TyMtLU2Ym5uLiIgIeVKzu3r1qnB0dBQ7duwQQggxY8YMMWvWLDF37lyN8/LgwQPh4eEhli1bJiuBqH6Pu74iIiJEu3btRM+ePYWzs7PIzc2V0gIDA4WXl5coLi7W2Odp7NixQ5ibm4ujR4/Kk2p5+PCh+Pvf/y78/PxEaWmp2LdvnzAyMhLx8fFCCCGqqqrErFmzRL9+/cTt27fluxPRX0x+fr5wdHQUgYGBDW5PTU0V7dq1E1999ZVG3ieVn58vhg8fLv79738LDw+POvs2lUolRo0aJf7+97+Lhw8fClEdK3Xq1Elqx+3bt0VVVZUQ1X2Qv7+/cHR0FPn5+WLt2rXi7bffFqtXr64VpxA1RZNH6o8cOQJTU1O8/PLL6N+/P/bu3Ys7d+5I6epHSAMGDJAehcfExCAoKAghISEoLS2Fu7s7vL29kZqaCgsLC0RGRkr7y6fUnDx5EkOHDpUeWXl6euLGjRtSfjWVSgUfHx/4+PjU+WisLm3atJH+XVhYiKlTp0qP9u3t7bFz504IIYAaI/DqdgQEBKCsrEyjvYmJiXB3d0dpaSlCQkKk7UFBQXByckJubi7GjBmD/v37S+esrKwMY8aMwZAhQ6BUKmtNE1i8eDHKy8uldtaUmZmJiooK9O3bF6g+dytXroS5ublGPoVCgVGjRiEpKQn379/XSCN6Uvr6+vj000+l66C+EaynpX462KdPH7i4uMiTNVRWVuLo0aM4e/Ysxo4dCwMDg1rt0tHRgaWlJXJzc5GXl6eRRkTarVWrVtDX15dvfmKWlpZISkrChAkTYGBgIE8GquMeeT9jbGwMQ0NDHD9+HABgamoKHR0doLqfevToEZ577jno6+vjgw8+wObNm2Fra6tRBlFTNSmoVyqV2LZtG9zd3WFiYgJvb29cvnwZaWlpUp7ExET4+PjA2toa+/fvR3R0NFq1aoXly5cjODgYrVu3RlxcHLZs2YLWrVtrlF+XjIwMTJw4EefPn8eqVatw7NgxLF26VAq2n4QQAmfOnEF0dDR69+6Ndu3aISAgAAcOHEBUVBR+/vlnODs7491330ViYiLKysrwj3/8A1euXMGBAwfw888/o23btqisrNQo18PDA3FxcWjdujWCg4ORkZGB7t27S+mtWrXCuHHjkJ2djTNnzgAAcnNzceLECYwbNw4PHjzA66+/DgA4ceIEVqxYgVWrViE6Oloqo6Zz587B1tYWZmZm8qRaevTogfz8fAb11CTqm3D1zWxQUJBGuq2tLT7++GN8++23OHz4sEZafeqaq69QKODk5ISCggJ5djx48AAXLlyAoaEhpk2bBoVCAQsLC6xZs0a64VXPv23Xrh0mT56MJUuW4LXXXgMAODk5oUOHDliwYAG2bt2KNWvWYMWKFbJaiEjb3b17F2vXrkXLli3x0ksvyZOBJ+h/GsPQ0BBubm745ZdfEBoaitjYWEyfPh03b96UZwUA/PDDD9izZw9Gjx4NExMTeTLRE2tSUJ+VlYXMzEwMGTIEOjo66N69O7p06SKNaJeVlWHTpk1wdnbG+vXrMWDAAIwePRp+fn7SXSuq71hNTEyku9bHmTx5Mt555x107NgRY8eOxaBBg5Cbm4uSkhKNfIaGhoiPj0d8fLxUT13Gjh0LY2NjuLq6omXLlggPD8fp06dx6NAhLF68GGPGjEGvXr2wbt062NraYuvWrRp34Lq6unB2dkZ4eLjGSD8AGBgYwNTUFKhuj7m5ea0Rg379+sHS0lIKgI4ePYqqqiq4uroiPj4et2/fRkREBOzt7TF+/HgMGTIE8fHxtY4XAC5evAhra+vHHq+amZkZ9PT0GNRTk8jn1AcEBMizYPz48XjllVcQGhraqJfBAwMDkZ2dXetz6NChOm9Qy8vLUVxcjP3796Nnz544duwYvLy8MH/+fMTHxwPVT922bNmClJQUBAYGYvbs2fj0008hhMDzzz+PjRs3omXLlggKCsKuXbvg6+srr4aItNTWrVuhUCjQuXNn7Nq1C8uXL4ejo6M8G/AE/U9jTZ8+He+//z42bNiADz/8EC+88ALat2+vkUcIge+++w4TJ07E66+/jn/84x+NioOIGqtJQf2OHTtQWlqKcePGQaFQwNbWFtnZ2UhJScG1a9egVCqRnZ0NJyenZrv7zMrKwnvvvYeePXvCxsYGR44ckWdpkhkzZiAmJganT5/G8ePHYW9vjwsXLsDAwEDj0Zc6KL9z5w50dHQQHh4OKysrDB48GHZ2dti/f79GuY1lY2ODkSNH4sCBAygoKEBCQgKGDRuGbt26ISMjAw8ePMBLL70EhUIBc3Nz7Nu3DxUVFU/1ZILoSenr68PDwwO+vr7w9fWVpnrV1Lp1a8yfPx+XL1/G119/3eB31dDQEJaWlrU+ZmZm0ouvNenr6+O5556Dn58fpk2bBicnJ4SFhaFDhw44ePAgUD2lxsTEBH369EFISAj8/f2xa9cuaQUcV1dXnDx5EkqlEgcOHJBG+zt06CCrjYi0jfpF2ZSUFNy4cQNvvvlmvcFyU/ufxmrTpg0+//xz3L9/H4WFhfD390dlZSWcnZ2B6sGJ8PBwfPDBB/jkk0+wbt26WgODRE+r0UH9rVu3kJKSAnd3d2nULjo6GrNnz8bNmzdx/PhxPPfcc+jcuTMuXrwIpVIpL6IWXV1d6Orq4uHDh9K2mlNacnNz4evri+LiYsTFxeH06dNwdXWV0p/EwIEDMXLkSHTp0kW6gO3t7VFWVqaxLKVKpcKtW7fw/PPPo02bNrC1tcWBAweQkZGBbt26YcaMGRrLUTWWjo4OPD09cfHiRSQlJeHMmTMYP3489PT04OzsjHbt2iE5OVljBGHLli11XvwdO3ZEXl5eo94hKCoqQmlpaaOmPBE1Vc+ePTFjxgysWrUKR48elSdraOrjb2NjY9jb2+Pu3bsoKysDqv9AVlZWPtH3Wd2X9e3bt9kGH4joz/P888/D19cXffr0qXfeu1pT+58ndejQIahUKvTv3x+oXh1nxYoV2LRpE+bMmVPrKT5Rc2h0UH/mzBlcunQJkyZNkkbtfH19MWXKFFhbW+M///kPWrRoAR8fH5w6dQqBgYE4fvw4du/ejZ07dwLVI25lZWVITU1FcnIy2rVrh06dOmHbtm1ITk7Gzp078cUXX0h1KpVKKJVK6OrqokWLFti7dy9SU1NrtOq/nuRFWbVevXrBwcEBCxcuRGxsLDIyMjBr1ixcunQJb7zxBkpKSrBkyRJkZGSgRYsWsLCwkBchUd+onDp1CgcPHqxzeaq+ffvCzs4O69evh0KhQM+ePQEAbm5uqKqqwvLly1FUVITy8nLExMQgMzOzzlEHBwcH5OTkNGpKzdmzZ2FjY/PYthM9KR0dHUyePBkvvPBCgy+fNvXxt56eHvz9/XHo0CHMmjULsbGxmD17Nu7du4dXX30VKpUKwcHBiIuLw4ULFxAWFoaNGzdi+PDhaN++PUpKShAeHo49e/Zgz549eOONN1BYWIjp06dDT09PXh0R/R/W1P6nPhcuXECXLl2QkJAAAEhNTcXy5ctx+PBhLF68GPPmzcOECRPQu3dvKJVKfPfdd+jduzdatGiB+Ph47Nq1Cz/88APu3bsnL5roiTUqqK+oqEBMTAwsLS3Rr18/jTQrKyu4u7vj+PHjyMnJwaRJk/DFF18gLS0Nw4YNw4cffijlffXVV9GvXz/MnTsXGzduhImJCcLCwlBWVobXXnsNmzdvxrhx46T8Dg4OCAwMRHx8PF588UXcuHEDvXv3ltKbi5mZGb7//nv0798fU6ZMwd/+9jdkZ2cjPj4egwcPhq6uLu7evQs3Nzd0794dWVlZ2LhxI55//nl5UXBwcMCUKVOwe/du+Pv71zkXvm3btvD09MTZs2fh5+cnrVbj4uKCrVu3Ii8vD3/729/QvXt3/PDDD7VWs1EbMGAAWrRogV9++UWepEGpVGLPnj3w9PRE27Zt5clEzcLExATLli1Dy5Yt5UkanuTx9+DBg7FhwwYkJSXB398fV69exa5duzBo0CC0atUKxsbGmDJlCvr164eoqChMnz4dYWFh0NPTQ4sWLXDlyhVMmDABb731FgwMDLB///4GV9Ihov97nqT/qcvp06dhamqqMSUxKioKI0aMwIYNG7Bw4UIsW7YMenp6KCkpQUFBAX799VdMnDgR77zzDt555x34+/sjNzdXo1yip6EjGpoAS39ZQgiEhYUhNTUVO3bsqPeF2d27d2POnDnYtWtXvS8PERERUePMmTMHQgisWLGizifpRH8GBvVaTqlUYsKECfDw8MD06dNrdS55eXl49dVX8f777+Pdd9/VSCMiIiKi/xsY1BMRERERablGzaknIiIiIqK/Lgb1RERERERajkE9EREREZGWY1BPRERERKTlGNQTEREREWk5BvVERERERFqOQT0RERERkZZjUE9EREREpOUY1BMRERERaTkG9UREREREWo5BPRERERGRlmNQT0RERESk5RjUExERERFpOQb1RERERERajkE9EREREZGWY1BPRERERKTlGNQTEREREWk5BvVERERERFqOQT0RERERkZZjUE9EREREpOUY1BMRERERaTkG9UREREREWo5BPRERERGRlmNQT0RERESk5RjUExERERFpOQb1RERERERajkE9EREREZGWY1BPRERERKTlGNQTEREREWk5BvVERERERFqOQT0RERERkZb7f7Q+OJLGUqqMAAAAAElFTkSuQmCC)"
      ],
      "metadata": {
        "id": "nOVkSrlsv7CH"
      }
    },
    {
      "cell_type": "code",
      "source": [
        "#Metrics\n",
        "\n",
        "from sklearn.metrics import confusion_matrix, accuracy_score, precision_score, recall_score, f1_score,classification_report\n",
        "\n",
        "confusion_matrix(y_test,y_pred)"
      ],
      "metadata": {
        "colab": {
          "base_uri": "https://localhost:8080/"
        },
        "id": "9Zx67dQm_liE",
        "outputId": "1c41740d-c792-402c-e6b6-31a8cc7fe381"
      },
      "execution_count": 36,
      "outputs": [
        {
          "output_type": "execute_result",
          "data": {
            "text/plain": [
              "array([[25536,   748],\n",
              "       [  639,  1921]])"
            ]
          },
          "metadata": {},
          "execution_count": 36
        }
      ]
    },
    {
      "cell_type": "markdown",
      "source": [
        "![image.png](data:image/png;base64,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)"
      ],
      "metadata": {
        "id": "aPJAVDvLwPwP"
      }
    },
    {
      "cell_type": "code",
      "source": [
        "accuracy_score(y_test,y_pred)"
      ],
      "metadata": {
        "id": "xiqoqhY6APX_",
        "outputId": "eb834141-228d-4126-8350-290430c54b2a",
        "colab": {
          "base_uri": "https://localhost:8080/"
        }
      },
      "execution_count": 30,
      "outputs": [
        {
          "output_type": "execute_result",
          "data": {
            "text/plain": [
              "0.9519137428928026"
            ]
          },
          "metadata": {},
          "execution_count": 30
        }
      ]
    },
    {
      "cell_type": "markdown",
      "source": [
        "![image.png](data:image/png;base64,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)"
      ],
      "metadata": {
        "id": "pC02fblywZVV"
      }
    },
    {
      "cell_type": "code",
      "source": [
        "precision_score(y_test,y_pred)"
      ],
      "metadata": {
        "colab": {
          "base_uri": "https://localhost:8080/"
        },
        "id": "hnm1zC-AsaMt",
        "outputId": "6e44f752-5a58-42e5-eeee-389bdbeca8ae"
      },
      "execution_count": 33,
      "outputs": [
        {
          "output_type": "execute_result",
          "data": {
            "text/plain": [
              "0.7197452229299363"
            ]
          },
          "metadata": {},
          "execution_count": 33
        }
      ]
    },
    {
      "cell_type": "markdown",
      "source": [
        "![image.png](data:image/png;base64,iVBORw0KGgoAAAANSUhEUgAAAskAAAC0CAYAAABmFrHbAAAAAXNSR0IArs4c6QAAAARnQU1BAACxjwv8YQUAAAAJcEhZcwAADsMAAA7DAcdvqGQAADthSURBVHhe7d15WFTl/z/+5wgki4CAICjigoooGhqi4Z4hQW7ou0XFBTVcMn1raLaopaVf08rtbUWiaZSQVmruK2ouKQio7KImIMKw6zDIMHP//vjA+TEHMDQ38vm4rrkuue/7nDOcQXjOPa9zH4UQQoCIiIiIiCQN5A1ERERERM86hmQiIiIiIhmGZCIiIiIiGYZkIiIiIiIZhmQiIiIiIhmGZCIiIiIiGYZkIiIiIiIZhmQiIiIiIhmGZCIiIiIiGYZkIiIiIiIZhmQiIiIiIhmGZCIiIiIiGYZkIiIiIiIZhmQiIiIiIhmGZCIiIiIiGYZkIiIiIiIZhmQiIiIiIhmGZCIiIiIiGYZkIiIiIiIZhmQiIiIiIhmGZCIiIiIiGYZkIiIiIiIZhmQiIiIiIhmG5Edk3759sLCwgIWFBfz8/KBSqaBSqeDn5ye179u3T74ZERERET0FHklIzsvLwwcffAAXFxcpEHbq1AkhISHQaDTy4XUiD5hVHzY2NnjppZewc+dOaLVa+aZERERERPflkYTkc+fOYd26dSgqKoKjoyOMjIyQnp6O4OBgzJs3D+Xl5fJN/hGNRoOoqCiMHTsWwcHBD33/RERERPRseSQh2cHBAb///juysrKQkJCAnJwcLFq0CADw66+/Ii0tTb7JfYuIiEBxcTFu3bqFKVOmSO0Pa/9ERERE9Ox6JCHZ3d0d/fr1g0KhAAAYGBhg5MiRaNq0KUpLS6FWq+WbPDBTU1NMnjwZVlZWAPDQ909EREREz55HEpJrUlhYiOLiYjRp0gR2dnby7n9ErVajtLQUAGBsbAwTExOp7/bt21i4cCGcnZ1hYWGBxo0bw9fXFzExMVX28P+PXbVqFTp16qRX7/zuu++itLQUWq0WBw4cgL+/P5ycnKQxPXr0wM6dOyGEkO+SiIiIiOqhRx6StVotLl68iBkzZkCtVuOtt96Cg4ODfNgDy8zMxPz586XZ4xEjRsDZ2RkAkJ6ejpdffhmrVq2CUqkEAOh0Opw6dQoDBgzAzp07pf1Ujl24cCHS09Oldo1Gg8TERGi1WiiVSsyePRtHjhxBYWGhNCYxMRFjx47Fxo0bpTYiIiIiqr8eWUiuXALNysoKvXv3Rn5+Pnbv3o1Zs2ZJZRj/xBtvvAELCwu4urri9OnTMDIywuLFi7F06VIYGhqivLwcixYtQmJiIgBg4cKFyMvLQ3R0NJydnaHT6bB69WoUFxdDpVJhxowZ0lg/Pz9cunQJxcXFuHTpEry9vQEADRo0QM+ePbF//37k5OSgqKgIBw4cgKWlJQBgy5YteuGZiIiIiOqnRxaSjY2N4ejoCHt7ewBARkYGXnvtNURERDySsoSgoCBMmTJFKrVIS0vDkSNHAABdu3bF5MmTYWRkhHbt2uHll18GAMTHx+PKlSu4ePEiTp48CQBo37491qxZg5YtWwIAWrZsidmzZ8PMzAx2dnbYuHEjvLy8YGRkhNzcXOh0Oql85Pr168jOzq54RkRERERUXz2ykDxgwAAkJCQgJSUFeXl5WLNmDe7evYupU6ciMjJSPvy+RUREIDU1FV5eXgCA//3vf/j444+lAH7jxg0UFBQAAGJiYvRqiL/99lugopY5Ozsb0dHR0rJxL7zwQq010xqNBiEhIXBxcYGVlRWcnZ3h6+uL1NRUgBcNEhEREf1rPLKQXJWRkRHGjx+PkSNHQqfTYe/evfIhD6Rp06ZYuHAhnnvuOQBAaGgozpw5AwD3tVZyXW9w8s033yA4OBhZWVkAAHt7e3h7e8PGxkY+lIiIiIjqsccSkh8lT09PvPnmmwCAsrIyLF++HCqVCo6OjmjUqBFQUW5x48YNFBcXV3v4+vrCzc1N2l90dDRycnKkryvduXMHu3fvBgA0adIE58+fR0pKCjZv3oz27dvLhxMRERFRPfbQQ3JJSQm2bt2K/Px8qU2r1eKHH37AL7/8AoVCAR8fH6Bitjc4OBiWlpZYu3btA9UqGxoa4u2335Zmc48dO4bdu3ejTZs2cHd3ByrKLdatW4fi4mIAQHFxMbZs2YJNmzYBFes6u7q6AgBSUlLw/vvvIycnB0IIJCUlYcmSJSgoKJDKN1QqFQoKCqDVavHrr7/izz//rHg2RERERPRv8NBDshACP/zwA1q1aoU2bdqgY8eOsLOzw4wZM6DT6TBx4kT069cPAJCbm4u9e/dCCIF9+/ahpKREvrs66dChAyZNmiR9vWLFChQWFmLJkiXSyhOff/45HB0dYWFhAUdHR8yYMUNaicLW1hbr16+Xxm7btg1t27aFpaUlPD09cebMGVhZWWHAgAFARS3zoEGDYGVlhf/+978wMjKSjk1ERERE9d9DD8kNGzbExIkT4erqitzcXGRkZECr1aJnz57Ytm0bVq5cKYXKJk2awM/PDwqFAr6+vjA1NZXvrk4UCgUmTJiANm3aABWzwZs2bUK3bt1w9uxZjB8/Xm/fjRs3xpgxYzB8+HCp7YUXXqhxrIODAwYMGABjY2MsWrQI06ZNQ4MG/3faunXrhoiICHTv3l0aT0RERET1n0I8SI0DEREREdG/2EOfSSYiIiIiqu8YkomIiIiIZBiSiYiIiIhkGJKJiIiIiGQYkomIiIiIZBiSiYiIiIhkGJKJiIiIiGQYkomIiIiIZBiSiYiIiIhkGJKJiIiIiGQYkomIiIiIZBiSiYiIiIhkGJKJiIiIiGQYkomIiIiIZBiSiYiIiIhkGJKJiIiIiGQYkomIiIiIZBiSiYiIiIhkGJKJiIiIiGQYkomIiIiIZBiSiYiIiIhkGJKJiIiIiGQYkomIiIiIZBRCCCFvJCJ6GimVSgQGBuLq1avyrhoNGzYMCxcuxIwZM7Bjxw5oNBoAQIMGDWBvbw+lUgmNRoMuXbrgs88+Q9++faFQKOS7oYdIrVbj119/xeDBg2FpaSnvhlqtxu7du3Hy5Ek0adIEkyZNQvPmzfXGaLVaHD58GAcOHAAA9O3bFz4+PjAxMdEbV+nvjvksiYuLQ15eHl566SV5FwAgNTUVW7ZsQVFREQYOHIjBgwfDwMBAb0zV16hhw4bw8/ND3759q42r9HfHJHpacSaZiOqNuLg43Lp1CyEhIYiLi0NCQgJWr16NjIwM+Pn5IT4+HgkJCThy5AjatGkDGxsbmJiYIDQ0FJGRkWjUqBGGDRuG3NxcJCUlIS8vD9nZ2ejVqxeGDRuGffv2yQ9JD0FBQQF++eUXTJ06Fe3bt8dnn30GtVotH4bs7GyMGDECUVFReO+99+Dp6QkfHx+cOXNGGqPRaPDee+/hwoULeOedd9ClSxdMmTIF/fv3R3p6ujSursd8FkRFRWHVqlXo168f+vTpg7i4OPkQCCHw448/4vXXX4evry/mzp2LXbt2Ydq0aXrnrbi4GJMnT4ZKpcLs2bNhbW0Nf39/vPbaayguLpbG1eWYRE87hmQiqheEEDhy5AhWrFiB3r17w8jICACkAPXSSy9Js8AODg4YOHAg2rdvL21/7do13LlzBz169IChoaHUbmJigv79+0On02Hjxo0oLS2V+ujhMTY2xpQpU/Dyyy/LuwAA5eXlWLJkCZRKJd599100b94cr7zyCl5//XV8+OGHUgA7fvw4UlJSMH78eLRu3RoTJkzAmjVrkJiYiOXLl6O8vFza598d81ni4uKCDz/8sNbZ9ri4OMyZMwfTpk2Dl5cXWrRogQULFiAyMhJ79uyRxoWHh8PMzAwjR45E69atMX/+fAQHB+Pw4cMIDQ3V2+ffHZPoaceQTET1Qn5+PkpLS+Hp6Sm1lZSUICoqCk2bNkXHjh31xut0Ojg6Okpfnzx5EoaGhnjhhRf0xgHA7du3gYrAXDVA08NhZWWFV199FV27dsVzzz0n7wYApKWl4ffff4ednR3MzMyk9u7duyM6OhrR0dEAgEuXLiEyMhJLly6VxvTu3RvNmjXDiRMnkJ+fD9TxmM8KDw8P+Pr6ws7OTt4l+fHHH6FWq9GiRQupzdbWFm3btkV4eLj05jE6Ohrh4eHYvHkzAEChUMDPzw8mJiY4duwYSkpKgDoek+hpx5BMRPWCUqnEwIED9QJUTk4OEhMT0a5dO9ja2uqNt7Gxkf7gq1QqxMfHw9HREc7OznrjysvLsX//fqCihpkh+clQq9W1zuILIRAbGwsA6N+/Pzp37qz3ZsfAwAANGjRAeXk5dDpdlS2prqqWSsglJCSgsLAQADBkyBB06NABnTp1kvobNPi/KFFeXg5e5kT/JgzJRFQvdOjQAYMHD9ZrS01NRXZ2Nnr27KkXngFgwoQJUnDOyMhAfHw8nn/+eVhbW+uN27NnD3bs2IFJkyZh2LBhen309EhLSwMAdO3aFadOnUJgYKDUd+3aNdy6dQvu7u5o3Lhxla3oYSgsLIRSqQQADB48GOfOncOAAQOk/pSUFKjVari7u1f7f0hUnzEkE1G9VVmP7OHhIe/Sk5aWhoKCAvz111+YM2cOZs6ciZkzZ8LPzw8LFizAhg0bsHLlSqnOmR6/Nm3aoFOnTtBqtXqzkefPnwcqLtiriUajwZYtW2BmZoZ3330XxsbG8iFUB97e3oDsPCuVSqSmpkKr1UKr1VYZ/f8rLi7Gxo0b4ezsjGnTpsm7ieo1hmQiqpdUKhXOnj1bYz2y3LFjx6BQKDB79mx88MEH0iMsLAxxcXEYMWJErctX0eNhYWGBWbNmISUlBUlJSQCAGzduYNeuXfKhevbu3YvDhw9jy5YtNdabU90MGjQI/fv3x759+6DRaCCEwK+//oqcnBz5UIkQAhs3bkRWVhbCw8P16pmJ/g0YkomoXqqc5aqpHrmqynpkBwcHeHp6wt7eXnpYW1tzXeSnyNChQ/H1119j0qRJ6NixI+bPn4/p06cDFeU2ctHR0Vi5ciUiIiL0Pv6n+2dhYYHNmzejrKwMbm5u6NatGywsLPDiiy/CxsYG9vb28k2wa9cu7Nu3D7///jtcXFzk3UT1HkMyEdVLCQkJtdYjV1VZj+zm5gYbGxt5Nz1FFAoFXnnlFWkN7J9++klqd3d31xsbHR2N999/H5s3b0a3bt1QXl6OiIgIFBUV6Y2jurOyskJoaCiSk5MRExMDf39/5Ofno2PHjtVqvXfu3InNmzcjPDwcTk5OUKlU+Pnnn2u9+JKoPmJIJqJ6KSoqCqhDPXJycjIKCgrQq1cv1qs+5b799lv4+PhINwURQuD8+fN44YUX9Eop0tPTsWrVKoSGhqJNmzYAgKKiIpw6dYplMw8oMzMTvr6+WL9+vVQTnp6ejoyMDLz55pt6/3eio6Oxa9cufP/997CysgIq3oxGRUWhYcOG0jii+o4hmYjqnbrWIwshcOLEiRpnIunJ0el0NV4IduHCBURHRyMrK0v6+vDhwwgODoaFhQVQcVe+t956C8ePH4ePjw86duyIjh07onv37igqKqr1jVBtx3wW1XQelEolLly4gKioKGi1Wmg0GmzcuBHdu3eHr6+vNC45ORkTJ07EsWPH0LNnT+n8e3t7o1GjRrWWL9V0TKKnHUMyUT2hUqmQn5+vd+W/VquFUql8Jj7iLC0tlW4x7ODggD/++APZ2dlwd3dHhw4dsHbt2mpjHRwcEBISAiEE/P394evri7y8PL390qOnVCrh4+MDe3t7bN26FTdv3kSnTp3QoUMHvbu0DRs2DK1bt0ZiYiI+//xzjBkzBosXL9YLaT/99BNOnz6NwsJCZGRkSI/c3Fw4OztL61zX9ZjPgtDQULRv3x59+/aFWq3G4sWL4eTkBB8fH2lpt3bt2qFXr15o1KgRfv31V/znP//BX3/9hZCQEL1ypi+//BLXrl1Dbm6u3vkvLCzUqxuvyzGJnnYKwZW/6RkWHx+PgIAAaQ1WAFLtXWFhIdq1a4epU6ciICDgid1aNT4+HkOGDEFubi569+6Nbdu2wczMDMHBwQgJCQEARERE6AUJovoqJycH0dHRaNiwIXr27AlTU1P5EHpENBoNLl++jL/++gtubm5wdnaudWa4Prt9+zbCwsKQmJiI5s2bY/z48TVemCj37bff4ubNmxg3bly16yAMDAxgbW0NAwMD/Pbbb2jWrBnc3NxgamqK3NxcHD16FK6urujSpYu0jVqtxu7du3Hy5ElYWlpi3LhxaNeund5+6QkTRCSio6OFnZ2dCAgIEBqNRgghhE6nE3FxcaJz587C09NT3LhxQ77ZY1NWViZGjRolfH19xZ07d6T248ePCysrK7F371698UREVN2NGzfEiy++KDZt2iTUarU4ePCgcHd3F1FRUfKh1QQFBQlzc/MaH927dxe5ublCo9GIcePGVesfO3asKCoqkvZVVFQkhg4dKpYsWSLu3Lkj4uLihIeHh9ixY4feMenJYrkFUZXbqpqamkof1yoUCnTp0gUfffQREhMTsWjRIpSXl8u2fDyMjIxgbm4ub4aFhQVvgEFEVAfl5eVYvnw5nJ2dERAQAGNjY3h7e8Pf3x+ffvop1Gq1fBOJSqVCXl4eXnvtNUyYMEF6jB49Gk2bNsWHH34IGxsbGBoawtzcHK6urnB0dMSwYcOwbds2bNq0SaqrR0U5SmFhIWbMmAEzMzN06dIFc+fOxZIlS+65NjU9XgzJRH+jMpzGxMSgoKBA3k1ERI+QRqOBUqms9a6LlTQazT0vEMzIyMCBAwfQrVs3aTIEANzd3XH69GkkJyfrja/q9u3bcHJywv/+9z+sWbNGenh7e+ONN97A0KFDpbHGxsb49ttvkZCQgB9++AE+Pj56q64UFhZix44d6NChg97Sem3btpVWCaGnA0My0d+4ffs2AKBr167SckdVXb16FatWrcJ3332Hq1evyruh1WoRGxuLpUuX4rvvvsOlS5f0Lr7TaDQ4deqUtI8rV67o9RMRPYuEEPjuu+9gb28PZ2dn2NraYu7cudLvZLnt27ff86LAa9eu1ThLa2RkBLVajZSUFHmXpGHDhhg/frze6imJiYnYs2cP5s2bd1+129nZ2bh+/bq8GQ0aNIAQgiH5KcKQTHQPqampWLZsGbp27YolS5bozT5oNBp8/vnnCAwMRP/+/dG6dWsMHToUa9eulUJudna29FHekCFD4ODggH79+mHdunVAxYUbY8aMwYcffoghQ4age/fuCAwMxJw5c/521oSI6N8sMjISMTExSE1NRXFxMW7evAkHBwd0794d27dv15s1Tk9PR2Rk5D0v9CwtLb3nBERmZqa8SWJlZYXnn39e+lqlUmHZsmWYPn26XhlFpfDwcPTp0wcdOnTAwIEDERcXJ/Wp1ep7rkh0r+dBjxdDMlEV+/btg5+fH/z8/ODk5ARPT0/MmDEDhw8fRvPmzauNXbVqFVasWAF3d3e8/PLLmDlzJlatWoUrV65Ao9Hg448/xs2bN7F+/Xp07twZlpaW0Ol00jqwGo0Gubm5yM/Ph7m5Odzd3bFo0SJs2rQJhw4d0jveP7F9+3ZpPdO6PPr27VvjrDg9fsuXL6/2+tzr4e/vz7KgeqagoAD+/v7VXst7PZYvXy7fzb/O1atX8dFHH8Ha2hqouGZkzpw5OHLkCH777Te0b98eU6ZMwYQJE+Dt7Y0RI0bUGFgrJSUlyZse2O7du2FoaFjj+usqlQq2traIjIxEUlISgoKCMGTIEERHRwMAsrKy7ln/TE8PLgFHBCA2NhY+Pj4YPnw4vv32W6Di3f7cuXOxc+dO7NixQ++OX6WlpQgICMCNGzewb98+6XbHFy5cgK+vL77//ns4ODjAx8cH48aNw4oVK4CKjw+Liopgbm4u1aipVCoAkJYUqnwu8+fPx+zZs6VjTpkyBenp6dIScFXHfv/9909kCbh7/UGiv1dcXCxvemz42j0+fJ1r9nfnJS0tDS1bttT7BK+SEAJpaWnYv38/bG1t4e3tLYXp2qxbtw4ffPABPvnkE73frfv27cMbb7xRrb02xcXFGD58OAICAjBx4kR5N+7cuQMTExPpd3xmZiYGDhwILy8vhISE4NixYxg5ciRGjRol/b1BLX+H6AmTL3dB9CyKiYkRdnZ2IigoSK89KSlJODk5VVt6LSsrS7i6uopWrVqJqVOninfeeUfvERcXJ/bu3SvMzc3Fl19+qbdPuZKSEhESEiK8vLyEl5eX+M9//iMsLCyqbRcUFFTteVQ+by4BR0T/Rrm5uWLx4sXCy8tLzJ07V6SkpMiHSE6ePCny8vLkzZLafifX1l6bQ4cOCTs7O3H69Gl5V40q/1507txZZGdn1/r3prZ2enJYbkF0D5aWljAzM8PVq1dRWFgotRsZGaFRo0ZwcnLCsmXL9K52XrNmjd6C8fdy69Yt+Pn5ISwsDFu3bsWpU6fw4Ycf1npr3QdVWlqKW7du1fmRk5PDmuinhEqlqvb63OuhVCrveYU/PX2EEMjPz6/2Wt7rUVRUJN/Nv05mZiZGjBiB4uJizJ07F02aNMGrr76K4ODgahfvlZeX48yZM/dcprNx48Y1zkpXcnZ2ljfV6MCBAwBQ4w2mwsLCYGlpWeNdHcvLy6HT6dC4ceN7zvDzhiJPD4ZkojooKChAdna29LW1tTX69u2Lmzdv6oVnALhy5QoyMjLQsWNHNGvWDBcuXND7xa3RaHDx4kWUl5dj7969uHDhAhYsWAAnJye9/QDAzz//jPj4eHnzfVMqlTh79mydH+fPn8edO3fku6En4Pr169Ven3s9YmNjUVZWJt8NPcXKy8tx8eLFaq/lvR6pqany3fzrHDhwAMuWLcOKFSswfPhwzJs3D3FxcWjWrBnc3d2xZcsWZGZmIi0tTbrY2dbWVr4bScuWLeHg4ICbN2/qtWdlZcHKygouLi5SW05ODvLz8/XGAUBJSQmSk5NhYWGht3xbJaVSWe3iQK1WC51Oh1atWsHc3By2trZo164d8vLy9C7gKygoQHl5uV5pHz1h8qllomdR5R33Jk6cKHQ6ndReUFAg+vbtK8zNzUVERIQQQohvvvlGxMTEiISEBNGqVSuxaNEiUV5eLkTFnfHmzp0r0tLShE6nE1999ZWws7MTkZGR0j5PnTolFi9eLHQ6nQgNDRXm5uZiz549Uv+GDRukj/6+/PJLERMTIwTLLYjoGfPNN9+IgoICebMQQoiUlBQxdepUYW1tLRwdHcWqVatESUmJfJgenU4nlixZIgYMGCDd/a6srEyMGzdOBAYGSndbTUlJEW3atBEuLi7i+vXrevvIzc0V3bt3F66uriIrK0uvTwgh/vzzT/Huu++KsrIyqW379u2iSZMmenfTCw8PF66urtL+a3pu9OTxwj16psXHx2PixIlITk6GTqcDKj6SGzNmDJYtWwYA2LVrFwIDA9G1a1fMmTMHYWFhWL16NWxtbXHlyhVMnjwZarUaPXr0wJUrVzB79mx4e3sDFbPG69evx/Lly9G3b1+YmpqiUaNG+PTTT2FhYYHi4mLMmjULhw8fhp+fH+7evQsvLy8kJydj8+bN8PPzw8yZM/HWW28hLS1Nen6bN2/GwYMHERISAo1GgwYNGmD48OFYv379PZdAIiJ6lhUXFyMwMBDm5uYYM2YMfvvtN1y5cgWbNm2SVjDKzMzEa6+9hiZNmiAsLEyvNCInJwcvv/wyysvLcfToUdjb21fZ+/+Vzqxbtw779+/HG2+8gUuXLuHnn3/GRx99hMmTJ0vrKWs0GsybNw8pKSmYNm0aYmNjsWvXLmzYsKHO5Xr06DEkE9VBcXExoqKiUFJSAg8Pj2q/GIuKinD37l1YWVnVeJtojUaDgoICNGzYEJaWlvJuqFQq3L59G40bN5bqkUtLSx96bfKjoFQqERgYWOcl44YNG4aFCxdixowZ2LFjh1T73KBBA9jb20t31urSpQs+++wz9O3b974W6v+nKv8I1rTYv1zl1fBbtmzBvHnzUFJSAgAICgrCihUrpOedmZmJoUOH6n1EPnXqVHz++efS10/ajRs3cO7cOfznP/+RdwEVa4Zv2bIFRUVFGDhwIAYPHqx3FzFUrAize/dunDx5Eg0bNoSfnx/69u1bbVylvzvmoyaEQHR0NCIiIqDVajFy5Eh4eXnp/bzdvn0bYWFhSExMhL29PV5//XU4OztX+5msOs7JyQlTpkyp8VbyT0rV169du3Z47bXXqv0e++2339CsWTO4ubnB1NQUubm5OHr0KFxdXasFt/s9d82bN8f48eOrHfNJ0Gq1uHTpEq5fv45WrVqhc+fOtf6M1iQ+Ph46nQ5ubm7Vfg4qZWRkIDY2FqampvDw8KixBrlyhY7Lly/D1tYWnp6eNf79oCdIPrVMRHQ/Dh06JF544QVx8uRJ6SPGgwcPCnNzc/Huu+9K5Ss3b94Ur776qlixYoW07cWLF4WDg4MICAiQPuoUFSt+zJs3T1haWuqVojxOlVe8f/LJJ/IucfHiReHq6ipCQ0Oltjt37oihQ4cKa2vrGj+mFUKIFStW6JXnPGlJSUkiJCREvPrqq8LS0rLGq+p1Op0ICwsT7u7u4tSpU+LGjRti4sSJ4q233tL7eLuoqEiMHj1abNq0SVy9elUsXbpUWFpaCn9/f72Pj+tyzMdBpVKJqVOnilGjRomkpCSRkJAg+vTpI44ePSqNuXjxovD19RUnTpwQBQUFIjQ0VFhbW4s1a9bolWUlJSUJDw8PsXbtWpGVlSVCQ0OFh4eHSE1NlcY8STt27BBjxowRFy9eFKdOnRK9evUS1tbWYufOndIYjUYjxo0bJ8zNzfUeY8eOrfbxf13O3Y0bN8SLL74oNm3aJNRqtTh48KBwd3cXUVFRevsieprxwj0iemBCCBw5cgQrVqxA7969pVmQM2fOAABeeuklaabFwcEBAwcORPv27aXtr127hjt37qBHjx56V52bmJigf//+0Ol02Lhx4z3vTiWXk5ODmTNnSrO6D+r8+fMAgBdffFHehc6dO+PVV1+Fg4OD1KZUKuHk5ITp06fj5s2b0hXwVd26dQs+Pj73NWv1qDk4OGDBggW1zvDFxcVhzpw5mDZtGry8vNCiRQssWLAAkZGR2LNnjzQuPDwcZmZmGDlyJFq3bo358+cjODgYhw8frnal/98ds64e9LUWQuCTTz7BtWvX8M0338DFxQVHjhxBbGwsYmNjpXFbtmzB6dOnpU95RowYATc3N6xcuVK6hbFKpcLs2bPh6OiISZMmwd7eHuPGjUOHDh2wdOnSe6628Djk5ORg/fr1mDRpEtzc3ODl5YUtW7bAxsYGCxcuREZGBgDA0NAQ5ubmcHV1haOjI4YNG4Zt27Zh06ZNerOgdTl35eXlWL58OZydnREQEABjY2N4e3tLdx/ljTSovmBIJqIHlp+fj9LSUnh6ekptJSUliIqKQtOmTdGxY0e98TqdDo6OjtLXJ0+ehKGhYY1Xc1cu8WRiYnLPZZvkdDod7t69W+0K8/tR9XuouhyTWq2Wlldr3LixXkhOTU1F27ZtMWrUKFhaWiI8PFzvZgmFhYXIzc2t8zJTj4OLiwsGDx6Mli1bokGDmv8c/Pjjj1Cr1WjRooXUZmtri7Zt2yI8PFx6AxMdHY3w8HBs3rwZAKBQKODn5wcTExMcO3ZMCrJ1OWZdPehrHRcXh++//x6vv/66FAD9/f0RHBwMf39/aZyRkRF0Oh1yc3OBiiBpbGwMjUYjrSBy7tw5nDp1CnZ2dtKSYIaGhujWrRuOHDkiXUvwpNy8eROxsbGYNWsWlEolAKB169bo06cPrl69isTERGmssbExvv32WyQkJOCHH36o8Q1dXc5dRkYGDhw4gG7duun933V3d8fp06eRnJwstRE9zf7ZbygieqYplUoMHDhQugMgKmauEhMT0a5du2rLMdnY2EhhS6VSIT4+Ho6OjtWCY3l5Ofbv3w9U1DDfT0h+GCq/B1dXV9jZ2QEVNeIfffSRtBRgp06d9Jbti4qKQpcuXdC+fXt4e3sjOjoa586dk/qzs7NhZWX1t3cFe9rc665oCQkJ0hKIQ4YMQYcOHdCpUyepvzIEl5eX33eQfZT27dsHjUYDV1dXaR3qypnVVq1aSeMqZ0zHjBkDVNRQJyQkwN3dHW3atAEqfi5q+94KCgrqXKv/qLRp0wbe3t7o1auX9P9UoVBI/6fud6a7Lufu2rVryMnJkW8KIyMjqNVqaRae6GnHkExED6xDhw4YPHiwXltqaiqys7PRs2dPvfAMABMmTJCCc0ZGBuLj4/H8889XC4579uzBjh07MGnSJAwbNkyv73Go/B48PDyk1UL+/PNP5OXlSc91+PDh0r9LSkqQmZkJFxcXGBoaYvTo0QCAn376SQohcXFxcHZ2fuyB/1EqLCyUZicHDx6Mc+fOYcCAAVJ/SkoK1Go13N3dq/0sPCmlpaWIjo6GkZERDhw4gA8++ADbt29Hz5498d133+kFXiMjI9jY2MDAwAC3b9/GF198AXNzc/y///f/6vz9POmZZAsLC4SFheHrr7+WnnNhYSGSkpKkTwSqCg8PR58+fdChQwcMHDgQcXFxUl9dz9293jig4kJWovqAIZmIHqrKemQPDw95l560tDQUFBTgr7/+wpw5czBz5kzMnDkTfn5+WLBgATZs2ICVK1c+kau9K7+HDRs2oE2bNrCwsMCQIUPg5uZW44ojOTk5UCgUUmj29PTECy+8gEOHDkmzZpcvX66xrORpV3U5w0pKpRKpqanQarW13t2vuLgYGzduhLOzM6ZNmybvfmK0Wi1KSkqgVquRm5uLL774AjNmzMCaNWuwaNEi7Nu3T298SUkJAgMD0aNHD5w/fx5r167Vmy2vvGlQ1dny8vJyXLhwAZCdt6fFkSNHEBcXh3feeUcvJKtUKtja2iIyMhJJSUkICgrCkCFDEB0dDdzHuUtKSpL2SVSfMSQT0UOjUqlw9uzZGuuR5Y4dOwaFQoHZs2fjgw8+kB5hYWGIi4vDiBEjqtVDyhUVFVW7Xa9SqYRarUZ2dna1PpVKJd9FNVW/hxMnTuDq1avIzs7GsGHDag25lfXIlQHawsICb775JoqKirBz504UFhbixo0b1cpK6oNBgwahf//+0sfsQgj8+uuvNX6cXkkIgY0bNyIrKwvh4eF69cwP6mG/1gqFAiNHjpRm9tu3b4/GjRtXu1DU1NQUmzZtQkJCArZv345p06Zh6tSpUo21k5MTpk6diujoaKSnpwMAYmNjcfz4cWkfT5P09HQsW7YM7733Ht5++229JcxWrFiB//73v9L/u969e8PU1BT/+9//9Moy/u7cPYk3tkSPAkMyET00lTOMNdUjV1VZj+zg4ABPT0/Y29tLD2tr61rXHq2qpKQEISEhWLp0qd5j1apVuHDhAlasWFGt75dffpHvppqavgeFQgE7Ozu929ZWVVmPXJWPjw+aNWuGX375BRcvXqyX9cioCPybN29GWVkZ3Nzc0K1bN1hYWODFF1+EjY1NjStU7Nq1C/v27cPvv/9e6zm7Hw/zta6sxzU2NoaVlZW8W6/OWq5du3bo06cPIiIisHXrVqBif++88w6mT5+OV155BZ06dcJPP/2EoKAgoKIk6WlRXFyM2bNnY9KkSZg3b161MNuoUSO9N6YGBgZo0KABoqKikJ+fX+dzVx/fDBLVSL4mHBHRg9qzZ0+tawtXlZSUJJycnMTIkSOFWq2Wd/8jWVlZIigoSO/23fejpu9Bp9OJ27dv662NW+nOnTti8uTJIiMjQ6+98jaz5ubmok+fPnprKj9tsrKyhKura53XLK68NW9Nr9+OHTuEv7+/yM/PF6Li/ERERFQbd7/HrMmDvtZvv/22sLOzk275Lqo8n8rbDZeVlYl169aJdevW6d1i+MsvvxTm5uZ/+7yDg4OFk5OTSEpKknc9EUVFRWLkyJFi+/bt0s/xH3/8IeLi4oQQQvzwww/CwsJCbNiwQdpGfk5EHc/d6dOnhZWVlfjyyy+lMaLK2uNV12cmeppxJpmIHpqoqCigDvXIycnJKCgoQK9evWqs8X2SKr+HqusjKxQKNGrUqMYZbqVSCWNjY9jY2Oi1KxQKjBgxApaWlrh8+TJcXV31+uuLzMxM+Pr6Yv369VLNbXp6OjIyMvDmm2/qvX7R0dHYtWsXvv/+e2mmMSMjA1FRUWjYsKE07knr378/tFptjev1duzYEY0bN0Z8fDwWL16MxYsXIz4+XuqvrLetXP6svLwcH3zwAQICAqSVQCo/KRk4cOBTMauq0Wjw2WefYdy4cRg5cqT0c3z06FGpjEKpVFa72E6r1UKn06FVq1bS3QPrcu5atmwJBwcH3Lx5U68/KysLVlZWD+XTBaLHgSGZiB6KutYjCyFw4sQJKBQKuLu7y7ufqKrfQ9X1kWsjhMCpU6dgZGRUYwisXA6ubdu2ejdReVrVtFSbUqnEhQsXEBUVBa1WC41Gg40bN6J79+7w9fWVxiUnJ2PixIk4duwYevbsiY4dO6Jjx47w9vau9Q0Gajnmo9avXz84Ozvj7NmzUltKSgoKCwsxceJEGBsbo0mTJnBwcIC/v7+03Ft+fj6Sk5NhaWmJgIAAAMDdu3cRGxuLqKgoFBQUAAAOHz6M1NRUzJo164mvZqLRaLBy5UqEhoZi/vz50uvSoUMHhIeHSyVAvXr1QlBQEMaNGydte/bsWeTl5WHKlCnSyhh1OXcODg4YNWoUoqOjpTcOGo0Gx48ff2reOBDViXxqmYiortRqtZgyZYpo166d3q1sLS0thYuLi1izZk21sU2bNtUb98orr4jc3Fy9/f4TD/IRfE5Ojhg0aJCwtraWnpu1tbV4/vnnxdmzZ+XDhRBCbNiwQW98u3btpI+uqzp06JAIDAzUu+320+Lo0aPCxcVFWFpaSt9H06ZNRc+ePcXly5eFqCiX8Pf3F++8846IiIgQQ4cOFUOHDhW3bt3S21dQUJDez0DVR0REhDSuLsesqwd5rStFRkYKFxcXsWjRIvH1119LP69VS2oOHjwounTpIhYsWCC2bdsmRo4cKZo1ayYOHjyot681a9aIl156SURERIjg4GDRqVMnERkZqTfmSYmJiRF2dnbVXhNzc3PRt29fUVBQIERFedCaNWuEn5+f2Lx5s1QuEhISUq3MqC7nrqioSIwYMUKMHz9eHDx4UEybNk14e3tXK0siepopxON+C09E9AjdunULixYtwpdfflnntWzp3jQaDS5fvoy//voLbm5ucHZ2rnVm+HH6p691SUkJzp49i5KSEri7u+vdDbJSaWkpzp8/j7y8PNja2sLT07PaBW9CCKSnp0sXaNY0pr7IyMhAbGwsTE1N4eHhoXdL6qrqcu60Wi0uXbqE69evo1WrVujcufPfrlhD9DRhSCaifxWVSoWDBw9iyJAhT/yjbnq0+FoT0aPEkExEREREJMML94iIiIiIZBiSiYiIiIhkGJKJiIiIiGQYkomIiIiIZBiSiYiIiIhkGJKJiIiIiGQYkomIiIiIZBiSiYiIiIhkGJKJiIiIiGQYkomIiIiIZBiSiYiIiIhkGJKJiIiIiGQYkomIiIiIZBiSiYiIiIhkGJKJiIiIiGQUQgghbyQiotpZWFjIm4hqVVxcLG8ionqAIZmI6D5ZWFgw+FCd8GeFqP5iuQURERERkQxDMhERERGRDEMyEREREZEMQzIRERERkQxDMhERURVarRZKpRIqlUrepaekpAQajUbeTET/EgzJRETPGCEE8vPzq4VAlUqF/Px8PMuLHhUXF2Ps2LFYvXo1pk+fjq1bt9Z4Pq5evYrJkycjJydH3kVE/xIMyURED8n7778PGxsbWFhYwMLCAo0bN4aLiwsaN24MGxsbBAYGIikpSb7ZYxUSEgJLS0u0atUKISEhAID4+Hi0adMGDg4OCAgIQElJiXyzR0qlUmHatGn4+eefkZmZiVu3buk9ioqKAAClpaXYunUrEhISUFpaCq1Wi8zMTGzatAk3btyQ77YaIQSioqIwd+5czJkzBwcOHIBWq9UbExoaCgMDA3z88cf46quvsGHDBvj6+uLw4cO4desW0tLSsHLlSnh7eyMgIADNmzfX256I/j0YkomIHpJly5YhNzcXr732GgwNDbFv3z4kJyejsLAQ6enpcHZ2Ro8ePbB27doaZycfh6CgIMTExKBJkyZSW6dOnZCcnIzBgwfrjX1cbt++jePHj2Py5MlwdXVF+/bt9R6ffvopAODu3bsICQlBz549YWdnBysrK7i6uuLKlStwcHCQ71aPEAKrV6/GggULMGPGDHz00Uf4+eefMXv2bKlkoqSkBMeOHcPzzz8PQ0NDWFtbw8/PDwsWLEDDhg1x4sQJxMTEwMzMDCNGjMCgQYPkhyGifxGGZCKih0ihUMDQ0BBGRkYwMTGR2k1NTTFjxgy4u7vjk08+wfnz5/W2e5zMzMxgbGys12ZkZARzc3O9tsfl1q1bsLGxwYQJE/Qer7zyCjp06ICZM2cCAAwNDWFjYwNXV1e0atUKo0ePxtGjR/Hpp5/CyMhIvls9cXFxWLt2LRYuXIiWLVvC2toaCxYswOHDh3H8+HGgotTiypUrMDAwkLZr0KABiouL0adPH7z++uvo168fzp49i//+978wNDSscgQi+rdhSCYiekyMjIxgZmaGsrIyxMTEyLvrHY1GA6VS+bcXr2k0mmplDVVlZWUhMDAQa9askR5ffPEFmjVrhuXLl6NFixbSWBsbG+zcuRMXL17EN998Aw8PDygUCr391WTXrl1o2LAhWrduLbU1adIELVq0wC+//AIhBBo1aqR3LFS86al8QyGEwNq1a/HGG2+wzILoGcCQTET0mGg0GqhUKjz33HPo2rWrvBtqtRr79+/H0qVLcfjwYajVavkQaDQaHD9+HIsXL8aWLVtw9epVvf6MjAxs374dS5cuxaFDhx5JfbEQAt999x3s7e3h7OwMW1tbzJ07F7dv35YPBQBs374dSqVS3ixp06YNXnnlFb22H374Aa1bt0b//v312h9EaWkpLl68KG+GQqGAgYEBEhISUFRUhEaNGuGFF17A5cuXIYSAWq3G9evX4eLiAgCIjIzE3bt3WWZB9IxgSCYiegw0Gg02bNiAS5cuYenSpejevbtef3JyMl5++WXEx8dj1KhR2Lt3LwYOHIj09HS9MV5eXvjll18wZswYlJSUoFu3bti7dy8A4NixY3B3d0dxcTHGjx+Pixcvolu3bg991joyMhIxMTFITU1FcXExbt68CQcHB3Tv3h3bt2/XmzVOT09HZGQkTE1N9fZRlYuLC5o1ayZ9HRcXhyNHjiAwMLDaLPHdu3exevVq9OjRAy4uLnjzzTf/9qI9rVZ7zzcLSqUSpaWlAIBp06bhypUrWLlyJT7++GO0bdsWzZo1Q2ZmJkJDQzFz5kyWWRA9IxiSiYgeAbVajRkzZsDPzw+9e/eGjY0N9u/fj9jYWAQFBemFP5VKhdmzZ8PFxQWzZs1C69atMX/+fJSVleHrr78GKuplZ82aBUdHRyxfvhzOzs4wNTWFEAK5ubkAgLy8PJSVlaGkpATNmzfH9OnT4erqig8//LDacm//xNWrV/HRRx/B2toaqKi3njNnDo4cOYLffvsN7du3x5QpUzBhwgR4e3tjxIgRsLCwkO+mRhqNBl999RX8/f1r3KawsBAeHh44e/YskpKS4ObmhmHDhum9mZC7ffs2rl+/Lm+uUYsWLbB//354eHggICAAb7/9NsrLy7FmzRqMHj0azZs3h1qtxrZt27BgwQJcu3ZNvgsi+pdgSCYiegRMTEywbt067N27F3/88QcOHTqE5ORkrFy5sloN77lz53Dq1Cn07t1bmqW0tbXF888/j9jYWKhUKvzxxx84ffo0hgwZIl0QOGbMGPz1118YO3YsAMDf3x/Xr1/HtGnTgIrnYGdnh+vXr9daCvEg+vfvDzs7O3kzmjdvjrCwMBw4cACdO3eGr68vTp8+DR8fH/nQWsXExOD8+fPo3LmzvAumpqYICwvDiBEjoFAooFAo4Ofnh5s3byIsLEw+XNKgQYP7mv01MTHBgAED0LlzZygUChw8eBAAMGjQIGg0Grz33nu4cuUKAgIC8MUXX9wzoBNR/cWQTET0GPTo0QNvvvkmvv/+exw6dEivLzY2FkII7Ny5EzNnzsTMmTMxa9YsmJmZwcfHBwYGBkhOTgYAvaXODAwM0LhxY2lW2sDAADk5OZg8eTI6duyIUaNG4dSpU9L4h8XZ2RlFRUVYsmQJevXqhXnz5iE1NRWoqPNt27YtZsyYgTfeeAPW1tb4448/kJ+fL99NNUII/Pzzz2jSpAmaNm0q74ZCoUCjRo30ZuEbNPi/P2NnzpyptaTCzMwMjo6O8uY6yczMxE8//SSVWcTExODEiRMYNWoUXFxcMHz4cOzatUu+GRH9CzAkExE9JpV1twkJCXrtlpaWQMXMcNUVHtasWYNZs2ZVW66tNhs2bEC/fv3g6emJS5cuYevWrejVq5d82D+WmZmJESNGoLi4GHPnzkWTJk3w6quvIjg4uNqMdXl5Oc6cOYPy8nK99prk5+fjxIkTMDMzq3FJt4ULF8La2hrHjh2Td6G8vLzWtacbNmwIGxsbebOkRYsWaNSokby5WpkFKmb9y8rKpNfE1dUVeXl5si2J6N+AIZmI6DFLTEzUC3Q9e/aEpaVltbvxaTQanD17FuXl5ejVqxeee+65ausrl5SU4NKlS8jLy0NISAi8vLwwYcIEvbV+UXFx2urVq/XaHtSBAwewbNkyrFixAsOHD8e8efMQFxeHZs2awd3dHVu2bEFmZibS0tIwZ84caDQa2NrayndTzc2bN5GRkQEbGxs0bNhQ3o3s7GzodDq9tsqvW7ZsKV0cqNVqcePGDeliPENDQ3Tr1g0qlUq6ex8qVr3Izc1Fly5dagzJVcssKslLZQwMDHD37t17LnFHRPUTQzIR0UMkhJBmTeWBrnI28sqVKygqKkJmZiYWL14MV1dXjB49GmFhYUhJSZHGnz9/HqdOnYKBgQG6du1a45jdu3frBee7d+9Kx1UqlYiNjQUqLg58WDOeGo0GHTt21GszMTHBnDlzsH//fpw5cwZdunRB//794ezsjNmzZ1dbpaImubm5UKlUMDU1rbGG2NvbGwsXLpSWhRNC4NixY3juuecwefJk6Rg//vgj3NzcMH36dOm1GDZsGExMTHDp0iVpf8nJydIdEuUyMzMRERGB4OBgvefi7OysN+7WrVswNTWt9qaEiP4FBBER3Rdzc3N5kxBCiPnz54sWLVoIc3NzYW5uLiwtLYWnp6e4fPmyEEKIoqIi4e/vLywtLcW6devEJ598IkJDQ4UQQpSVlYlVq1YJJycnMXbsWDF+/Hgxffp0UVRUJO1fpVKJ4OBg4eDgIMaPHy9Gjx4tPv30U1FWViaEEOLgwYPC0dFRDBo0SEyfPl0EBgaKvXv3itatW4v27duL/fv3iw0bNoimTZtKz/Gll14SJ0+eFO7u7lJbixYtxNGjR6XjPi4HDx4U5ubmIigoSN4lRMU5mjNnjhgzZoz48ccfxVtvvSWcnJzEwYMH9cbt3btXNGnSRHz11VdCp9NJ7Tt37hSdOnUSGzduFD/++KPw8PAQISEhemOEEEKj0Yh58+bVeA7S09OFl5eXOH78uNDpdGL58uU1jqtU288KET39FKK2Ii4iIqqRhYUFiouL5c11otVqceXKFSQmJqJp06bw9PTUm4XUaDQoKChAw4YNpVpludLSUhQWFsLc3BxmZmZ6fVqtFvn5+TAwMICVlRUUCoU0m1rT7OzTpLK8pF27drC3t5d3AxWzx2lpabh8+TJsbGzQvXv3Otdso6Lu+c8//wQqLqasXMauqpMnT+LMmTOYO3dujTPgFy5cwLvvvovGjRuja9eueP/992usocY//FkhoieLIZmI6D4x+FBd8WeFqP5iTTIRERERkQxDMhERERGRDEMyEREREZEMQzIRERERkQwv3CMiuk8WFhbyJqJa8cI9ovqJIZmIiIiISIblFkREREREMgzJREREREQyDMlERERERDIMyUREREREMgzJREREREQyDMlERERERDIMyUREREREMgzJREREREQyDMlERERERDIMyUREREREMgzJREREREQyDMlERERERDIMyUREREREMgzJREREREQyDMlERERERDIMyUREREREMgzJREREREQyDMlERERERDIMyUREREREMgzJREREREQyDMlERERERDIMyUREREREMgzJREREREQyDMlERERERDIMyUREREREMgzJREREREQyDMlERERERDIMyUREREREMgzJREREREQyDMlERERERDIMyUREREREMv8fZ35lmNbpmNwAAAAASUVORK5CYII=)"
      ],
      "metadata": {
        "id": "nSituD5_wiAi"
      }
    },
    {
      "cell_type": "code",
      "source": [
        "recall_score(y_test,y_pred)"
      ],
      "metadata": {
        "colab": {
          "base_uri": "https://localhost:8080/"
        },
        "id": "WsEd8hzNshsC",
        "outputId": "13322a1d-c80e-4937-97af-d5d4f5f5c682"
      },
      "execution_count": 34,
      "outputs": [
        {
          "output_type": "execute_result",
          "data": {
            "text/plain": [
              "0.750390625"
            ]
          },
          "metadata": {},
          "execution_count": 34
        }
      ]
    },
    {
      "cell_type": "markdown",
      "source": [
        "![image.png](data:image/png;base64,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)"
      ],
      "metadata": {
        "id": "WO68qwAmwru9"
      }
    },
    {
      "cell_type": "code",
      "source": [
        "f1_score(y_test,y_pred)"
      ],
      "metadata": {
        "colab": {
          "base_uri": "https://localhost:8080/"
        },
        "id": "pftU7z0FsnfY",
        "outputId": "0807f48e-5278-448d-f078-68dbd3a18660"
      },
      "execution_count": 35,
      "outputs": [
        {
          "output_type": "execute_result",
          "data": {
            "text/plain": [
              "0.734748517881048"
            ]
          },
          "metadata": {},
          "execution_count": 35
        }
      ]
    },
    {
      "cell_type": "code",
      "source": [
        "print(classification_report(y_test,y_pred))"
      ],
      "metadata": {
        "id": "wcHnLvhbAS4s",
        "outputId": "e9d0917f-4e71-431f-b2ef-2c23aca12b4a",
        "colab": {
          "base_uri": "https://localhost:8080/"
        }
      },
      "execution_count": 31,
      "outputs": [
        {
          "output_type": "stream",
          "name": "stdout",
          "text": [
            "              precision    recall  f1-score   support\n",
            "\n",
            "           0       0.98      0.97      0.97     26284\n",
            "           1       0.72      0.75      0.73      2560\n",
            "\n",
            "    accuracy                           0.95     28844\n",
            "   macro avg       0.85      0.86      0.85     28844\n",
            "weighted avg       0.95      0.95      0.95     28844\n",
            "\n"
          ]
        }
      ]
    },
    {
      "cell_type": "code",
      "source": [],
      "metadata": {
        "id": "aQZa63jLAWRM"
      },
      "execution_count": null,
      "outputs": []
    }
  ]
}