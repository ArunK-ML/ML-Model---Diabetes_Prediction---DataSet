{
  "nbformat": 4,
  "nbformat_minor": 0,
  "metadata": {
    "colab": {
      "provenance": [],
      "authorship_tag": "ABX9TyPPH808Bou1OMPwcdL5Rlfy",
      "include_colab_link": true
    },
    "kernelspec": {
      "name": "python3",
      "display_name": "Python 3"
    },
    "language_info": {
      "name": "python"
    }
  },
  "cells": [
    {
      "cell_type": "markdown",
      "metadata": {
        "id": "view-in-github",
        "colab_type": "text"
      },
      "source": [
        "<a href=\"https://colab.research.google.com/github/ArunK-ML/ML-Model---Diabetes_Prediction---DataSet/blob/main/Diabetes_Prediction_Model.ipynb\" target=\"_parent\"><img src=\"https://colab.research.google.com/assets/colab-badge.svg\" alt=\"Open In Colab\"/></a>"
      ]
    },
    {
      "cell_type": "code",
      "execution_count": 1,
      "metadata": {
        "id": "L4bcUWtZxnUv"
      },
      "outputs": [],
      "source": [
        "import pandas as pd"
      ]
    },
    {
      "cell_type": "code",
      "source": [
        "df = pd.read_csv(\"/content/diabetes_prediction_dataset.csv\")\n",
        "\n",
        "df"
      ],
      "metadata": {
        "colab": {
          "base_uri": "https://localhost:8080/",
          "height": 423
        },
        "id": "6PJMd2t7zwmX",
        "outputId": "4d81370b-c3bb-4386-9d5b-7d86cd72ca25"
      },
      "execution_count": 2,
      "outputs": [
        {
          "output_type": "execute_result",
          "data": {
            "text/plain": [
              "       gender   age  hypertension  heart_disease smoking_history    bmi  \\\n",
              "0      Female  80.0             0              1           never  25.19   \n",
              "1      Female  54.0             0              0         No Info  27.32   \n",
              "2        Male  28.0             0              0           never  27.32   \n",
              "3      Female  36.0             0              0         current  23.45   \n",
              "4        Male  76.0             1              1         current  20.14   \n",
              "...       ...   ...           ...            ...             ...    ...   \n",
              "99995  Female  80.0             0              0         No Info  27.32   \n",
              "99996  Female   2.0             0              0         No Info  17.37   \n",
              "99997    Male  66.0             0              0          former  27.83   \n",
              "99998  Female  24.0             0              0           never  35.42   \n",
              "99999  Female  57.0             0              0         current  22.43   \n",
              "\n",
              "       HbA1c_level  blood_glucose_level  diabetes  \n",
              "0              6.6                  140         0  \n",
              "1              6.6                   80         0  \n",
              "2              5.7                  158         0  \n",
              "3              5.0                  155         0  \n",
              "4              4.8                  155         0  \n",
              "...            ...                  ...       ...  \n",
              "99995          6.2                   90         0  \n",
              "99996          6.5                  100         0  \n",
              "99997          5.7                  155         0  \n",
              "99998          4.0                  100         0  \n",
              "99999          6.6                   90         0  \n",
              "\n",
              "[100000 rows x 9 columns]"
            ],
            "text/html": [
              "\n",
              "  <div id=\"df-934e053f-bd75-4485-854c-46b091c5fb67\" class=\"colab-df-container\">\n",
              "    <div>\n",
              "<style scoped>\n",
              "    .dataframe tbody tr th:only-of-type {\n",
              "        vertical-align: middle;\n",
              "    }\n",
              "\n",
              "    .dataframe tbody tr th {\n",
              "        vertical-align: top;\n",
              "    }\n",
              "\n",
              "    .dataframe thead th {\n",
              "        text-align: right;\n",
              "    }\n",
              "</style>\n",
              "<table border=\"1\" class=\"dataframe\">\n",
              "  <thead>\n",
              "    <tr style=\"text-align: right;\">\n",
              "      <th></th>\n",
              "      <th>gender</th>\n",
              "      <th>age</th>\n",
              "      <th>hypertension</th>\n",
              "      <th>heart_disease</th>\n",
              "      <th>smoking_history</th>\n",
              "      <th>bmi</th>\n",
              "      <th>HbA1c_level</th>\n",
              "      <th>blood_glucose_level</th>\n",
              "      <th>diabetes</th>\n",
              "    </tr>\n",
              "  </thead>\n",
              "  <tbody>\n",
              "    <tr>\n",
              "      <th>0</th>\n",
              "      <td>Female</td>\n",
              "      <td>80.0</td>\n",
              "      <td>0</td>\n",
              "      <td>1</td>\n",
              "      <td>never</td>\n",
              "      <td>25.19</td>\n",
              "      <td>6.6</td>\n",
              "      <td>140</td>\n",
              "      <td>0</td>\n",
              "    </tr>\n",
              "    <tr>\n",
              "      <th>1</th>\n",
              "      <td>Female</td>\n",
              "      <td>54.0</td>\n",
              "      <td>0</td>\n",
              "      <td>0</td>\n",
              "      <td>No Info</td>\n",
              "      <td>27.32</td>\n",
              "      <td>6.6</td>\n",
              "      <td>80</td>\n",
              "      <td>0</td>\n",
              "    </tr>\n",
              "    <tr>\n",
              "      <th>2</th>\n",
              "      <td>Male</td>\n",
              "      <td>28.0</td>\n",
              "      <td>0</td>\n",
              "      <td>0</td>\n",
              "      <td>never</td>\n",
              "      <td>27.32</td>\n",
              "      <td>5.7</td>\n",
              "      <td>158</td>\n",
              "      <td>0</td>\n",
              "    </tr>\n",
              "    <tr>\n",
              "      <th>3</th>\n",
              "      <td>Female</td>\n",
              "      <td>36.0</td>\n",
              "      <td>0</td>\n",
              "      <td>0</td>\n",
              "      <td>current</td>\n",
              "      <td>23.45</td>\n",
              "      <td>5.0</td>\n",
              "      <td>155</td>\n",
              "      <td>0</td>\n",
              "    </tr>\n",
              "    <tr>\n",
              "      <th>4</th>\n",
              "      <td>Male</td>\n",
              "      <td>76.0</td>\n",
              "      <td>1</td>\n",
              "      <td>1</td>\n",
              "      <td>current</td>\n",
              "      <td>20.14</td>\n",
              "      <td>4.8</td>\n",
              "      <td>155</td>\n",
              "      <td>0</td>\n",
              "    </tr>\n",
              "    <tr>\n",
              "      <th>...</th>\n",
              "      <td>...</td>\n",
              "      <td>...</td>\n",
              "      <td>...</td>\n",
              "      <td>...</td>\n",
              "      <td>...</td>\n",
              "      <td>...</td>\n",
              "      <td>...</td>\n",
              "      <td>...</td>\n",
              "      <td>...</td>\n",
              "    </tr>\n",
              "    <tr>\n",
              "      <th>99995</th>\n",
              "      <td>Female</td>\n",
              "      <td>80.0</td>\n",
              "      <td>0</td>\n",
              "      <td>0</td>\n",
              "      <td>No Info</td>\n",
              "      <td>27.32</td>\n",
              "      <td>6.2</td>\n",
              "      <td>90</td>\n",
              "      <td>0</td>\n",
              "    </tr>\n",
              "    <tr>\n",
              "      <th>99996</th>\n",
              "      <td>Female</td>\n",
              "      <td>2.0</td>\n",
              "      <td>0</td>\n",
              "      <td>0</td>\n",
              "      <td>No Info</td>\n",
              "      <td>17.37</td>\n",
              "      <td>6.5</td>\n",
              "      <td>100</td>\n",
              "      <td>0</td>\n",
              "    </tr>\n",
              "    <tr>\n",
              "      <th>99997</th>\n",
              "      <td>Male</td>\n",
              "      <td>66.0</td>\n",
              "      <td>0</td>\n",
              "      <td>0</td>\n",
              "      <td>former</td>\n",
              "      <td>27.83</td>\n",
              "      <td>5.7</td>\n",
              "      <td>155</td>\n",
              "      <td>0</td>\n",
              "    </tr>\n",
              "    <tr>\n",
              "      <th>99998</th>\n",
              "      <td>Female</td>\n",
              "      <td>24.0</td>\n",
              "      <td>0</td>\n",
              "      <td>0</td>\n",
              "      <td>never</td>\n",
              "      <td>35.42</td>\n",
              "      <td>4.0</td>\n",
              "      <td>100</td>\n",
              "      <td>0</td>\n",
              "    </tr>\n",
              "    <tr>\n",
              "      <th>99999</th>\n",
              "      <td>Female</td>\n",
              "      <td>57.0</td>\n",
              "      <td>0</td>\n",
              "      <td>0</td>\n",
              "      <td>current</td>\n",
              "      <td>22.43</td>\n",
              "      <td>6.6</td>\n",
              "      <td>90</td>\n",
              "      <td>0</td>\n",
              "    </tr>\n",
              "  </tbody>\n",
              "</table>\n",
              "<p>100000 rows × 9 columns</p>\n",
              "</div>\n",
              "    <div class=\"colab-df-buttons\">\n",
              "\n",
              "  <div class=\"colab-df-container\">\n",
              "    <button class=\"colab-df-convert\" onclick=\"convertToInteractive('df-934e053f-bd75-4485-854c-46b091c5fb67')\"\n",
              "            title=\"Convert this dataframe to an interactive table.\"\n",
              "            style=\"display:none;\">\n",
              "\n",
              "  <svg xmlns=\"http://www.w3.org/2000/svg\" height=\"24px\" viewBox=\"0 -960 960 960\">\n",
              "    <path d=\"M120-120v-720h720v720H120Zm60-500h600v-160H180v160Zm220 220h160v-160H400v160Zm0 220h160v-160H400v160ZM180-400h160v-160H180v160Zm440 0h160v-160H620v160ZM180-180h160v-160H180v160Zm440 0h160v-160H620v160Z\"/>\n",
              "  </svg>\n",
              "    </button>\n",
              "\n",
              "  <style>\n",
              "    .colab-df-container {\n",
              "      display:flex;\n",
              "      gap: 12px;\n",
              "    }\n",
              "\n",
              "    .colab-df-convert {\n",
              "      background-color: #E8F0FE;\n",
              "      border: none;\n",
              "      border-radius: 50%;\n",
              "      cursor: pointer;\n",
              "      display: none;\n",
              "      fill: #1967D2;\n",
              "      height: 32px;\n",
              "      padding: 0 0 0 0;\n",
              "      width: 32px;\n",
              "    }\n",
              "\n",
              "    .colab-df-convert:hover {\n",
              "      background-color: #E2EBFA;\n",
              "      box-shadow: 0px 1px 2px rgba(60, 64, 67, 0.3), 0px 1px 3px 1px rgba(60, 64, 67, 0.15);\n",
              "      fill: #174EA6;\n",
              "    }\n",
              "\n",
              "    .colab-df-buttons div {\n",
              "      margin-bottom: 4px;\n",
              "    }\n",
              "\n",
              "    [theme=dark] .colab-df-convert {\n",
              "      background-color: #3B4455;\n",
              "      fill: #D2E3FC;\n",
              "    }\n",
              "\n",
              "    [theme=dark] .colab-df-convert:hover {\n",
              "      background-color: #434B5C;\n",
              "      box-shadow: 0px 1px 3px 1px rgba(0, 0, 0, 0.15);\n",
              "      filter: drop-shadow(0px 1px 2px rgba(0, 0, 0, 0.3));\n",
              "      fill: #FFFFFF;\n",
              "    }\n",
              "  </style>\n",
              "\n",
              "    <script>\n",
              "      const buttonEl =\n",
              "        document.querySelector('#df-934e053f-bd75-4485-854c-46b091c5fb67 button.colab-df-convert');\n",
              "      buttonEl.style.display =\n",
              "        google.colab.kernel.accessAllowed ? 'block' : 'none';\n",
              "\n",
              "      async function convertToInteractive(key) {\n",
              "        const element = document.querySelector('#df-934e053f-bd75-4485-854c-46b091c5fb67');\n",
              "        const dataTable =\n",
              "          await google.colab.kernel.invokeFunction('convertToInteractive',\n",
              "                                                    [key], {});\n",
              "        if (!dataTable) return;\n",
              "\n",
              "        const docLinkHtml = 'Like what you see? Visit the ' +\n",
              "          '<a target=\"_blank\" href=https://colab.research.google.com/notebooks/data_table.ipynb>data table notebook</a>'\n",
              "          + ' to learn more about interactive tables.';\n",
              "        element.innerHTML = '';\n",
              "        dataTable['output_type'] = 'display_data';\n",
              "        await google.colab.output.renderOutput(dataTable, element);\n",
              "        const docLink = document.createElement('div');\n",
              "        docLink.innerHTML = docLinkHtml;\n",
              "        element.appendChild(docLink);\n",
              "      }\n",
              "    </script>\n",
              "  </div>\n",
              "\n",
              "\n",
              "    <div id=\"df-68ebcf67-31f6-4b3f-a042-671ed1b99d40\">\n",
              "      <button class=\"colab-df-quickchart\" onclick=\"quickchart('df-68ebcf67-31f6-4b3f-a042-671ed1b99d40')\"\n",
              "                title=\"Suggest charts\"\n",
              "                style=\"display:none;\">\n",
              "\n",
              "<svg xmlns=\"http://www.w3.org/2000/svg\" height=\"24px\"viewBox=\"0 0 24 24\"\n",
              "     width=\"24px\">\n",
              "    <g>\n",
              "        <path d=\"M19 3H5c-1.1 0-2 .9-2 2v14c0 1.1.9 2 2 2h14c1.1 0 2-.9 2-2V5c0-1.1-.9-2-2-2zM9 17H7v-7h2v7zm4 0h-2V7h2v10zm4 0h-2v-4h2v4z\"/>\n",
              "    </g>\n",
              "</svg>\n",
              "      </button>\n",
              "\n",
              "<style>\n",
              "  .colab-df-quickchart {\n",
              "      --bg-color: #E8F0FE;\n",
              "      --fill-color: #1967D2;\n",
              "      --hover-bg-color: #E2EBFA;\n",
              "      --hover-fill-color: #174EA6;\n",
              "      --disabled-fill-color: #AAA;\n",
              "      --disabled-bg-color: #DDD;\n",
              "  }\n",
              "\n",
              "  [theme=dark] .colab-df-quickchart {\n",
              "      --bg-color: #3B4455;\n",
              "      --fill-color: #D2E3FC;\n",
              "      --hover-bg-color: #434B5C;\n",
              "      --hover-fill-color: #FFFFFF;\n",
              "      --disabled-bg-color: #3B4455;\n",
              "      --disabled-fill-color: #666;\n",
              "  }\n",
              "\n",
              "  .colab-df-quickchart {\n",
              "    background-color: var(--bg-color);\n",
              "    border: none;\n",
              "    border-radius: 50%;\n",
              "    cursor: pointer;\n",
              "    display: none;\n",
              "    fill: var(--fill-color);\n",
              "    height: 32px;\n",
              "    padding: 0;\n",
              "    width: 32px;\n",
              "  }\n",
              "\n",
              "  .colab-df-quickchart:hover {\n",
              "    background-color: var(--hover-bg-color);\n",
              "    box-shadow: 0 1px 2px rgba(60, 64, 67, 0.3), 0 1px 3px 1px rgba(60, 64, 67, 0.15);\n",
              "    fill: var(--button-hover-fill-color);\n",
              "  }\n",
              "\n",
              "  .colab-df-quickchart-complete:disabled,\n",
              "  .colab-df-quickchart-complete:disabled:hover {\n",
              "    background-color: var(--disabled-bg-color);\n",
              "    fill: var(--disabled-fill-color);\n",
              "    box-shadow: none;\n",
              "  }\n",
              "\n",
              "  .colab-df-spinner {\n",
              "    border: 2px solid var(--fill-color);\n",
              "    border-color: transparent;\n",
              "    border-bottom-color: var(--fill-color);\n",
              "    animation:\n",
              "      spin 1s steps(1) infinite;\n",
              "  }\n",
              "\n",
              "  @keyframes spin {\n",
              "    0% {\n",
              "      border-color: transparent;\n",
              "      border-bottom-color: var(--fill-color);\n",
              "      border-left-color: var(--fill-color);\n",
              "    }\n",
              "    20% {\n",
              "      border-color: transparent;\n",
              "      border-left-color: var(--fill-color);\n",
              "      border-top-color: var(--fill-color);\n",
              "    }\n",
              "    30% {\n",
              "      border-color: transparent;\n",
              "      border-left-color: var(--fill-color);\n",
              "      border-top-color: var(--fill-color);\n",
              "      border-right-color: var(--fill-color);\n",
              "    }\n",
              "    40% {\n",
              "      border-color: transparent;\n",
              "      border-right-color: var(--fill-color);\n",
              "      border-top-color: var(--fill-color);\n",
              "    }\n",
              "    60% {\n",
              "      border-color: transparent;\n",
              "      border-right-color: var(--fill-color);\n",
              "    }\n",
              "    80% {\n",
              "      border-color: transparent;\n",
              "      border-right-color: var(--fill-color);\n",
              "      border-bottom-color: var(--fill-color);\n",
              "    }\n",
              "    90% {\n",
              "      border-color: transparent;\n",
              "      border-bottom-color: var(--fill-color);\n",
              "    }\n",
              "  }\n",
              "</style>\n",
              "\n",
              "      <script>\n",
              "        async function quickchart(key) {\n",
              "          const quickchartButtonEl =\n",
              "            document.querySelector('#' + key + ' button');\n",
              "          quickchartButtonEl.disabled = true;  // To prevent multiple clicks.\n",
              "          quickchartButtonEl.classList.add('colab-df-spinner');\n",
              "          try {\n",
              "            const charts = await google.colab.kernel.invokeFunction(\n",
              "                'suggestCharts', [key], {});\n",
              "          } catch (error) {\n",
              "            console.error('Error during call to suggestCharts:', error);\n",
              "          }\n",
              "          quickchartButtonEl.classList.remove('colab-df-spinner');\n",
              "          quickchartButtonEl.classList.add('colab-df-quickchart-complete');\n",
              "        }\n",
              "        (() => {\n",
              "          let quickchartButtonEl =\n",
              "            document.querySelector('#df-68ebcf67-31f6-4b3f-a042-671ed1b99d40 button');\n",
              "          quickchartButtonEl.style.display =\n",
              "            google.colab.kernel.accessAllowed ? 'block' : 'none';\n",
              "        })();\n",
              "      </script>\n",
              "    </div>\n",
              "\n",
              "  <div id=\"id_4f54aaa9-2777-4dff-b236-eefba0a58435\">\n",
              "    <style>\n",
              "      .colab-df-generate {\n",
              "        background-color: #E8F0FE;\n",
              "        border: none;\n",
              "        border-radius: 50%;\n",
              "        cursor: pointer;\n",
              "        display: none;\n",
              "        fill: #1967D2;\n",
              "        height: 32px;\n",
              "        padding: 0 0 0 0;\n",
              "        width: 32px;\n",
              "      }\n",
              "\n",
              "      .colab-df-generate:hover {\n",
              "        background-color: #E2EBFA;\n",
              "        box-shadow: 0px 1px 2px rgba(60, 64, 67, 0.3), 0px 1px 3px 1px rgba(60, 64, 67, 0.15);\n",
              "        fill: #174EA6;\n",
              "      }\n",
              "\n",
              "      [theme=dark] .colab-df-generate {\n",
              "        background-color: #3B4455;\n",
              "        fill: #D2E3FC;\n",
              "      }\n",
              "\n",
              "      [theme=dark] .colab-df-generate:hover {\n",
              "        background-color: #434B5C;\n",
              "        box-shadow: 0px 1px 3px 1px rgba(0, 0, 0, 0.15);\n",
              "        filter: drop-shadow(0px 1px 2px rgba(0, 0, 0, 0.3));\n",
              "        fill: #FFFFFF;\n",
              "      }\n",
              "    </style>\n",
              "    <button class=\"colab-df-generate\" onclick=\"generateWithVariable('df')\"\n",
              "            title=\"Generate code using this dataframe.\"\n",
              "            style=\"display:none;\">\n",
              "\n",
              "  <svg xmlns=\"http://www.w3.org/2000/svg\" height=\"24px\"viewBox=\"0 0 24 24\"\n",
              "       width=\"24px\">\n",
              "    <path d=\"M7,19H8.4L18.45,9,17,7.55,7,17.6ZM5,21V16.75L18.45,3.32a2,2,0,0,1,2.83,0l1.4,1.43a1.91,1.91,0,0,1,.58,1.4,1.91,1.91,0,0,1-.58,1.4L9.25,21ZM18.45,9,17,7.55Zm-12,3A5.31,5.31,0,0,0,4.9,8.1,5.31,5.31,0,0,0,1,6.5,5.31,5.31,0,0,0,4.9,4.9,5.31,5.31,0,0,0,6.5,1,5.31,5.31,0,0,0,8.1,4.9,5.31,5.31,0,0,0,12,6.5,5.46,5.46,0,0,0,6.5,12Z\"/>\n",
              "  </svg>\n",
              "    </button>\n",
              "    <script>\n",
              "      (() => {\n",
              "      const buttonEl =\n",
              "        document.querySelector('#id_4f54aaa9-2777-4dff-b236-eefba0a58435 button.colab-df-generate');\n",
              "      buttonEl.style.display =\n",
              "        google.colab.kernel.accessAllowed ? 'block' : 'none';\n",
              "\n",
              "      buttonEl.onclick = () => {\n",
              "        google.colab.notebook.generateWithVariable('df');\n",
              "      }\n",
              "      })();\n",
              "    </script>\n",
              "  </div>\n",
              "\n",
              "    </div>\n",
              "  </div>\n"
            ],
            "application/vnd.google.colaboratory.intrinsic+json": {
              "type": "dataframe",
              "variable_name": "df",
              "summary": "{\n  \"name\": \"df\",\n  \"rows\": 100000,\n  \"fields\": [\n    {\n      \"column\": \"gender\",\n      \"properties\": {\n        \"dtype\": \"category\",\n        \"num_unique_values\": 3,\n        \"samples\": [\n          \"Female\",\n          \"Male\",\n          \"Other\"\n        ],\n        \"semantic_type\": \"\",\n        \"description\": \"\"\n      }\n    },\n    {\n      \"column\": \"age\",\n      \"properties\": {\n        \"dtype\": \"number\",\n        \"std\": 22.51683987161513,\n        \"min\": 0.08,\n        \"max\": 80.0,\n        \"num_unique_values\": 102,\n        \"samples\": [\n          29.0,\n          39.0,\n          16.0\n        ],\n        \"semantic_type\": \"\",\n        \"description\": \"\"\n      }\n    },\n    {\n      \"column\": \"hypertension\",\n      \"properties\": {\n        \"dtype\": \"number\",\n        \"std\": 0,\n        \"min\": 0,\n        \"max\": 1,\n        \"num_unique_values\": 2,\n        \"samples\": [\n          1,\n          0\n        ],\n        \"semantic_type\": \"\",\n        \"description\": \"\"\n      }\n    },\n    {\n      \"column\": \"heart_disease\",\n      \"properties\": {\n        \"dtype\": \"number\",\n        \"std\": 0,\n        \"min\": 0,\n        \"max\": 1,\n        \"num_unique_values\": 2,\n        \"samples\": [\n          0,\n          1\n        ],\n        \"semantic_type\": \"\",\n        \"description\": \"\"\n      }\n    },\n    {\n      \"column\": \"smoking_history\",\n      \"properties\": {\n        \"dtype\": \"category\",\n        \"num_unique_values\": 6,\n        \"samples\": [\n          \"never\",\n          \"No Info\"\n        ],\n        \"semantic_type\": \"\",\n        \"description\": \"\"\n      }\n    },\n    {\n      \"column\": \"bmi\",\n      \"properties\": {\n        \"dtype\": \"number\",\n        \"std\": 6.636783416649581,\n        \"min\": 10.01,\n        \"max\": 95.69,\n        \"num_unique_values\": 4247,\n        \"samples\": [\n          53.27,\n          32.33\n        ],\n        \"semantic_type\": \"\",\n        \"description\": \"\"\n      }\n    },\n    {\n      \"column\": \"HbA1c_level\",\n      \"properties\": {\n        \"dtype\": \"number\",\n        \"std\": 1.0706720918832282,\n        \"min\": 3.5,\n        \"max\": 9.0,\n        \"num_unique_values\": 18,\n        \"samples\": [\n          6.6,\n          5.7\n        ],\n        \"semantic_type\": \"\",\n        \"description\": \"\"\n      }\n    },\n    {\n      \"column\": \"blood_glucose_level\",\n      \"properties\": {\n        \"dtype\": \"number\",\n        \"std\": 40,\n        \"min\": 80,\n        \"max\": 300,\n        \"num_unique_values\": 18,\n        \"samples\": [\n          140,\n          80\n        ],\n        \"semantic_type\": \"\",\n        \"description\": \"\"\n      }\n    },\n    {\n      \"column\": \"diabetes\",\n      \"properties\": {\n        \"dtype\": \"number\",\n        \"std\": 0,\n        \"min\": 0,\n        \"max\": 1,\n        \"num_unique_values\": 2,\n        \"samples\": [\n          1,\n          0\n        ],\n        \"semantic_type\": \"\",\n        \"description\": \"\"\n      }\n    }\n  ]\n}"
            }
          },
          "metadata": {},
          "execution_count": 2
        }
      ]
    },
    {
      "cell_type": "code",
      "source": [
        "df.info()"
      ],
      "metadata": {
        "colab": {
          "base_uri": "https://localhost:8080/"
        },
        "id": "-ELxxSRK0ibW",
        "outputId": "a6bb5c3c-c744-4d2d-bcb5-ea75bac68e57"
      },
      "execution_count": 3,
      "outputs": [
        {
          "output_type": "stream",
          "name": "stdout",
          "text": [
            "<class 'pandas.core.frame.DataFrame'>\n",
            "RangeIndex: 100000 entries, 0 to 99999\n",
            "Data columns (total 9 columns):\n",
            " #   Column               Non-Null Count   Dtype  \n",
            "---  ------               --------------   -----  \n",
            " 0   gender               100000 non-null  object \n",
            " 1   age                  100000 non-null  float64\n",
            " 2   hypertension         100000 non-null  int64  \n",
            " 3   heart_disease        100000 non-null  int64  \n",
            " 4   smoking_history      100000 non-null  object \n",
            " 5   bmi                  100000 non-null  float64\n",
            " 6   HbA1c_level          100000 non-null  float64\n",
            " 7   blood_glucose_level  100000 non-null  int64  \n",
            " 8   diabetes             100000 non-null  int64  \n",
            "dtypes: float64(3), int64(4), object(2)\n",
            "memory usage: 6.9+ MB\n"
          ]
        }
      ]
    },
    {
      "cell_type": "code",
      "source": [
        "# Count Duplicate entry\n",
        "\n",
        "df.duplicated().sum()"
      ],
      "metadata": {
        "colab": {
          "base_uri": "https://localhost:8080/"
        },
        "id": "7-VdbgMu4DE9",
        "outputId": "04131b6e-1d92-4ca6-80b6-9ed5f5cec5a9"
      },
      "execution_count": 4,
      "outputs": [
        {
          "output_type": "execute_result",
          "data": {
            "text/plain": [
              "np.int64(3854)"
            ]
          },
          "metadata": {},
          "execution_count": 4
        }
      ]
    },
    {
      "cell_type": "code",
      "source": [
        "# dropping duplicates\n",
        "\n",
        "df.drop_duplicates(keep = \"last\",inplace = True)\n",
        "\n",
        "df"
      ],
      "metadata": {
        "colab": {
          "base_uri": "https://localhost:8080/",
          "height": 423
        },
        "id": "DzgSzrQV4IwF",
        "outputId": "db1a6439-d3b1-4166-846a-28d77d364f3a"
      },
      "execution_count": 5,
      "outputs": [
        {
          "output_type": "execute_result",
          "data": {
            "text/plain": [
              "       gender   age  hypertension  heart_disease smoking_history    bmi  \\\n",
              "0      Female  80.0             0              1           never  25.19   \n",
              "2        Male  28.0             0              0           never  27.32   \n",
              "3      Female  36.0             0              0         current  23.45   \n",
              "4        Male  76.0             1              1         current  20.14   \n",
              "5      Female  20.0             0              0           never  27.32   \n",
              "...       ...   ...           ...            ...             ...    ...   \n",
              "99995  Female  80.0             0              0         No Info  27.32   \n",
              "99996  Female   2.0             0              0         No Info  17.37   \n",
              "99997    Male  66.0             0              0          former  27.83   \n",
              "99998  Female  24.0             0              0           never  35.42   \n",
              "99999  Female  57.0             0              0         current  22.43   \n",
              "\n",
              "       HbA1c_level  blood_glucose_level  diabetes  \n",
              "0              6.6                  140         0  \n",
              "2              5.7                  158         0  \n",
              "3              5.0                  155         0  \n",
              "4              4.8                  155         0  \n",
              "5              6.6                   85         0  \n",
              "...            ...                  ...       ...  \n",
              "99995          6.2                   90         0  \n",
              "99996          6.5                  100         0  \n",
              "99997          5.7                  155         0  \n",
              "99998          4.0                  100         0  \n",
              "99999          6.6                   90         0  \n",
              "\n",
              "[96146 rows x 9 columns]"
            ],
            "text/html": [
              "\n",
              "  <div id=\"df-71cddc89-fa56-469a-b41f-d1bd8334f764\" class=\"colab-df-container\">\n",
              "    <div>\n",
              "<style scoped>\n",
              "    .dataframe tbody tr th:only-of-type {\n",
              "        vertical-align: middle;\n",
              "    }\n",
              "\n",
              "    .dataframe tbody tr th {\n",
              "        vertical-align: top;\n",
              "    }\n",
              "\n",
              "    .dataframe thead th {\n",
              "        text-align: right;\n",
              "    }\n",
              "</style>\n",
              "<table border=\"1\" class=\"dataframe\">\n",
              "  <thead>\n",
              "    <tr style=\"text-align: right;\">\n",
              "      <th></th>\n",
              "      <th>gender</th>\n",
              "      <th>age</th>\n",
              "      <th>hypertension</th>\n",
              "      <th>heart_disease</th>\n",
              "      <th>smoking_history</th>\n",
              "      <th>bmi</th>\n",
              "      <th>HbA1c_level</th>\n",
              "      <th>blood_glucose_level</th>\n",
              "      <th>diabetes</th>\n",
              "    </tr>\n",
              "  </thead>\n",
              "  <tbody>\n",
              "    <tr>\n",
              "      <th>0</th>\n",
              "      <td>Female</td>\n",
              "      <td>80.0</td>\n",
              "      <td>0</td>\n",
              "      <td>1</td>\n",
              "      <td>never</td>\n",
              "      <td>25.19</td>\n",
              "      <td>6.6</td>\n",
              "      <td>140</td>\n",
              "      <td>0</td>\n",
              "    </tr>\n",
              "    <tr>\n",
              "      <th>2</th>\n",
              "      <td>Male</td>\n",
              "      <td>28.0</td>\n",
              "      <td>0</td>\n",
              "      <td>0</td>\n",
              "      <td>never</td>\n",
              "      <td>27.32</td>\n",
              "      <td>5.7</td>\n",
              "      <td>158</td>\n",
              "      <td>0</td>\n",
              "    </tr>\n",
              "    <tr>\n",
              "      <th>3</th>\n",
              "      <td>Female</td>\n",
              "      <td>36.0</td>\n",
              "      <td>0</td>\n",
              "      <td>0</td>\n",
              "      <td>current</td>\n",
              "      <td>23.45</td>\n",
              "      <td>5.0</td>\n",
              "      <td>155</td>\n",
              "      <td>0</td>\n",
              "    </tr>\n",
              "    <tr>\n",
              "      <th>4</th>\n",
              "      <td>Male</td>\n",
              "      <td>76.0</td>\n",
              "      <td>1</td>\n",
              "      <td>1</td>\n",
              "      <td>current</td>\n",
              "      <td>20.14</td>\n",
              "      <td>4.8</td>\n",
              "      <td>155</td>\n",
              "      <td>0</td>\n",
              "    </tr>\n",
              "    <tr>\n",
              "      <th>5</th>\n",
              "      <td>Female</td>\n",
              "      <td>20.0</td>\n",
              "      <td>0</td>\n",
              "      <td>0</td>\n",
              "      <td>never</td>\n",
              "      <td>27.32</td>\n",
              "      <td>6.6</td>\n",
              "      <td>85</td>\n",
              "      <td>0</td>\n",
              "    </tr>\n",
              "    <tr>\n",
              "      <th>...</th>\n",
              "      <td>...</td>\n",
              "      <td>...</td>\n",
              "      <td>...</td>\n",
              "      <td>...</td>\n",
              "      <td>...</td>\n",
              "      <td>...</td>\n",
              "      <td>...</td>\n",
              "      <td>...</td>\n",
              "      <td>...</td>\n",
              "    </tr>\n",
              "    <tr>\n",
              "      <th>99995</th>\n",
              "      <td>Female</td>\n",
              "      <td>80.0</td>\n",
              "      <td>0</td>\n",
              "      <td>0</td>\n",
              "      <td>No Info</td>\n",
              "      <td>27.32</td>\n",
              "      <td>6.2</td>\n",
              "      <td>90</td>\n",
              "      <td>0</td>\n",
              "    </tr>\n",
              "    <tr>\n",
              "      <th>99996</th>\n",
              "      <td>Female</td>\n",
              "      <td>2.0</td>\n",
              "      <td>0</td>\n",
              "      <td>0</td>\n",
              "      <td>No Info</td>\n",
              "      <td>17.37</td>\n",
              "      <td>6.5</td>\n",
              "      <td>100</td>\n",
              "      <td>0</td>\n",
              "    </tr>\n",
              "    <tr>\n",
              "      <th>99997</th>\n",
              "      <td>Male</td>\n",
              "      <td>66.0</td>\n",
              "      <td>0</td>\n",
              "      <td>0</td>\n",
              "      <td>former</td>\n",
              "      <td>27.83</td>\n",
              "      <td>5.7</td>\n",
              "      <td>155</td>\n",
              "      <td>0</td>\n",
              "    </tr>\n",
              "    <tr>\n",
              "      <th>99998</th>\n",
              "      <td>Female</td>\n",
              "      <td>24.0</td>\n",
              "      <td>0</td>\n",
              "      <td>0</td>\n",
              "      <td>never</td>\n",
              "      <td>35.42</td>\n",
              "      <td>4.0</td>\n",
              "      <td>100</td>\n",
              "      <td>0</td>\n",
              "    </tr>\n",
              "    <tr>\n",
              "      <th>99999</th>\n",
              "      <td>Female</td>\n",
              "      <td>57.0</td>\n",
              "      <td>0</td>\n",
              "      <td>0</td>\n",
              "      <td>current</td>\n",
              "      <td>22.43</td>\n",
              "      <td>6.6</td>\n",
              "      <td>90</td>\n",
              "      <td>0</td>\n",
              "    </tr>\n",
              "  </tbody>\n",
              "</table>\n",
              "<p>96146 rows × 9 columns</p>\n",
              "</div>\n",
              "    <div class=\"colab-df-buttons\">\n",
              "\n",
              "  <div class=\"colab-df-container\">\n",
              "    <button class=\"colab-df-convert\" onclick=\"convertToInteractive('df-71cddc89-fa56-469a-b41f-d1bd8334f764')\"\n",
              "            title=\"Convert this dataframe to an interactive table.\"\n",
              "            style=\"display:none;\">\n",
              "\n",
              "  <svg xmlns=\"http://www.w3.org/2000/svg\" height=\"24px\" viewBox=\"0 -960 960 960\">\n",
              "    <path d=\"M120-120v-720h720v720H120Zm60-500h600v-160H180v160Zm220 220h160v-160H400v160Zm0 220h160v-160H400v160ZM180-400h160v-160H180v160Zm440 0h160v-160H620v160ZM180-180h160v-160H180v160Zm440 0h160v-160H620v160Z\"/>\n",
              "  </svg>\n",
              "    </button>\n",
              "\n",
              "  <style>\n",
              "    .colab-df-container {\n",
              "      display:flex;\n",
              "      gap: 12px;\n",
              "    }\n",
              "\n",
              "    .colab-df-convert {\n",
              "      background-color: #E8F0FE;\n",
              "      border: none;\n",
              "      border-radius: 50%;\n",
              "      cursor: pointer;\n",
              "      display: none;\n",
              "      fill: #1967D2;\n",
              "      height: 32px;\n",
              "      padding: 0 0 0 0;\n",
              "      width: 32px;\n",
              "    }\n",
              "\n",
              "    .colab-df-convert:hover {\n",
              "      background-color: #E2EBFA;\n",
              "      box-shadow: 0px 1px 2px rgba(60, 64, 67, 0.3), 0px 1px 3px 1px rgba(60, 64, 67, 0.15);\n",
              "      fill: #174EA6;\n",
              "    }\n",
              "\n",
              "    .colab-df-buttons div {\n",
              "      margin-bottom: 4px;\n",
              "    }\n",
              "\n",
              "    [theme=dark] .colab-df-convert {\n",
              "      background-color: #3B4455;\n",
              "      fill: #D2E3FC;\n",
              "    }\n",
              "\n",
              "    [theme=dark] .colab-df-convert:hover {\n",
              "      background-color: #434B5C;\n",
              "      box-shadow: 0px 1px 3px 1px rgba(0, 0, 0, 0.15);\n",
              "      filter: drop-shadow(0px 1px 2px rgba(0, 0, 0, 0.3));\n",
              "      fill: #FFFFFF;\n",
              "    }\n",
              "  </style>\n",
              "\n",
              "    <script>\n",
              "      const buttonEl =\n",
              "        document.querySelector('#df-71cddc89-fa56-469a-b41f-d1bd8334f764 button.colab-df-convert');\n",
              "      buttonEl.style.display =\n",
              "        google.colab.kernel.accessAllowed ? 'block' : 'none';\n",
              "\n",
              "      async function convertToInteractive(key) {\n",
              "        const element = document.querySelector('#df-71cddc89-fa56-469a-b41f-d1bd8334f764');\n",
              "        const dataTable =\n",
              "          await google.colab.kernel.invokeFunction('convertToInteractive',\n",
              "                                                    [key], {});\n",
              "        if (!dataTable) return;\n",
              "\n",
              "        const docLinkHtml = 'Like what you see? Visit the ' +\n",
              "          '<a target=\"_blank\" href=https://colab.research.google.com/notebooks/data_table.ipynb>data table notebook</a>'\n",
              "          + ' to learn more about interactive tables.';\n",
              "        element.innerHTML = '';\n",
              "        dataTable['output_type'] = 'display_data';\n",
              "        await google.colab.output.renderOutput(dataTable, element);\n",
              "        const docLink = document.createElement('div');\n",
              "        docLink.innerHTML = docLinkHtml;\n",
              "        element.appendChild(docLink);\n",
              "      }\n",
              "    </script>\n",
              "  </div>\n",
              "\n",
              "\n",
              "    <div id=\"df-e7ce0e35-339c-46ff-90e6-9371cfbf5492\">\n",
              "      <button class=\"colab-df-quickchart\" onclick=\"quickchart('df-e7ce0e35-339c-46ff-90e6-9371cfbf5492')\"\n",
              "                title=\"Suggest charts\"\n",
              "                style=\"display:none;\">\n",
              "\n",
              "<svg xmlns=\"http://www.w3.org/2000/svg\" height=\"24px\"viewBox=\"0 0 24 24\"\n",
              "     width=\"24px\">\n",
              "    <g>\n",
              "        <path d=\"M19 3H5c-1.1 0-2 .9-2 2v14c0 1.1.9 2 2 2h14c1.1 0 2-.9 2-2V5c0-1.1-.9-2-2-2zM9 17H7v-7h2v7zm4 0h-2V7h2v10zm4 0h-2v-4h2v4z\"/>\n",
              "    </g>\n",
              "</svg>\n",
              "      </button>\n",
              "\n",
              "<style>\n",
              "  .colab-df-quickchart {\n",
              "      --bg-color: #E8F0FE;\n",
              "      --fill-color: #1967D2;\n",
              "      --hover-bg-color: #E2EBFA;\n",
              "      --hover-fill-color: #174EA6;\n",
              "      --disabled-fill-color: #AAA;\n",
              "      --disabled-bg-color: #DDD;\n",
              "  }\n",
              "\n",
              "  [theme=dark] .colab-df-quickchart {\n",
              "      --bg-color: #3B4455;\n",
              "      --fill-color: #D2E3FC;\n",
              "      --hover-bg-color: #434B5C;\n",
              "      --hover-fill-color: #FFFFFF;\n",
              "      --disabled-bg-color: #3B4455;\n",
              "      --disabled-fill-color: #666;\n",
              "  }\n",
              "\n",
              "  .colab-df-quickchart {\n",
              "    background-color: var(--bg-color);\n",
              "    border: none;\n",
              "    border-radius: 50%;\n",
              "    cursor: pointer;\n",
              "    display: none;\n",
              "    fill: var(--fill-color);\n",
              "    height: 32px;\n",
              "    padding: 0;\n",
              "    width: 32px;\n",
              "  }\n",
              "\n",
              "  .colab-df-quickchart:hover {\n",
              "    background-color: var(--hover-bg-color);\n",
              "    box-shadow: 0 1px 2px rgba(60, 64, 67, 0.3), 0 1px 3px 1px rgba(60, 64, 67, 0.15);\n",
              "    fill: var(--button-hover-fill-color);\n",
              "  }\n",
              "\n",
              "  .colab-df-quickchart-complete:disabled,\n",
              "  .colab-df-quickchart-complete:disabled:hover {\n",
              "    background-color: var(--disabled-bg-color);\n",
              "    fill: var(--disabled-fill-color);\n",
              "    box-shadow: none;\n",
              "  }\n",
              "\n",
              "  .colab-df-spinner {\n",
              "    border: 2px solid var(--fill-color);\n",
              "    border-color: transparent;\n",
              "    border-bottom-color: var(--fill-color);\n",
              "    animation:\n",
              "      spin 1s steps(1) infinite;\n",
              "  }\n",
              "\n",
              "  @keyframes spin {\n",
              "    0% {\n",
              "      border-color: transparent;\n",
              "      border-bottom-color: var(--fill-color);\n",
              "      border-left-color: var(--fill-color);\n",
              "    }\n",
              "    20% {\n",
              "      border-color: transparent;\n",
              "      border-left-color: var(--fill-color);\n",
              "      border-top-color: var(--fill-color);\n",
              "    }\n",
              "    30% {\n",
              "      border-color: transparent;\n",
              "      border-left-color: var(--fill-color);\n",
              "      border-top-color: var(--fill-color);\n",
              "      border-right-color: var(--fill-color);\n",
              "    }\n",
              "    40% {\n",
              "      border-color: transparent;\n",
              "      border-right-color: var(--fill-color);\n",
              "      border-top-color: var(--fill-color);\n",
              "    }\n",
              "    60% {\n",
              "      border-color: transparent;\n",
              "      border-right-color: var(--fill-color);\n",
              "    }\n",
              "    80% {\n",
              "      border-color: transparent;\n",
              "      border-right-color: var(--fill-color);\n",
              "      border-bottom-color: var(--fill-color);\n",
              "    }\n",
              "    90% {\n",
              "      border-color: transparent;\n",
              "      border-bottom-color: var(--fill-color);\n",
              "    }\n",
              "  }\n",
              "</style>\n",
              "\n",
              "      <script>\n",
              "        async function quickchart(key) {\n",
              "          const quickchartButtonEl =\n",
              "            document.querySelector('#' + key + ' button');\n",
              "          quickchartButtonEl.disabled = true;  // To prevent multiple clicks.\n",
              "          quickchartButtonEl.classList.add('colab-df-spinner');\n",
              "          try {\n",
              "            const charts = await google.colab.kernel.invokeFunction(\n",
              "                'suggestCharts', [key], {});\n",
              "          } catch (error) {\n",
              "            console.error('Error during call to suggestCharts:', error);\n",
              "          }\n",
              "          quickchartButtonEl.classList.remove('colab-df-spinner');\n",
              "          quickchartButtonEl.classList.add('colab-df-quickchart-complete');\n",
              "        }\n",
              "        (() => {\n",
              "          let quickchartButtonEl =\n",
              "            document.querySelector('#df-e7ce0e35-339c-46ff-90e6-9371cfbf5492 button');\n",
              "          quickchartButtonEl.style.display =\n",
              "            google.colab.kernel.accessAllowed ? 'block' : 'none';\n",
              "        })();\n",
              "      </script>\n",
              "    </div>\n",
              "\n",
              "  <div id=\"id_bf6350d1-51cd-47f2-bc87-7f3190f8d786\">\n",
              "    <style>\n",
              "      .colab-df-generate {\n",
              "        background-color: #E8F0FE;\n",
              "        border: none;\n",
              "        border-radius: 50%;\n",
              "        cursor: pointer;\n",
              "        display: none;\n",
              "        fill: #1967D2;\n",
              "        height: 32px;\n",
              "        padding: 0 0 0 0;\n",
              "        width: 32px;\n",
              "      }\n",
              "\n",
              "      .colab-df-generate:hover {\n",
              "        background-color: #E2EBFA;\n",
              "        box-shadow: 0px 1px 2px rgba(60, 64, 67, 0.3), 0px 1px 3px 1px rgba(60, 64, 67, 0.15);\n",
              "        fill: #174EA6;\n",
              "      }\n",
              "\n",
              "      [theme=dark] .colab-df-generate {\n",
              "        background-color: #3B4455;\n",
              "        fill: #D2E3FC;\n",
              "      }\n",
              "\n",
              "      [theme=dark] .colab-df-generate:hover {\n",
              "        background-color: #434B5C;\n",
              "        box-shadow: 0px 1px 3px 1px rgba(0, 0, 0, 0.15);\n",
              "        filter: drop-shadow(0px 1px 2px rgba(0, 0, 0, 0.3));\n",
              "        fill: #FFFFFF;\n",
              "      }\n",
              "    </style>\n",
              "    <button class=\"colab-df-generate\" onclick=\"generateWithVariable('df')\"\n",
              "            title=\"Generate code using this dataframe.\"\n",
              "            style=\"display:none;\">\n",
              "\n",
              "  <svg xmlns=\"http://www.w3.org/2000/svg\" height=\"24px\"viewBox=\"0 0 24 24\"\n",
              "       width=\"24px\">\n",
              "    <path d=\"M7,19H8.4L18.45,9,17,7.55,7,17.6ZM5,21V16.75L18.45,3.32a2,2,0,0,1,2.83,0l1.4,1.43a1.91,1.91,0,0,1,.58,1.4,1.91,1.91,0,0,1-.58,1.4L9.25,21ZM18.45,9,17,7.55Zm-12,3A5.31,5.31,0,0,0,4.9,8.1,5.31,5.31,0,0,0,1,6.5,5.31,5.31,0,0,0,4.9,4.9,5.31,5.31,0,0,0,6.5,1,5.31,5.31,0,0,0,8.1,4.9,5.31,5.31,0,0,0,12,6.5,5.46,5.46,0,0,0,6.5,12Z\"/>\n",
              "  </svg>\n",
              "    </button>\n",
              "    <script>\n",
              "      (() => {\n",
              "      const buttonEl =\n",
              "        document.querySelector('#id_bf6350d1-51cd-47f2-bc87-7f3190f8d786 button.colab-df-generate');\n",
              "      buttonEl.style.display =\n",
              "        google.colab.kernel.accessAllowed ? 'block' : 'none';\n",
              "\n",
              "      buttonEl.onclick = () => {\n",
              "        google.colab.notebook.generateWithVariable('df');\n",
              "      }\n",
              "      })();\n",
              "    </script>\n",
              "  </div>\n",
              "\n",
              "    </div>\n",
              "  </div>\n"
            ],
            "application/vnd.google.colaboratory.intrinsic+json": {
              "type": "dataframe",
              "variable_name": "df",
              "summary": "{\n  \"name\": \"df\",\n  \"rows\": 96146,\n  \"fields\": [\n    {\n      \"column\": \"gender\",\n      \"properties\": {\n        \"dtype\": \"category\",\n        \"num_unique_values\": 3,\n        \"samples\": [\n          \"Female\",\n          \"Male\",\n          \"Other\"\n        ],\n        \"semantic_type\": \"\",\n        \"description\": \"\"\n      }\n    },\n    {\n      \"column\": \"age\",\n      \"properties\": {\n        \"dtype\": \"number\",\n        \"std\": 22.462947577418138,\n        \"min\": 0.08,\n        \"max\": 80.0,\n        \"num_unique_values\": 102,\n        \"samples\": [\n          29.0,\n          39.0,\n          16.0\n        ],\n        \"semantic_type\": \"\",\n        \"description\": \"\"\n      }\n    },\n    {\n      \"column\": \"hypertension\",\n      \"properties\": {\n        \"dtype\": \"number\",\n        \"std\": 0,\n        \"min\": 0,\n        \"max\": 1,\n        \"num_unique_values\": 2,\n        \"samples\": [\n          1,\n          0\n        ],\n        \"semantic_type\": \"\",\n        \"description\": \"\"\n      }\n    },\n    {\n      \"column\": \"heart_disease\",\n      \"properties\": {\n        \"dtype\": \"number\",\n        \"std\": 0,\n        \"min\": 0,\n        \"max\": 1,\n        \"num_unique_values\": 2,\n        \"samples\": [\n          0,\n          1\n        ],\n        \"semantic_type\": \"\",\n        \"description\": \"\"\n      }\n    },\n    {\n      \"column\": \"smoking_history\",\n      \"properties\": {\n        \"dtype\": \"category\",\n        \"num_unique_values\": 6,\n        \"samples\": [\n          \"never\",\n          \"current\"\n        ],\n        \"semantic_type\": \"\",\n        \"description\": \"\"\n      }\n    },\n    {\n      \"column\": \"bmi\",\n      \"properties\": {\n        \"dtype\": \"number\",\n        \"std\": 6.767715560481821,\n        \"min\": 10.01,\n        \"max\": 95.69,\n        \"num_unique_values\": 4247,\n        \"samples\": [\n          53.27,\n          32.33\n        ],\n        \"semantic_type\": \"\",\n        \"description\": \"\"\n      }\n    },\n    {\n      \"column\": \"HbA1c_level\",\n      \"properties\": {\n        \"dtype\": \"number\",\n        \"std\": 1.0732320256439414,\n        \"min\": 3.5,\n        \"max\": 9.0,\n        \"num_unique_values\": 18,\n        \"samples\": [\n          6.6,\n          5.7\n        ],\n        \"semantic_type\": \"\",\n        \"description\": \"\"\n      }\n    },\n    {\n      \"column\": \"blood_glucose_level\",\n      \"properties\": {\n        \"dtype\": \"number\",\n        \"std\": 40,\n        \"min\": 80,\n        \"max\": 300,\n        \"num_unique_values\": 18,\n        \"samples\": [\n          140,\n          158\n        ],\n        \"semantic_type\": \"\",\n        \"description\": \"\"\n      }\n    },\n    {\n      \"column\": \"diabetes\",\n      \"properties\": {\n        \"dtype\": \"number\",\n        \"std\": 0,\n        \"min\": 0,\n        \"max\": 1,\n        \"num_unique_values\": 2,\n        \"samples\": [\n          1,\n          0\n        ],\n        \"semantic_type\": \"\",\n        \"description\": \"\"\n      }\n    }\n  ]\n}"
            }
          },
          "metadata": {},
          "execution_count": 5
        }
      ]
    },
    {
      "cell_type": "code",
      "source": [
        "df[\"gender\"].unique()"
      ],
      "metadata": {
        "id": "1YoYxPGX0BSY",
        "colab": {
          "base_uri": "https://localhost:8080/"
        },
        "outputId": "b283012d-8e4b-4306-da8d-78345f2e3beb"
      },
      "execution_count": 6,
      "outputs": [
        {
          "output_type": "execute_result",
          "data": {
            "text/plain": [
              "array(['Female', 'Male', 'Other'], dtype=object)"
            ]
          },
          "metadata": {},
          "execution_count": 6
        }
      ]
    },
    {
      "cell_type": "code",
      "source": [
        "df[\"smoking_history\"].unique()"
      ],
      "metadata": {
        "colab": {
          "base_uri": "https://localhost:8080/"
        },
        "id": "ZtYplAop0fnO",
        "outputId": "6f3ff638-234c-4d71-ed7a-846970dd2676"
      },
      "execution_count": 7,
      "outputs": [
        {
          "output_type": "execute_result",
          "data": {
            "text/plain": [
              "array(['never', 'current', 'No Info', 'former', 'ever', 'not current'],\n",
              "      dtype=object)"
            ]
          },
          "metadata": {},
          "execution_count": 7
        }
      ]
    },
    {
      "cell_type": "code",
      "source": [
        "# Convert to binary classification: Class 2 = positive (0), others = negative (1)\n",
        "\n",
        "# To change the object into numbers based on ASCII value\n",
        "\n",
        "from sklearn.preprocessing import LabelEncoder\n",
        "\n",
        "code = LabelEncoder()\n",
        "\n",
        "for i in df.columns:\n",
        "  if df[i].dtype==\"object\":\n",
        "    df[i]= code.fit_transform(df[i]) # Encoding\n",
        "\n",
        "df"
      ],
      "metadata": {
        "colab": {
          "base_uri": "https://localhost:8080/",
          "height": 423
        },
        "id": "Y6_3OuCz0uYs",
        "outputId": "d08f1fa4-599a-4e7e-fcb3-e4c62e50bf1e"
      },
      "execution_count": 8,
      "outputs": [
        {
          "output_type": "execute_result",
          "data": {
            "text/plain": [
              "       gender   age  hypertension  heart_disease  smoking_history    bmi  \\\n",
              "0           0  80.0             0              1                4  25.19   \n",
              "2           1  28.0             0              0                4  27.32   \n",
              "3           0  36.0             0              0                1  23.45   \n",
              "4           1  76.0             1              1                1  20.14   \n",
              "5           0  20.0             0              0                4  27.32   \n",
              "...       ...   ...           ...            ...              ...    ...   \n",
              "99995       0  80.0             0              0                0  27.32   \n",
              "99996       0   2.0             0              0                0  17.37   \n",
              "99997       1  66.0             0              0                3  27.83   \n",
              "99998       0  24.0             0              0                4  35.42   \n",
              "99999       0  57.0             0              0                1  22.43   \n",
              "\n",
              "       HbA1c_level  blood_glucose_level  diabetes  \n",
              "0              6.6                  140         0  \n",
              "2              5.7                  158         0  \n",
              "3              5.0                  155         0  \n",
              "4              4.8                  155         0  \n",
              "5              6.6                   85         0  \n",
              "...            ...                  ...       ...  \n",
              "99995          6.2                   90         0  \n",
              "99996          6.5                  100         0  \n",
              "99997          5.7                  155         0  \n",
              "99998          4.0                  100         0  \n",
              "99999          6.6                   90         0  \n",
              "\n",
              "[96146 rows x 9 columns]"
            ],
            "text/html": [
              "\n",
              "  <div id=\"df-2373c7d4-3a1e-45a3-a0a7-7bef77cf1f28\" class=\"colab-df-container\">\n",
              "    <div>\n",
              "<style scoped>\n",
              "    .dataframe tbody tr th:only-of-type {\n",
              "        vertical-align: middle;\n",
              "    }\n",
              "\n",
              "    .dataframe tbody tr th {\n",
              "        vertical-align: top;\n",
              "    }\n",
              "\n",
              "    .dataframe thead th {\n",
              "        text-align: right;\n",
              "    }\n",
              "</style>\n",
              "<table border=\"1\" class=\"dataframe\">\n",
              "  <thead>\n",
              "    <tr style=\"text-align: right;\">\n",
              "      <th></th>\n",
              "      <th>gender</th>\n",
              "      <th>age</th>\n",
              "      <th>hypertension</th>\n",
              "      <th>heart_disease</th>\n",
              "      <th>smoking_history</th>\n",
              "      <th>bmi</th>\n",
              "      <th>HbA1c_level</th>\n",
              "      <th>blood_glucose_level</th>\n",
              "      <th>diabetes</th>\n",
              "    </tr>\n",
              "  </thead>\n",
              "  <tbody>\n",
              "    <tr>\n",
              "      <th>0</th>\n",
              "      <td>0</td>\n",
              "      <td>80.0</td>\n",
              "      <td>0</td>\n",
              "      <td>1</td>\n",
              "      <td>4</td>\n",
              "      <td>25.19</td>\n",
              "      <td>6.6</td>\n",
              "      <td>140</td>\n",
              "      <td>0</td>\n",
              "    </tr>\n",
              "    <tr>\n",
              "      <th>2</th>\n",
              "      <td>1</td>\n",
              "      <td>28.0</td>\n",
              "      <td>0</td>\n",
              "      <td>0</td>\n",
              "      <td>4</td>\n",
              "      <td>27.32</td>\n",
              "      <td>5.7</td>\n",
              "      <td>158</td>\n",
              "      <td>0</td>\n",
              "    </tr>\n",
              "    <tr>\n",
              "      <th>3</th>\n",
              "      <td>0</td>\n",
              "      <td>36.0</td>\n",
              "      <td>0</td>\n",
              "      <td>0</td>\n",
              "      <td>1</td>\n",
              "      <td>23.45</td>\n",
              "      <td>5.0</td>\n",
              "      <td>155</td>\n",
              "      <td>0</td>\n",
              "    </tr>\n",
              "    <tr>\n",
              "      <th>4</th>\n",
              "      <td>1</td>\n",
              "      <td>76.0</td>\n",
              "      <td>1</td>\n",
              "      <td>1</td>\n",
              "      <td>1</td>\n",
              "      <td>20.14</td>\n",
              "      <td>4.8</td>\n",
              "      <td>155</td>\n",
              "      <td>0</td>\n",
              "    </tr>\n",
              "    <tr>\n",
              "      <th>5</th>\n",
              "      <td>0</td>\n",
              "      <td>20.0</td>\n",
              "      <td>0</td>\n",
              "      <td>0</td>\n",
              "      <td>4</td>\n",
              "      <td>27.32</td>\n",
              "      <td>6.6</td>\n",
              "      <td>85</td>\n",
              "      <td>0</td>\n",
              "    </tr>\n",
              "    <tr>\n",
              "      <th>...</th>\n",
              "      <td>...</td>\n",
              "      <td>...</td>\n",
              "      <td>...</td>\n",
              "      <td>...</td>\n",
              "      <td>...</td>\n",
              "      <td>...</td>\n",
              "      <td>...</td>\n",
              "      <td>...</td>\n",
              "      <td>...</td>\n",
              "    </tr>\n",
              "    <tr>\n",
              "      <th>99995</th>\n",
              "      <td>0</td>\n",
              "      <td>80.0</td>\n",
              "      <td>0</td>\n",
              "      <td>0</td>\n",
              "      <td>0</td>\n",
              "      <td>27.32</td>\n",
              "      <td>6.2</td>\n",
              "      <td>90</td>\n",
              "      <td>0</td>\n",
              "    </tr>\n",
              "    <tr>\n",
              "      <th>99996</th>\n",
              "      <td>0</td>\n",
              "      <td>2.0</td>\n",
              "      <td>0</td>\n",
              "      <td>0</td>\n",
              "      <td>0</td>\n",
              "      <td>17.37</td>\n",
              "      <td>6.5</td>\n",
              "      <td>100</td>\n",
              "      <td>0</td>\n",
              "    </tr>\n",
              "    <tr>\n",
              "      <th>99997</th>\n",
              "      <td>1</td>\n",
              "      <td>66.0</td>\n",
              "      <td>0</td>\n",
              "      <td>0</td>\n",
              "      <td>3</td>\n",
              "      <td>27.83</td>\n",
              "      <td>5.7</td>\n",
              "      <td>155</td>\n",
              "      <td>0</td>\n",
              "    </tr>\n",
              "    <tr>\n",
              "      <th>99998</th>\n",
              "      <td>0</td>\n",
              "      <td>24.0</td>\n",
              "      <td>0</td>\n",
              "      <td>0</td>\n",
              "      <td>4</td>\n",
              "      <td>35.42</td>\n",
              "      <td>4.0</td>\n",
              "      <td>100</td>\n",
              "      <td>0</td>\n",
              "    </tr>\n",
              "    <tr>\n",
              "      <th>99999</th>\n",
              "      <td>0</td>\n",
              "      <td>57.0</td>\n",
              "      <td>0</td>\n",
              "      <td>0</td>\n",
              "      <td>1</td>\n",
              "      <td>22.43</td>\n",
              "      <td>6.6</td>\n",
              "      <td>90</td>\n",
              "      <td>0</td>\n",
              "    </tr>\n",
              "  </tbody>\n",
              "</table>\n",
              "<p>96146 rows × 9 columns</p>\n",
              "</div>\n",
              "    <div class=\"colab-df-buttons\">\n",
              "\n",
              "  <div class=\"colab-df-container\">\n",
              "    <button class=\"colab-df-convert\" onclick=\"convertToInteractive('df-2373c7d4-3a1e-45a3-a0a7-7bef77cf1f28')\"\n",
              "            title=\"Convert this dataframe to an interactive table.\"\n",
              "            style=\"display:none;\">\n",
              "\n",
              "  <svg xmlns=\"http://www.w3.org/2000/svg\" height=\"24px\" viewBox=\"0 -960 960 960\">\n",
              "    <path d=\"M120-120v-720h720v720H120Zm60-500h600v-160H180v160Zm220 220h160v-160H400v160Zm0 220h160v-160H400v160ZM180-400h160v-160H180v160Zm440 0h160v-160H620v160ZM180-180h160v-160H180v160Zm440 0h160v-160H620v160Z\"/>\n",
              "  </svg>\n",
              "    </button>\n",
              "\n",
              "  <style>\n",
              "    .colab-df-container {\n",
              "      display:flex;\n",
              "      gap: 12px;\n",
              "    }\n",
              "\n",
              "    .colab-df-convert {\n",
              "      background-color: #E8F0FE;\n",
              "      border: none;\n",
              "      border-radius: 50%;\n",
              "      cursor: pointer;\n",
              "      display: none;\n",
              "      fill: #1967D2;\n",
              "      height: 32px;\n",
              "      padding: 0 0 0 0;\n",
              "      width: 32px;\n",
              "    }\n",
              "\n",
              "    .colab-df-convert:hover {\n",
              "      background-color: #E2EBFA;\n",
              "      box-shadow: 0px 1px 2px rgba(60, 64, 67, 0.3), 0px 1px 3px 1px rgba(60, 64, 67, 0.15);\n",
              "      fill: #174EA6;\n",
              "    }\n",
              "\n",
              "    .colab-df-buttons div {\n",
              "      margin-bottom: 4px;\n",
              "    }\n",
              "\n",
              "    [theme=dark] .colab-df-convert {\n",
              "      background-color: #3B4455;\n",
              "      fill: #D2E3FC;\n",
              "    }\n",
              "\n",
              "    [theme=dark] .colab-df-convert:hover {\n",
              "      background-color: #434B5C;\n",
              "      box-shadow: 0px 1px 3px 1px rgba(0, 0, 0, 0.15);\n",
              "      filter: drop-shadow(0px 1px 2px rgba(0, 0, 0, 0.3));\n",
              "      fill: #FFFFFF;\n",
              "    }\n",
              "  </style>\n",
              "\n",
              "    <script>\n",
              "      const buttonEl =\n",
              "        document.querySelector('#df-2373c7d4-3a1e-45a3-a0a7-7bef77cf1f28 button.colab-df-convert');\n",
              "      buttonEl.style.display =\n",
              "        google.colab.kernel.accessAllowed ? 'block' : 'none';\n",
              "\n",
              "      async function convertToInteractive(key) {\n",
              "        const element = document.querySelector('#df-2373c7d4-3a1e-45a3-a0a7-7bef77cf1f28');\n",
              "        const dataTable =\n",
              "          await google.colab.kernel.invokeFunction('convertToInteractive',\n",
              "                                                    [key], {});\n",
              "        if (!dataTable) return;\n",
              "\n",
              "        const docLinkHtml = 'Like what you see? Visit the ' +\n",
              "          '<a target=\"_blank\" href=https://colab.research.google.com/notebooks/data_table.ipynb>data table notebook</a>'\n",
              "          + ' to learn more about interactive tables.';\n",
              "        element.innerHTML = '';\n",
              "        dataTable['output_type'] = 'display_data';\n",
              "        await google.colab.output.renderOutput(dataTable, element);\n",
              "        const docLink = document.createElement('div');\n",
              "        docLink.innerHTML = docLinkHtml;\n",
              "        element.appendChild(docLink);\n",
              "      }\n",
              "    </script>\n",
              "  </div>\n",
              "\n",
              "\n",
              "    <div id=\"df-2488a26d-003a-463a-886b-6503e90ecae1\">\n",
              "      <button class=\"colab-df-quickchart\" onclick=\"quickchart('df-2488a26d-003a-463a-886b-6503e90ecae1')\"\n",
              "                title=\"Suggest charts\"\n",
              "                style=\"display:none;\">\n",
              "\n",
              "<svg xmlns=\"http://www.w3.org/2000/svg\" height=\"24px\"viewBox=\"0 0 24 24\"\n",
              "     width=\"24px\">\n",
              "    <g>\n",
              "        <path d=\"M19 3H5c-1.1 0-2 .9-2 2v14c0 1.1.9 2 2 2h14c1.1 0 2-.9 2-2V5c0-1.1-.9-2-2-2zM9 17H7v-7h2v7zm4 0h-2V7h2v10zm4 0h-2v-4h2v4z\"/>\n",
              "    </g>\n",
              "</svg>\n",
              "      </button>\n",
              "\n",
              "<style>\n",
              "  .colab-df-quickchart {\n",
              "      --bg-color: #E8F0FE;\n",
              "      --fill-color: #1967D2;\n",
              "      --hover-bg-color: #E2EBFA;\n",
              "      --hover-fill-color: #174EA6;\n",
              "      --disabled-fill-color: #AAA;\n",
              "      --disabled-bg-color: #DDD;\n",
              "  }\n",
              "\n",
              "  [theme=dark] .colab-df-quickchart {\n",
              "      --bg-color: #3B4455;\n",
              "      --fill-color: #D2E3FC;\n",
              "      --hover-bg-color: #434B5C;\n",
              "      --hover-fill-color: #FFFFFF;\n",
              "      --disabled-bg-color: #3B4455;\n",
              "      --disabled-fill-color: #666;\n",
              "  }\n",
              "\n",
              "  .colab-df-quickchart {\n",
              "    background-color: var(--bg-color);\n",
              "    border: none;\n",
              "    border-radius: 50%;\n",
              "    cursor: pointer;\n",
              "    display: none;\n",
              "    fill: var(--fill-color);\n",
              "    height: 32px;\n",
              "    padding: 0;\n",
              "    width: 32px;\n",
              "  }\n",
              "\n",
              "  .colab-df-quickchart:hover {\n",
              "    background-color: var(--hover-bg-color);\n",
              "    box-shadow: 0 1px 2px rgba(60, 64, 67, 0.3), 0 1px 3px 1px rgba(60, 64, 67, 0.15);\n",
              "    fill: var(--button-hover-fill-color);\n",
              "  }\n",
              "\n",
              "  .colab-df-quickchart-complete:disabled,\n",
              "  .colab-df-quickchart-complete:disabled:hover {\n",
              "    background-color: var(--disabled-bg-color);\n",
              "    fill: var(--disabled-fill-color);\n",
              "    box-shadow: none;\n",
              "  }\n",
              "\n",
              "  .colab-df-spinner {\n",
              "    border: 2px solid var(--fill-color);\n",
              "    border-color: transparent;\n",
              "    border-bottom-color: var(--fill-color);\n",
              "    animation:\n",
              "      spin 1s steps(1) infinite;\n",
              "  }\n",
              "\n",
              "  @keyframes spin {\n",
              "    0% {\n",
              "      border-color: transparent;\n",
              "      border-bottom-color: var(--fill-color);\n",
              "      border-left-color: var(--fill-color);\n",
              "    }\n",
              "    20% {\n",
              "      border-color: transparent;\n",
              "      border-left-color: var(--fill-color);\n",
              "      border-top-color: var(--fill-color);\n",
              "    }\n",
              "    30% {\n",
              "      border-color: transparent;\n",
              "      border-left-color: var(--fill-color);\n",
              "      border-top-color: var(--fill-color);\n",
              "      border-right-color: var(--fill-color);\n",
              "    }\n",
              "    40% {\n",
              "      border-color: transparent;\n",
              "      border-right-color: var(--fill-color);\n",
              "      border-top-color: var(--fill-color);\n",
              "    }\n",
              "    60% {\n",
              "      border-color: transparent;\n",
              "      border-right-color: var(--fill-color);\n",
              "    }\n",
              "    80% {\n",
              "      border-color: transparent;\n",
              "      border-right-color: var(--fill-color);\n",
              "      border-bottom-color: var(--fill-color);\n",
              "    }\n",
              "    90% {\n",
              "      border-color: transparent;\n",
              "      border-bottom-color: var(--fill-color);\n",
              "    }\n",
              "  }\n",
              "</style>\n",
              "\n",
              "      <script>\n",
              "        async function quickchart(key) {\n",
              "          const quickchartButtonEl =\n",
              "            document.querySelector('#' + key + ' button');\n",
              "          quickchartButtonEl.disabled = true;  // To prevent multiple clicks.\n",
              "          quickchartButtonEl.classList.add('colab-df-spinner');\n",
              "          try {\n",
              "            const charts = await google.colab.kernel.invokeFunction(\n",
              "                'suggestCharts', [key], {});\n",
              "          } catch (error) {\n",
              "            console.error('Error during call to suggestCharts:', error);\n",
              "          }\n",
              "          quickchartButtonEl.classList.remove('colab-df-spinner');\n",
              "          quickchartButtonEl.classList.add('colab-df-quickchart-complete');\n",
              "        }\n",
              "        (() => {\n",
              "          let quickchartButtonEl =\n",
              "            document.querySelector('#df-2488a26d-003a-463a-886b-6503e90ecae1 button');\n",
              "          quickchartButtonEl.style.display =\n",
              "            google.colab.kernel.accessAllowed ? 'block' : 'none';\n",
              "        })();\n",
              "      </script>\n",
              "    </div>\n",
              "\n",
              "  <div id=\"id_4373bb5a-0901-4682-9749-dec6b7886535\">\n",
              "    <style>\n",
              "      .colab-df-generate {\n",
              "        background-color: #E8F0FE;\n",
              "        border: none;\n",
              "        border-radius: 50%;\n",
              "        cursor: pointer;\n",
              "        display: none;\n",
              "        fill: #1967D2;\n",
              "        height: 32px;\n",
              "        padding: 0 0 0 0;\n",
              "        width: 32px;\n",
              "      }\n",
              "\n",
              "      .colab-df-generate:hover {\n",
              "        background-color: #E2EBFA;\n",
              "        box-shadow: 0px 1px 2px rgba(60, 64, 67, 0.3), 0px 1px 3px 1px rgba(60, 64, 67, 0.15);\n",
              "        fill: #174EA6;\n",
              "      }\n",
              "\n",
              "      [theme=dark] .colab-df-generate {\n",
              "        background-color: #3B4455;\n",
              "        fill: #D2E3FC;\n",
              "      }\n",
              "\n",
              "      [theme=dark] .colab-df-generate:hover {\n",
              "        background-color: #434B5C;\n",
              "        box-shadow: 0px 1px 3px 1px rgba(0, 0, 0, 0.15);\n",
              "        filter: drop-shadow(0px 1px 2px rgba(0, 0, 0, 0.3));\n",
              "        fill: #FFFFFF;\n",
              "      }\n",
              "    </style>\n",
              "    <button class=\"colab-df-generate\" onclick=\"generateWithVariable('df')\"\n",
              "            title=\"Generate code using this dataframe.\"\n",
              "            style=\"display:none;\">\n",
              "\n",
              "  <svg xmlns=\"http://www.w3.org/2000/svg\" height=\"24px\"viewBox=\"0 0 24 24\"\n",
              "       width=\"24px\">\n",
              "    <path d=\"M7,19H8.4L18.45,9,17,7.55,7,17.6ZM5,21V16.75L18.45,3.32a2,2,0,0,1,2.83,0l1.4,1.43a1.91,1.91,0,0,1,.58,1.4,1.91,1.91,0,0,1-.58,1.4L9.25,21ZM18.45,9,17,7.55Zm-12,3A5.31,5.31,0,0,0,4.9,8.1,5.31,5.31,0,0,0,1,6.5,5.31,5.31,0,0,0,4.9,4.9,5.31,5.31,0,0,0,6.5,1,5.31,5.31,0,0,0,8.1,4.9,5.31,5.31,0,0,0,12,6.5,5.46,5.46,0,0,0,6.5,12Z\"/>\n",
              "  </svg>\n",
              "    </button>\n",
              "    <script>\n",
              "      (() => {\n",
              "      const buttonEl =\n",
              "        document.querySelector('#id_4373bb5a-0901-4682-9749-dec6b7886535 button.colab-df-generate');\n",
              "      buttonEl.style.display =\n",
              "        google.colab.kernel.accessAllowed ? 'block' : 'none';\n",
              "\n",
              "      buttonEl.onclick = () => {\n",
              "        google.colab.notebook.generateWithVariable('df');\n",
              "      }\n",
              "      })();\n",
              "    </script>\n",
              "  </div>\n",
              "\n",
              "    </div>\n",
              "  </div>\n"
            ],
            "application/vnd.google.colaboratory.intrinsic+json": {
              "type": "dataframe",
              "variable_name": "df",
              "summary": "{\n  \"name\": \"df\",\n  \"rows\": 96146,\n  \"fields\": [\n    {\n      \"column\": \"gender\",\n      \"properties\": {\n        \"dtype\": \"number\",\n        \"std\": 0,\n        \"min\": 0,\n        \"max\": 2,\n        \"num_unique_values\": 3,\n        \"samples\": [\n          0,\n          1,\n          2\n        ],\n        \"semantic_type\": \"\",\n        \"description\": \"\"\n      }\n    },\n    {\n      \"column\": \"age\",\n      \"properties\": {\n        \"dtype\": \"number\",\n        \"std\": 22.462947577418138,\n        \"min\": 0.08,\n        \"max\": 80.0,\n        \"num_unique_values\": 102,\n        \"samples\": [\n          29.0,\n          39.0,\n          16.0\n        ],\n        \"semantic_type\": \"\",\n        \"description\": \"\"\n      }\n    },\n    {\n      \"column\": \"hypertension\",\n      \"properties\": {\n        \"dtype\": \"number\",\n        \"std\": 0,\n        \"min\": 0,\n        \"max\": 1,\n        \"num_unique_values\": 2,\n        \"samples\": [\n          1,\n          0\n        ],\n        \"semantic_type\": \"\",\n        \"description\": \"\"\n      }\n    },\n    {\n      \"column\": \"heart_disease\",\n      \"properties\": {\n        \"dtype\": \"number\",\n        \"std\": 0,\n        \"min\": 0,\n        \"max\": 1,\n        \"num_unique_values\": 2,\n        \"samples\": [\n          0,\n          1\n        ],\n        \"semantic_type\": \"\",\n        \"description\": \"\"\n      }\n    },\n    {\n      \"column\": \"smoking_history\",\n      \"properties\": {\n        \"dtype\": \"number\",\n        \"std\": 1,\n        \"min\": 0,\n        \"max\": 5,\n        \"num_unique_values\": 6,\n        \"samples\": [\n          4,\n          1\n        ],\n        \"semantic_type\": \"\",\n        \"description\": \"\"\n      }\n    },\n    {\n      \"column\": \"bmi\",\n      \"properties\": {\n        \"dtype\": \"number\",\n        \"std\": 6.767715560481821,\n        \"min\": 10.01,\n        \"max\": 95.69,\n        \"num_unique_values\": 4247,\n        \"samples\": [\n          53.27,\n          32.33\n        ],\n        \"semantic_type\": \"\",\n        \"description\": \"\"\n      }\n    },\n    {\n      \"column\": \"HbA1c_level\",\n      \"properties\": {\n        \"dtype\": \"number\",\n        \"std\": 1.0732320256439414,\n        \"min\": 3.5,\n        \"max\": 9.0,\n        \"num_unique_values\": 18,\n        \"samples\": [\n          6.6,\n          5.7\n        ],\n        \"semantic_type\": \"\",\n        \"description\": \"\"\n      }\n    },\n    {\n      \"column\": \"blood_glucose_level\",\n      \"properties\": {\n        \"dtype\": \"number\",\n        \"std\": 40,\n        \"min\": 80,\n        \"max\": 300,\n        \"num_unique_values\": 18,\n        \"samples\": [\n          140,\n          158\n        ],\n        \"semantic_type\": \"\",\n        \"description\": \"\"\n      }\n    },\n    {\n      \"column\": \"diabetes\",\n      \"properties\": {\n        \"dtype\": \"number\",\n        \"std\": 0,\n        \"min\": 0,\n        \"max\": 1,\n        \"num_unique_values\": 2,\n        \"samples\": [\n          1,\n          0\n        ],\n        \"semantic_type\": \"\",\n        \"description\": \"\"\n      }\n    }\n  ]\n}"
            }
          },
          "metadata": {},
          "execution_count": 8
        }
      ]
    },
    {
      "cell_type": "markdown",
      "source": [
        "**Encoding**\n",
        "\n",
        "**Gender**\n",
        "\n",
        "Female = 0,\n",
        "Male = 1,\n",
        "Other = 2\n",
        "\n",
        "**smoking_history**\n",
        "\n",
        "'never' = 4 , 'No Info' = 0 , 'current' = 1, 'former' = 3, 'ever' = 2, 'not current' = 5"
      ],
      "metadata": {
        "id": "9a8JDF7d1WEJ"
      }
    },
    {
      "cell_type": "code",
      "source": [
        "# Where independent = x , dependent = y\n",
        "\n",
        "x = df.iloc[:,:-1] # x = defining independent columns with all the row\n",
        "y = df.iloc[:,-1]  # y = defining dependent columns with all the row"
      ],
      "metadata": {
        "id": "CIN3e02S2PN2"
      },
      "execution_count": 9,
      "outputs": []
    },
    {
      "cell_type": "code",
      "source": [
        "x.columns"
      ],
      "metadata": {
        "colab": {
          "base_uri": "https://localhost:8080/"
        },
        "id": "fGs1bRbw2mwl",
        "outputId": "a1ca02f4-50f1-4791-a7a0-61daa9bfe6f8"
      },
      "execution_count": 10,
      "outputs": [
        {
          "output_type": "execute_result",
          "data": {
            "text/plain": [
              "Index(['gender', 'age', 'hypertension', 'heart_disease', 'smoking_history',\n",
              "       'bmi', 'HbA1c_level', 'blood_glucose_level'],\n",
              "      dtype='object')"
            ]
          },
          "metadata": {},
          "execution_count": 10
        }
      ]
    },
    {
      "cell_type": "code",
      "source": [
        "y.name"
      ],
      "metadata": {
        "colab": {
          "base_uri": "https://localhost:8080/",
          "height": 36
        },
        "id": "gIxH7Dp23Tak",
        "outputId": "c6dccb02-e629-4041-8584-e7b35688dd2d"
      },
      "execution_count": 11,
      "outputs": [
        {
          "output_type": "execute_result",
          "data": {
            "text/plain": [
              "'diabetes'"
            ],
            "application/vnd.google.colaboratory.intrinsic+json": {
              "type": "string"
            }
          },
          "metadata": {},
          "execution_count": 11
        }
      ]
    },
    {
      "cell_type": "code",
      "source": [
        "# Check the shape of x and y\n",
        "\n",
        "x.shape, y.shape"
      ],
      "metadata": {
        "colab": {
          "base_uri": "https://localhost:8080/"
        },
        "id": "jBerJZkt3Vg8",
        "outputId": "1fa6e0ee-9d8f-408d-95e1-f77569172ba3"
      },
      "execution_count": 12,
      "outputs": [
        {
          "output_type": "execute_result",
          "data": {
            "text/plain": [
              "((96146, 8), (96146,))"
            ]
          },
          "metadata": {},
          "execution_count": 12
        }
      ]
    },
    {
      "cell_type": "code",
      "source": [
        "# Count the diabetes\n",
        "\n",
        "df[\"diabetes\"].value_counts()"
      ],
      "metadata": {
        "id": "WaE8cCpF3sO3",
        "colab": {
          "base_uri": "https://localhost:8080/",
          "height": 178
        },
        "outputId": "5bd00f66-5b68-466f-87fb-dd72661f8fd2"
      },
      "execution_count": 13,
      "outputs": [
        {
          "output_type": "execute_result",
          "data": {
            "text/plain": [
              "diabetes\n",
              "0    87664\n",
              "1     8482\n",
              "Name: count, dtype: int64"
            ],
            "text/html": [
              "<div>\n",
              "<style scoped>\n",
              "    .dataframe tbody tr th:only-of-type {\n",
              "        vertical-align: middle;\n",
              "    }\n",
              "\n",
              "    .dataframe tbody tr th {\n",
              "        vertical-align: top;\n",
              "    }\n",
              "\n",
              "    .dataframe thead th {\n",
              "        text-align: right;\n",
              "    }\n",
              "</style>\n",
              "<table border=\"1\" class=\"dataframe\">\n",
              "  <thead>\n",
              "    <tr style=\"text-align: right;\">\n",
              "      <th></th>\n",
              "      <th>count</th>\n",
              "    </tr>\n",
              "    <tr>\n",
              "      <th>diabetes</th>\n",
              "      <th></th>\n",
              "    </tr>\n",
              "  </thead>\n",
              "  <tbody>\n",
              "    <tr>\n",
              "      <th>0</th>\n",
              "      <td>87664</td>\n",
              "    </tr>\n",
              "    <tr>\n",
              "      <th>1</th>\n",
              "      <td>8482</td>\n",
              "    </tr>\n",
              "  </tbody>\n",
              "</table>\n",
              "</div><br><label><b>dtype:</b> int64</label>"
            ]
          },
          "metadata": {},
          "execution_count": 13
        }
      ]
    },
    {
      "cell_type": "code",
      "source": [
        "df.shape"
      ],
      "metadata": {
        "colab": {
          "base_uri": "https://localhost:8080/"
        },
        "id": "lA3-fWm04hHF",
        "outputId": "3bf14592-7e7c-453a-e2b2-105d5847c437"
      },
      "execution_count": 14,
      "outputs": [
        {
          "output_type": "execute_result",
          "data": {
            "text/plain": [
              "(96146, 9)"
            ]
          },
          "metadata": {},
          "execution_count": 14
        }
      ]
    },
    {
      "cell_type": "markdown",
      "source": [
        "# **Machine Learning**"
      ],
      "metadata": {
        "id": "xh3-7u_o4z0l"
      }
    },
    {
      "cell_type": "markdown",
      "source": [
        "Total number of rows : 96146\n",
        "\n",
        "The total rows take 100% and we splite :\n",
        "\n",
        "*   30% for test - 28844 approx. ----> x_test + y_test\n",
        "*   70% for Train - 67302 approx. ----> x_train + y_train\n",
        "\n",
        "\n",
        "# Is for understanding\n",
        "Diabetes Count :\n",
        "\n",
        "*   \"0\" -> 87664\n",
        "*   \"1\" -> 8482\n",
        "\n",
        "We split 70% and 30% in each diabetes count (\"0\" & \"1\")\n",
        "\n",
        "For \"0\" -> 30% -> 2545  ---> x_test\n",
        "\n",
        "For \"0\" -> 70% -> 5937  ---> x_train\n",
        "\n",
        "For \"1\" -> 30% -> 26299  ---> y_test\n",
        "\n",
        "For \"1\" -> 70% -> 61365  ---> y_train\n",
        "\n",
        "\n",
        "Adding 30% -> 2545 + 26299 = 28844 &\n",
        "\n",
        "70% -> 5937 + 61365 = 67302"
      ],
      "metadata": {
        "id": "Q4r-90xl5Bgn"
      }
    },
    {
      "cell_type": "code",
      "source": [
        "# Split data\n",
        "\n",
        "from sklearn.model_selection import train_test_split\n",
        "\n",
        "x_train , x_test , y_train , y_test = train_test_split(x,y,test_size = 0.3)\n",
        "\n",
        "x_train.shape, x_test.shape, y_train.shape, y_test.shape"
      ],
      "metadata": {
        "colab": {
          "base_uri": "https://localhost:8080/"
        },
        "id": "6jPjpfnH4lxU",
        "outputId": "a0f92592-9843-4100-a510-270edb664b2a"
      },
      "execution_count": 15,
      "outputs": [
        {
          "output_type": "execute_result",
          "data": {
            "text/plain": [
              "((67302, 8), (28844, 8), (67302,), (28844,))"
            ]
          },
          "metadata": {},
          "execution_count": 15
        }
      ]
    },
    {
      "cell_type": "code",
      "source": [
        "y_train.value_counts()"
      ],
      "metadata": {
        "colab": {
          "base_uri": "https://localhost:8080/",
          "height": 178
        },
        "id": "jZ-X5XzM7tfo",
        "outputId": "d82e7b9e-24ba-469f-fbeb-1ea8d1f76da4"
      },
      "execution_count": 38,
      "outputs": [
        {
          "output_type": "execute_result",
          "data": {
            "text/plain": [
              "diabetes\n",
              "0    61380\n",
              "1     5922\n",
              "Name: count, dtype: int64"
            ],
            "text/html": [
              "<div>\n",
              "<style scoped>\n",
              "    .dataframe tbody tr th:only-of-type {\n",
              "        vertical-align: middle;\n",
              "    }\n",
              "\n",
              "    .dataframe tbody tr th {\n",
              "        vertical-align: top;\n",
              "    }\n",
              "\n",
              "    .dataframe thead th {\n",
              "        text-align: right;\n",
              "    }\n",
              "</style>\n",
              "<table border=\"1\" class=\"dataframe\">\n",
              "  <thead>\n",
              "    <tr style=\"text-align: right;\">\n",
              "      <th></th>\n",
              "      <th>count</th>\n",
              "    </tr>\n",
              "    <tr>\n",
              "      <th>diabetes</th>\n",
              "      <th></th>\n",
              "    </tr>\n",
              "  </thead>\n",
              "  <tbody>\n",
              "    <tr>\n",
              "      <th>0</th>\n",
              "      <td>61380</td>\n",
              "    </tr>\n",
              "    <tr>\n",
              "      <th>1</th>\n",
              "      <td>5922</td>\n",
              "    </tr>\n",
              "  </tbody>\n",
              "</table>\n",
              "</div><br><label><b>dtype:</b> int64</label>"
            ]
          },
          "metadata": {},
          "execution_count": 38
        }
      ]
    },
    {
      "cell_type": "code",
      "source": [
        "#Create Model or Train the model\n",
        "\n",
        "from sklearn.tree import DecisionTreeClassifier\n",
        "\n",
        "model = DecisionTreeClassifier().fit(x_train,y_train)"
      ],
      "metadata": {
        "id": "h1VKVyMM-swt"
      },
      "execution_count": 17,
      "outputs": []
    },
    {
      "cell_type": "code",
      "source": [
        "# Sample Predicting\n",
        "\n",
        "import numpy as np\n",
        "vb1 = np.array([[1,35,0,0,4,32.64,9.3,180]])\n",
        "\n",
        "vb2 = np.array([[1,75,1,1,0,32.64,6.3,180]])\n"
      ],
      "metadata": {
        "id": "-9ERF715-3KU"
      },
      "execution_count": 18,
      "outputs": []
    },
    {
      "cell_type": "code",
      "source": [
        "model.predict(vb1)"
      ],
      "metadata": {
        "colab": {
          "base_uri": "https://localhost:8080/"
        },
        "id": "cHgo5xSD_NQO",
        "outputId": "27ee7c88-6e31-4320-9aa7-fabccab3a318"
      },
      "execution_count": 23,
      "outputs": [
        {
          "output_type": "stream",
          "name": "stderr",
          "text": [
            "/usr/local/lib/python3.11/dist-packages/sklearn/utils/validation.py:2739: UserWarning: X does not have valid feature names, but DecisionTreeClassifier was fitted with feature names\n",
            "  warnings.warn(\n"
          ]
        },
        {
          "output_type": "execute_result",
          "data": {
            "text/plain": [
              "array([1])"
            ]
          },
          "metadata": {},
          "execution_count": 23
        }
      ]
    },
    {
      "cell_type": "code",
      "source": [
        "model.predict(vb2)"
      ],
      "metadata": {
        "colab": {
          "base_uri": "https://localhost:8080/"
        },
        "id": "iK8fT9bk_XnF",
        "outputId": "416ca13e-e964-4502-ff52-a79f23fbf3d0"
      },
      "execution_count": 26,
      "outputs": [
        {
          "output_type": "stream",
          "name": "stderr",
          "text": [
            "/usr/local/lib/python3.11/dist-packages/sklearn/utils/validation.py:2739: UserWarning: X does not have valid feature names, but DecisionTreeClassifier was fitted with feature names\n",
            "  warnings.warn(\n"
          ]
        },
        {
          "output_type": "execute_result",
          "data": {
            "text/plain": [
              "array([0])"
            ]
          },
          "metadata": {},
          "execution_count": 26
        }
      ]
    },
    {
      "cell_type": "code",
      "source": [
        "#Predict\n",
        "\n",
        "y_pred = model.predict(x_test)\n",
        "y_pred"
      ],
      "metadata": {
        "colab": {
          "base_uri": "https://localhost:8080/"
        },
        "id": "peotyI91_ZmN",
        "outputId": "67c1d2cd-461f-4b1d-f3da-bed51aa05b22"
      },
      "execution_count": 41,
      "outputs": [
        {
          "output_type": "execute_result",
          "data": {
            "text/plain": [
              "array([0, 0, 1, ..., 0, 1, 0])"
            ]
          },
          "metadata": {},
          "execution_count": 41
        }
      ]
    },
    {
      "cell_type": "markdown",
      "source": [
        "![image.png](data:image/png;base64,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)"
      ],
      "metadata": {
        "id": "nOVkSrlsv7CH"
      }
    },
    {
      "cell_type": "code",
      "source": [
        "#Metrics\n",
        "\n",
        "from sklearn.metrics import confusion_matrix, accuracy_score, precision_score, recall_score, f1_score,classification_report\n",
        "\n",
        "confusion_matrix(y_test,y_pred)"
      ],
      "metadata": {
        "colab": {
          "base_uri": "https://localhost:8080/"
        },
        "id": "9Zx67dQm_liE",
        "outputId": "1c41740d-c792-402c-e6b6-31a8cc7fe381"
      },
      "execution_count": 36,
      "outputs": [
        {
          "output_type": "execute_result",
          "data": {
            "text/plain": [
              "array([[25536,   748],\n",
              "       [  639,  1921]])"
            ]
          },
          "metadata": {},
          "execution_count": 36
        }
      ]
    },
    {
      "cell_type": "markdown",
      "source": [
        "![image.png](data:image/png;base64,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)"
      ],
      "metadata": {
        "id": "aPJAVDvLwPwP"
      }
    },
    {
      "cell_type": "code",
      "source": [
        "accuracy_score(y_test,y_pred)"
      ],
      "metadata": {
        "id": "xiqoqhY6APX_",
        "outputId": "eb834141-228d-4126-8350-290430c54b2a",
        "colab": {
          "base_uri": "https://localhost:8080/"
        }
      },
      "execution_count": 30,
      "outputs": [
        {
          "output_type": "execute_result",
          "data": {
            "text/plain": [
              "0.9519137428928026"
            ]
          },
          "metadata": {},
          "execution_count": 30
        }
      ]
    },
    {
      "cell_type": "markdown",
      "source": [
        "![image.png](data:image/png;base64,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)"
      ],
      "metadata": {
        "id": "pC02fblywZVV"
      }
    },
    {
      "cell_type": "code",
      "source": [
        "# Precision for class 1\n",
        "prec_class1 = precision_score(y_test,y_pred)\n",
        "\n",
        "# Precision for class 0\n",
        "prec_class0 = precision_score(y_test, y_pred, pos_label=0)"
      ],
      "metadata": {
        "id": "hnm1zC-AsaMt"
      },
      "execution_count": 45,
      "outputs": []
    },
    {
      "cell_type": "code",
      "source": [
        "prec_class1 , prec_class0"
      ],
      "metadata": {
        "id": "IJcrhz6V-bSn",
        "outputId": "1fdfa4c3-3144-4c25-c620-98fe790e9220",
        "colab": {
          "base_uri": "https://localhost:8080/"
        }
      },
      "execution_count": 46,
      "outputs": [
        {
          "output_type": "execute_result",
          "data": {
            "text/plain": [
              "(0.7197452229299363, 0.9755873925501433)"
            ]
          },
          "metadata": {},
          "execution_count": 46
        }
      ]
    },
    {
      "cell_type": "markdown",
      "source": [
        "![image.png](data:image/png;base64,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)"
      ],
      "metadata": {
        "id": "nSituD5_wiAi"
      }
    },
    {
      "cell_type": "code",
      "source": [
        "# Recall for class 1\n",
        "recall_class1 = recall_score(y_test,y_pred)\n",
        "\n",
        "# Recall for class 0\n",
        "recall_class0 = recall_score(y_test, y_pred, pos_label=0)"
      ],
      "metadata": {
        "id": "WsEd8hzNshsC"
      },
      "execution_count": 48,
      "outputs": []
    },
    {
      "cell_type": "code",
      "source": [
        "recall_class0 , recall_class1"
      ],
      "metadata": {
        "id": "a8TdCIHU_lyi",
        "outputId": "b64e7c06-8e1f-4275-f746-deb63570be83",
        "colab": {
          "base_uri": "https://localhost:8080/"
        }
      },
      "execution_count": 49,
      "outputs": [
        {
          "output_type": "execute_result",
          "data": {
            "text/plain": [
              "(0.9715416222797139, 0.750390625)"
            ]
          },
          "metadata": {},
          "execution_count": 49
        }
      ]
    },
    {
      "cell_type": "markdown",
      "source": [
        "![image.png](data:image/png;base64,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)"
      ],
      "metadata": {
        "id": "WO68qwAmwru9"
      }
    },
    {
      "cell_type": "code",
      "source": [
        "# f1 score for class 1\n",
        "f1_class1 = f1_score(y_test,y_pred)\n",
        "\n",
        "# f1 score for class 0\n",
        "f1_class0 = f1_score(y_test, y_pred, pos_label=0)"
      ],
      "metadata": {
        "id": "pftU7z0FsnfY"
      },
      "execution_count": 50,
      "outputs": []
    },
    {
      "cell_type": "code",
      "source": [
        "f1_class1 , f1_class0"
      ],
      "metadata": {
        "id": "kXvdFhUYAToU",
        "outputId": "224ea58d-04c9-4239-e417-61eab311f7b2",
        "colab": {
          "base_uri": "https://localhost:8080/"
        }
      },
      "execution_count": 51,
      "outputs": [
        {
          "output_type": "execute_result",
          "data": {
            "text/plain": [
              "(0.734748517881048, 0.9735603042375951)"
            ]
          },
          "metadata": {},
          "execution_count": 51
        }
      ]
    },
    {
      "cell_type": "code",
      "source": [
        "print(classification_report(y_test,y_pred))"
      ],
      "metadata": {
        "id": "wcHnLvhbAS4s",
        "outputId": "e9d0917f-4e71-431f-b2ef-2c23aca12b4a",
        "colab": {
          "base_uri": "https://localhost:8080/"
        }
      },
      "execution_count": 31,
      "outputs": [
        {
          "output_type": "stream",
          "name": "stdout",
          "text": [
            "              precision    recall  f1-score   support\n",
            "\n",
            "           0       0.98      0.97      0.97     26284\n",
            "           1       0.72      0.75      0.73      2560\n",
            "\n",
            "    accuracy                           0.95     28844\n",
            "   macro avg       0.85      0.86      0.85     28844\n",
            "weighted avg       0.95      0.95      0.95     28844\n",
            "\n"
          ]
        }
      ]
    },
    {
      "cell_type": "code",
      "source": [],
      "metadata": {
        "id": "aQZa63jLAWRM"
      },
      "execution_count": null,
      "outputs": []
    }
  ]
}